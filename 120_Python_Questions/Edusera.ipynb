{
  "nbformat": 4,
  "nbformat_minor": 0,
  "metadata": {
    "colab": {
      "name": "Edusera.ipynb",
      "provenance": [],
      "collapsed_sections": [
        "fjZZBHrwdsLV",
        "pqdtWcwqdvxo",
        "hRtQWS59dzoT",
        "UJnH7_urdzk_",
        "Xrav-cNcdzio",
        "39LuoPtgdzgQ",
        "tKwXS3kMgdPB",
        "S9_1oOFNdzbg",
        "d2IzgOiOdzZA",
        "Krz8KmGTdzWx",
        "MoPEjBkKdzUS",
        "2mV5vdwmdzR7",
        "aP0u5i7ldzMM",
        "WeEC9MQn-D6k",
        "uxB-FTzJ-GXN",
        "QekfmkNP92uy",
        "VMxxoJ6eN546",
        "WGJRJWvrXZAJ",
        "vjdZtfUVEMKj",
        "T8MxUmAljKcQ",
        "iIlz1Y7V2LYd",
        "aiweiEmCLvz_",
        "Ocml2eRgNOjK",
        "mG7_XaHuErqs",
        "DjNnQEtE_rZp",
        "ejsn_DT418KK",
        "uwthW1p8aba6",
        "_FeLS_4NVhhp",
        "XwHCaniCBM1S",
        "WjpdlAXHGvNj"
      ]
    },
    "kernelspec": {
      "display_name": "Python 3",
      "name": "python3"
    },
    "language_info": {
      "name": "python"
    }
  },
  "cells": [
    {
      "cell_type": "markdown",
      "metadata": {
        "id": "fjZZBHrwdsLV"
      },
      "source": [
        "#1"
      ]
    },
    {
      "cell_type": "code",
      "metadata": {
        "id": "fb9ISYom-1TS"
      },
      "source": [
        "def Userinput():\n",
        "  # getting string from user\n",
        "  String = input()\n",
        "  return (String,K)\n",
        "def compute(String,K):\n",
        "  if (K!=0):\n",
        "    #replacing punctuations\n",
        "    String = String.replace('.','')\n",
        "    String = String.replace(',','')\n",
        "    String = String.replace('!','')\n",
        "    String = String.replace('?','')\n",
        "    # splitting into individual words\n",
        "    temp = String.split(' ')\n",
        "    # removing words of length k and forming the string\n",
        "    res = [ele for ele in temp if len(ele) != K]\n",
        "    return (len(temp) - len(res))\n",
        "  else:\n",
        "    return -1\n",
        "#if __name__ == \"__main__\":\n",
        "  #String,K =Userinput()\n",
        "  #res=compute(String,K)\n",
        "  #print(res)"
      ],
      "execution_count": null,
      "outputs": []
    },
    {
      "cell_type": "code",
      "metadata": {
        "colab": {
          "base_uri": "https://localhost:8080/",
          "height": 86
        },
        "id": "hvJ8McOv_ASb",
        "outputId": "0e8794ad-94ee-4f20-9e97-782deb64d964"
      },
      "source": [
        "def Userinput():\n",
        "  # taking the string as input from the user\n",
        "  S=input()\n",
        "  return S\n",
        "def CharFreq(S):\n",
        "  #Counting the number of times a character has occured in the string and replacing\n",
        "  # the character with its frequency \n",
        "  A=''\n",
        "  flag=0\n",
        "  for i in range(len(S)):\n",
        "    for j in S:\n",
        "      if j==S[i]:\n",
        "        flag+=1\n",
        "    A=A+str(flag)\n",
        "    flag=0 \n",
        "  return A\n",
        "\"\"\"\n",
        "if __name__ == \"__main__\":\n",
        "  try:\n",
        "    q=int(input())\n",
        "  except:\n",
        "    print(\"q must be integer\")\n",
        "    q=0\n",
        "  A=''\n",
        "  while q>0:    \n",
        "    S=Userinput()\n",
        "    A=A+CharFreq(S)+'\\n'\n",
        "    q-=1\n",
        "  print(A)\n",
        "\"\"\"\n",
        "\"\"\"\n",
        "Given String S  consists of any characters.\n",
        "\n",
        "Compute string A where all the characters in the string S are replaced by their frequency\n",
        "\n",
        "0<q<10\n",
        "0<len(S)<10000\n",
        "len(A) must be equal to len(S)\n",
        "input 0:\n",
        "\n",
        "4\n",
        "\n",
        "hi!\n",
        "\n",
        "i am\n",
        "\n",
        "a good\n",
        "\n",
        "developer\n",
        "\n",
        "111 \n",
        "\n",
        "1111 \n",
        "\n",
        "11122\n",
        "\n",
        "131311131\n",
        "\n",
        "expiation:\n",
        "\n",
        "here the first line is q\n",
        "\n",
        "second third fourth and the fifth line are the strings S(s1,s2,s3,s4)\n",
        "\n",
        "and their corresponding output is shown in the following line where \n",
        "\n",
        "A1(111) is the frequency of the string s1(hi!)\n",
        " \"\"\""
      ],
      "execution_count": null,
      "outputs": [
        {
          "output_type": "execute_result",
          "data": {
            "application/vnd.google.colaboratory.intrinsic+json": {
              "type": "string"
            },
            "text/plain": [
              "'\\nGiven String S  consists of any characters.\\n\\nCompute string A where all the characters in the string S are replaced by their frequency\\n\\n0<q<10\\n0<len(S)<10000\\nlen(A) must be equal to len(S)\\ninput 0:\\n\\n4\\n\\nhi!\\n\\ni am\\n\\na good\\n\\ndeveloper\\n\\n111 \\n\\n1111 \\n\\n11122\\n\\n131311131\\n\\nexpiation:\\n\\nhere the first line is q\\n\\nsecond third fourth and the fifth line are the strings S(s1,s2,s3,s4)\\n\\nand their corresponding output is shown in the following line where \\n\\nA1(111) is the frequency of the string s1(hi!)\\n '"
            ]
          },
          "metadata": {
            "tags": []
          },
          "execution_count": 4
        }
      ]
    },
    {
      "cell_type": "code",
      "metadata": {
        "colab": {
          "base_uri": "https://localhost:8080/"
        },
        "id": "zZD5Zgap_Jmr",
        "outputId": "488f2ae8-627e-41f0-d8b2-e421c315e949"
      },
      "source": [
        "\"\"\"\n",
        "you are given the length of one of the sides of triangles,squares and pentagons with uniform side length.\n",
        "you have to sort the polygons according to their areas.\n",
        "\n",
        "q is the total number of polygons\n",
        "n represents the number of sides of the polygon\n",
        "  3- triangle\n",
        "  4- square\n",
        "  5- pentagon\n",
        "a is the length of the side of the polygon\n",
        "0<q<10\n",
        "3<=n<=5\n",
        "0<a<10000\n",
        "\"\"\"\n",
        "def userinput():\n",
        "  try:\n",
        "    #taking input in a sinple line\n",
        "    i=input().split()\n",
        "    n=int(i[0])\n",
        "    a=int(i[1])\n",
        "  except:\n",
        "    n=0\n",
        "    a=0\n",
        "  if n>5 or n<3 or a<1:\n",
        "    #heking for constraints\n",
        "    return -1,-1\n",
        "  else:\n",
        "    return n,a\n",
        "def triangle(a):\n",
        "  #area pf triangle\n",
        "  return 0.43301*a\n",
        "def square(a):\n",
        "  #area of square\n",
        "  return a*a\n",
        "def pentagon(a):\n",
        "  #area of pentagon\n",
        "  return 1.72048*a\n",
        "if __name__ == \"__main__\":\n",
        "  try :\n",
        "    q=int(input())\n",
        "  except:\n",
        "    q=0\n",
        "  area=[]\n",
        "  while q!=0:\n",
        "    n,a=userinput()\n",
        "    if (n!=0 or a!=0):\n",
        "      if n==3:\n",
        "        area.append((n,a,float(\"{:.2f}\".format(triangle(a)))))\n",
        "      elif n==4:\n",
        "        area.append((n,a,float(\"{:.2f}\".format(square(a)))))\n",
        "      else:\n",
        "        area.append((n,a,float(\"{:.2f}\".format(pentagon(a)))))\n",
        "      q-=1\n",
        "    else:\n",
        "      area.append((n,a,0))\n",
        "      q-=1\n",
        "  #sorting by last column in dda\n",
        "  a=sorted(area,key=lambda x: x[2])\n",
        "  for i in range(len(a)):\n",
        "    print(a[i][0],a[i][1])\n",
        "  "
      ],
      "execution_count": null,
      "outputs": [
        {
          "output_type": "stream",
          "text": [
            "5\n",
            "3 56\n",
            "2 9\n",
            "4 66\n",
            "5 89\n",
            "3 78\n",
            "-1 -1\n",
            "3 56\n",
            "3 78\n",
            "5 89\n",
            "4 66\n"
          ],
          "name": "stdout"
        }
      ]
    },
    {
      "cell_type": "code",
      "metadata": {
        "colab": {
          "base_uri": "https://localhost:8080/"
        },
        "id": "Z8lpeDRefnTC",
        "outputId": "f1cbff87-7dbb-4cd4-a660-0c83fdeec93f"
      },
      "source": [
        "def userinput():\n",
        "  try:\n",
        "    #taking input of List in a sinple line\n",
        "    List=[int(item) for item in input().split()]\n",
        "  except:\n",
        "    List=[0]    \n",
        "  try:\n",
        "    K=int(input())\n",
        "  except:\n",
        "    K=0\n",
        "  #List=[str(item) for item in List]\n",
        "  return List,K \n",
        "def compute(List,K):\n",
        "  res = []\n",
        "  for ele in List:\n",
        "    str_ele = str(ele)\n",
        "    #Subtracting each \n",
        "    new= int(''.join([ str(max(0, int(el) - K)) for el in str_ele]))\n",
        "    res.append(new)\n",
        "  return res\n",
        "if __name__ == \"__main__\":\n",
        "  String,K =userinput()\n",
        "  res=compute(String,K)\n",
        "  print(res)"
      ],
      "execution_count": null,
      "outputs": [
        {
          "output_type": "stream",
          "text": [
            "8989895 78998 215245 454878 456456\n",
            "a\n",
            "[8989895, 78998, 215245, 454878, 456456]\n"
          ],
          "name": "stdout"
        }
      ]
    },
    {
      "cell_type": "markdown",
      "metadata": {
        "id": "pqdtWcwqdvxo"
      },
      "source": [
        "#2"
      ]
    },
    {
      "cell_type": "code",
      "metadata": {
        "colab": {
          "base_uri": "https://localhost:8080/"
        },
        "id": "athosEUlqmDb",
        "outputId": "79f08ff6-f7cb-4087-d041-edd8cbddcd26"
      },
      "source": [
        "\"\"\"\n",
        "Travel to the end of the array \n",
        "you are given a list L consisting of integers\n",
        "the element Li represents the maximum  \n",
        "\"\"\"\n",
        "def userinput():\n",
        "  try:\n",
        "    #taking input of List in a single line\n",
        "    List=[int(item) for item in input().split()]\n",
        "  except:\n",
        "    List=[]    \n",
        "  return List\n",
        "\n",
        "def Travel(LST):\n",
        "  if len(LST)<2:\n",
        "    return False\n",
        "  elif (0 in LST[LST[0]:-1]):\n",
        "    return False\n",
        "  elif LST[0]>len(LST)-1:\n",
        "    return False\n",
        "  else:\n",
        "    return True\n",
        "if __name__ == \"__main__\":\n",
        "  List=userinput()\n",
        "  print(Travel(List))"
      ],
      "execution_count": null,
      "outputs": [
        {
          "output_type": "stream",
          "text": [
            "3 5 8 9 1 5 6 1 55 2 0\n",
            "True\n"
          ],
          "name": "stdout"
        }
      ]
    },
    {
      "cell_type": "code",
      "metadata": {
        "colab": {
          "base_uri": "https://localhost:8080/"
        },
        "id": "OqrH-C1jduA0",
        "outputId": "18658476-ab5c-46bb-8ac2-947057929cea"
      },
      "source": [
        "\"\"\"\n",
        "Decode:\n",
        "You are given a string S consisting of two digit numbers each representing the position the letter in the english alphabets and the words are seperated by spaces\n",
        "write a program to replace each letter of the string by its corresponding letters, capitalize the first letter and put a '.' at the end of your string.\n",
        "\n",
        "\"\"\"\n",
        "def Userinput():\n",
        "  # getting string from user\n",
        "  String = input()\n",
        "  return (String.lower().split())\n",
        "def encode(List):\n",
        "  pos='abcdefghijklmnopqrstuvwxyz'\n",
        "  encoded=''\n",
        "  i=0\n",
        "  for ele in List:\n",
        "    for i in range(len(ele)):\n",
        "      p=((pos.find(ele[i])+1)+(K%26))%26\n",
        "  return encoded[:-1]\n",
        "if __name__ == \"__main__\":\n",
        "  String =Userinput()\n",
        "  encoded=encode(String)\n",
        "  print(encoded)\n",
        "\n"
      ],
      "execution_count": null,
      "outputs": [
        {
          "output_type": "stream",
          "text": [
            "How will the know\n",
            "081523 23091212 200805 11141523\n"
          ],
          "name": "stdout"
        }
      ]
    },
    {
      "cell_type": "code",
      "metadata": {
        "colab": {
          "base_uri": "https://localhost:8080/"
        },
        "id": "MQm5X1YNgUC4",
        "outputId": "25e78a50-d1c8-46ed-a9d4-60f9eadf03ed"
      },
      "source": [
        "def userinput():\n",
        "  List=[item for item in input().split()]\n",
        "  try:\n",
        "    x =[int(item) for item in List]\n",
        "  except:\n",
        "    List=[]    \n",
        "  return List\n",
        "def decode(List):\n",
        "  pos='abcdefghijklmnopqrstuvwxyz'\n",
        "  encoded=''\n",
        "  i=0\n",
        "  for ele in List:\n",
        "    if len(ele)%2==0:    \n",
        "      for i in range(0,len(ele),2):\n",
        "        if int(ele[i:i+2])<1 or int(ele[i:i+2])>26:\n",
        "          return ''\n",
        "        else:\n",
        "          encoded=encoded+pos[(int(ele[i:i+2])-1)]\n",
        "      encoded=encoded+' '\n",
        "    else:\n",
        "      return ''\n",
        "  decoded= encoded[0].upper()+encoded[1:-1]+'.'\n",
        "  return decoded\n",
        "if __name__ == \"__main__\":\n",
        "  String =userinput()\n",
        "  decoded=decode(String)\n",
        "  print(decoded)\n",
        "\n"
      ],
      "execution_count": null,
      "outputs": [
        {
          "output_type": "stream",
          "text": [
            "081523 23091212 200805 11141523\n",
            "How will the know.\n"
          ],
          "name": "stdout"
        }
      ]
    },
    {
      "cell_type": "code",
      "metadata": {
        "colab": {
          "base_uri": "https://localhost:8080/"
        },
        "id": "kOatvWVu4Qb1",
        "outputId": "56cf2090-b6ee-4607-ce55-26fc250cebf4"
      },
      "source": [
        "def userinput():\n",
        "  List=[item for item in input().split()]\n",
        "  try:\n",
        "    x =[int(item) for item in List]\n",
        "  except:\n",
        "    List=[]    \n",
        "  return List\n",
        "def decode(List):\n",
        "  pos='abcdefghijklmnopqrstuvwxyz'\n",
        "  encoded=''\n",
        "  i=0\n",
        "  for ele in List:\n",
        "    if len(ele)%2==0:    \n",
        "      for i in range(0,len(ele),2):\n",
        "        if int(ele[i:i+2])<1 or int(ele[i:i+2])>26:\n",
        "          return ''\n",
        "        else:\n",
        "          encoded=encoded+pos[(int(ele[i:i+2])-1)]\n",
        "      encoded=encoded+' '\n",
        "    else:\n",
        "      return ''\n",
        "  decoded= encoded[0].upper()+encoded[1:-1]+'.'\n",
        "  return decoded\n",
        "if __name__ == \"__main__\":\n",
        "  String =userinput()\n",
        "  decoded=decode(String)\n",
        "  print(decoded)\n",
        "\n"
      ],
      "execution_count": null,
      "outputs": [
        {
          "output_type": "stream",
          "text": [
            "010101 010101\n"
          ],
          "name": "stdout"
        },
        {
          "output_type": "execute_result",
          "data": {
            "text/plain": [
              "['010101', '010101']"
            ]
          },
          "metadata": {
            "tags": []
          },
          "execution_count": 69
        }
      ]
    },
    {
      "cell_type": "markdown",
      "metadata": {
        "id": "hRtQWS59dzoT"
      },
      "source": [
        "#3"
      ]
    },
    {
      "cell_type": "code",
      "metadata": {
        "colab": {
          "base_uri": "https://localhost:8080/"
        },
        "id": "q7WOpejB4WOy",
        "outputId": "917dc9e8-e296-427d-de60-16811cec4879"
      },
      "source": [
        "\"\"\"\n",
        "Encode-II \n",
        "You are given a string S consisting of letters and spaces \n",
        "and an integer K (can be both negative or positive)\n",
        "you have to replace each of the characters by their position in the english alphabet(2 digit) adding the value of K to it\n",
        "eg:\n",
        "the position of a is 01 if k=-1 we get 26 which is the position of z\n",
        "if the user enters a number in side the string the program stops without output.\n",
        "\"\"\"\n",
        "def Userinput():\n",
        "  # getting string from user\n",
        "  List=[item for item in input().lower().split()]\n",
        "  try:\n",
        "    K=int(input())\n",
        "  except:\n",
        "    K=0\n",
        "  try:\n",
        "    x =[int(item) for item in List]\n",
        "    return '',0\n",
        "  except:\n",
        "    return List,K\n",
        "def encode(List,K):\n",
        "  pos='abcdefghijklmnopqrstuvwxyz'\n",
        "  encoded=''\n",
        "  i=0\n",
        "  for ele in List:\n",
        "    for i in range(len(ele)):\n",
        "      if K<0:\n",
        "        #changing negative number to positive equivalent\n",
        "        K=K+26\n",
        "      p=((pos.find(ele[i])+1)+(K%26))%26\n",
        "      if p==0:\n",
        "        # setting poition 00 as 26\n",
        "        p=p+26\n",
        "      if p<10:\n",
        "        #converting to 2 digits\n",
        "        encoded=encoded+'0'+str(p)\n",
        "      else:\n",
        "        encoded=encoded+str(p)\n",
        "    encoded=encoded+' '\n",
        "  return encoded[:-1]\n",
        "if __name__ == \"__main__\":\n",
        "  String,K =Userinput()\n",
        "  encoded=encode(String,K)\n",
        "  print(encoded)\n"
      ],
      "execution_count": null,
      "outputs": [
        {
          "output_type": "stream",
          "text": [
            "hi hope you are well\n",
            "29\n",
            "1112 11181908 021824 042108 26081515\n"
          ],
          "name": "stdout"
        }
      ]
    },
    {
      "cell_type": "code",
      "metadata": {
        "colab": {
          "base_uri": "https://localhost:8080/"
        },
        "id": "ZuUtsR-WdVNF",
        "outputId": "c754dbfd-93f1-4535-e012-786ce1da60a6"
      },
      "source": [
        "\"\"\"\n",
        "Decode-II \n",
        "You are given a string S consisting of numbers where each two digit number represents an alphabet moved by K places (can be both negative or positive)\n",
        "you have to replace each of 2 digit number by their english alphabet after subrating the value of K to it.\n",
        "eg:\n",
        "the position of a is 01 if k=-1 we get 26 which is the position of z\n",
        "if the user enters a number in side the string the program stops without output.\n",
        "\"\"\"\n",
        "def userinput():\n",
        "  List=[item for item in input().split()]\n",
        "  try:\n",
        "    k=int(input())\n",
        "  except:\n",
        "    k=0\n",
        "  try:\n",
        "    x =[int(item) for item in List]\n",
        "  except:\n",
        "    List=[]    \n",
        "  return List,k\n",
        "def decode(List,K):\n",
        "  K=K%26\n",
        "  pos='abcdefghijklmnopqrstuvwxyz'\n",
        "  encoded=''\n",
        "  i=0\n",
        "  for ele in List:\n",
        "    if len(ele)%2==0:    \n",
        "      for i in range(0,len(ele),2):\n",
        "        if int(ele[i:i+2])<1 or int(ele[i:i+2])>26:\n",
        "          return ''\n",
        "        else:\n",
        "          encoded=encoded+pos[((int(ele[i:i+2])-1)-K)%26]\n",
        "      encoded=encoded+' '\n",
        "    else:\n",
        "      return ''\n",
        "  decoded= encoded[:-1]\n",
        "  return decoded\n",
        "if __name__ == \"__main__\":\n",
        "  String,K=userinput()\n",
        "  decoded=decode(String,K)\n",
        "  print(decoded)\n",
        "\n"
      ],
      "execution_count": null,
      "outputs": [
        {
          "output_type": "stream",
          "text": [
            "01 01 01\n",
            "s\n",
            "a a a\n"
          ],
          "name": "stdout"
        }
      ]
    },
    {
      "cell_type": "code",
      "metadata": {
        "colab": {
          "base_uri": "https://localhost:8080/"
        },
        "id": "gcQGprPc_V-T",
        "outputId": "fc9884a9-dc0e-4a28-aceb-cb0680b2e119"
      },
      "source": [
        "\"\"\" Capitalize \n",
        "write a program to convert a lower case string S to upper case string without using library functions \n",
        "the string s can be of any length and can contain special characters or capital letters. \n",
        "\"\"\"\n",
        "def Userinput():\n",
        "  # getting string from user\n",
        "  String = input()\n",
        "  return (String)\n",
        "def upper(string):\n",
        "  # since the difference between the capitals and the lowwercase is 32 we deduct 32\n",
        "  upper=''\n",
        "  for i in string:\n",
        "    if ord(i)>96 and ord(i)<123:\n",
        "      upper=upper+chr(ord(i)-32)\n",
        "    else:\n",
        "      upper=upper+i\n",
        "  return upper\n",
        "if __name__ == \"__main__\":\n",
        "  String=Userinput()\n",
        "  upper=upper(String)\n",
        "  print(upper)\n"
      ],
      "execution_count": null,
      "outputs": [
        {
          "output_type": "stream",
          "text": [
            "When the days are over........ -1 -2 -3 `\n",
            "WHEN THE DAYS ARE OVER........ -1 -2 -3 `\n"
          ],
          "name": "stdout"
        }
      ]
    },
    {
      "cell_type": "code",
      "metadata": {
        "colab": {
          "base_uri": "https://localhost:8080/"
        },
        "id": "BWgPffK-_7HD",
        "outputId": "8fef8223-6b5e-4999-a297-c11483dc0cc5"
      },
      "source": [
        "\"\"\"\n",
        "you are given a list of tuples containing integers and an integer k as an input\n",
        "write a program to find the sum of the all the digits in the tuple\n",
        "and sort the list in the ascending order by their sum of the digits\n",
        "eg:\n",
        "input:\n",
        "T=[(12,11),(13,23),(78,45)]\n",
        "output:\n",
        "L=[(78,45),(13,23),(12,11)]\n",
        "explaination:\n",
        "since \n",
        "(78,45)= 7+8+4+5=24 \n",
        "(13,23)=1+3+2+3=9\n",
        "(12,11)=1+2+1+1=5\n",
        "Input format\n",
        "the tuple elements are seperated by ',' and the tuples are seperated by ' '\n",
        "\"\"\"\n",
        "def Userinput():\n",
        "  # getting string from user\n",
        "  T=[]\n",
        "  #splitting the string by space to get the tuples\n",
        "  L = input().split()\n",
        "  for i in L:\n",
        "    t=i.split(',')\n",
        "    try:\n",
        "      #checking to see for characters\n",
        "      a=[int(a) for a in t]\n",
        "    except:\n",
        "      return [()]\n",
        "    T.append(tuple(a))\n",
        "  return T\n",
        "def findsum(tup):\n",
        "  sum=0\n",
        "  for i in range(len(tup)):\n",
        "    for j in str(tup[i]):\n",
        "      sum=sum+int(j)\n",
        "  return sum\n",
        "def sort(L):\n",
        "  for i in range(len(L)-1):\n",
        "    for j in range(len(L)-i-1):  \n",
        "      if findsum(L[j])>findsum(L[j+1]):\n",
        "        buf=L[j]\n",
        "        L[j]=L[j+1]\n",
        "        L[j+1]=buf\n",
        "  return L\n",
        "if __name__ == \"__main__\":\n",
        "  T=Userinput()\n",
        "  T=sort(T)\n",
        "  print(T)\n"
      ],
      "execution_count": null,
      "outputs": [
        {
          "output_type": "stream",
          "text": [
            "565,999,89 12155.9999\n",
            "[()]\n"
          ],
          "name": "stdout"
        }
      ]
    },
    {
      "cell_type": "code",
      "metadata": {
        "colab": {
          "base_uri": "https://localhost:8080/"
        },
        "id": "U50DA74G9KTE",
        "outputId": "2821b37e-8142-4a04-d31e-3d3a8944ae43"
      },
      "source": [
        "\"\"\"\n",
        "you are given a list of tuples containing integers and an integer k as an input\n",
        "write a program to find the average of the all the digits in the tuple\n",
        "and sort the list in the ascending order by their average of their digits\n",
        "eg:\n",
        "input:\n",
        "T=[(12,11),(13,23),(78,45)]\n",
        "output:\n",
        "L=[(12,11),(13,23),(78,45)]\n",
        "explaination:\n",
        "since \n",
        "(78,45)= 7+8+4+5=24/4=6 \n",
        "(13,23)=1+3+2+3=9/4=2.25\n",
        "(12,11)=1+2+1+1=5/4=1.25\n",
        "Input format\n",
        "the tuple elements are seperated by ',' and the tuples are seperated by ' '\n",
        "\"\"\"\n",
        "def Userinput():\n",
        "  # getting string from user\n",
        "  T=[]\n",
        "  #splitting the string by space to get the tuples\n",
        "  L = input().split()\n",
        "  for i in L:\n",
        "    t=i.split(',')\n",
        "    try:\n",
        "      #checking to see for characters\n",
        "      a=[int(a) for a in t]\n",
        "    except:\n",
        "      return [()]\n",
        "    T.append(tuple(a))\n",
        "  return T\n",
        "def findavg(tup):\n",
        "  sum=0\n",
        "  count=0\n",
        "  for i in range(len(tup)):\n",
        "    for j in str(tup[i]):\n",
        "      count+=1\n",
        "      sum=sum+int(j)\n",
        "  return sum/count\n",
        "def sort(L):\n",
        "  for i in range(len(L)-1):\n",
        "    for j in range(len(L)-i-1):\n",
        "      if findavg(L[j])>findavg(L[j+1]):\n",
        "        buf=L[j]\n",
        "        L[j]=L[j+1]\n",
        "        L[j+1]=buf\n",
        "  return L\n",
        "if __name__ == \"__main__\":\n",
        "  T=Userinput()\n",
        "  T=sort(T)\n",
        "  print(T)\n"
      ],
      "execution_count": null,
      "outputs": [
        {
          "output_type": "stream",
          "text": [
            "this, is a wrong input\n",
            "[()]\n"
          ],
          "name": "stdout"
        }
      ]
    },
    {
      "cell_type": "markdown",
      "metadata": {
        "id": "UJnH7_urdzk_"
      },
      "source": [
        "#4"
      ]
    },
    {
      "cell_type": "code",
      "metadata": {
        "colab": {
          "base_uri": "https://localhost:8080/"
        },
        "id": "utOb3pRL9XBL",
        "outputId": "923815cb-ffaa-4753-800d-abd9c22a5ad6"
      },
      "source": [
        "\"\"\"\n",
        "You are given a list L, \n",
        "write a Python program to group each increasing and decreasing run ie  monotonous grouping.  \n",
        "A list is monotonic if it is either monotone increasing or monotone decreasing. \n",
        "A list A is monotone decreasing if for all i <= j, A[i] >= A[j].\n",
        "\"\"\"\n",
        "def userinput():\n",
        "  try:\n",
        "    #taking input of List in a single line\n",
        "    List=[int(item) for item in input().split()]\n",
        "  except:\n",
        "    List=[]    \n",
        "  return List\n",
        "\n",
        "def Monotonous(test_list):\n",
        "  res = []\n",
        "  temp = []\n",
        "  is_up = True \n",
        "  if test_list[0] > test_list[1]:\n",
        "      is_up = False\n",
        "  for curr, nex in zip(test_list, test_list[1:]):\n",
        "      temp.append(curr)\n",
        "      # checking for trends\n",
        "      if (nex > curr and not is_up) or (nex < curr and is_up):\n",
        "          res.append(temp)\n",
        "          temp = []\n",
        "          # toggling \n",
        "          is_up = not is_up\n",
        "  temp.append(nex)\n",
        "  res.append(temp)\n",
        "  return res\n",
        "# printing result\n",
        "if __name__ == \"__main__\":\n",
        "  L=userinput()\n",
        "  if len(L)<2:\n",
        "    print(L)\n",
        "  else:\n",
        "    T=Monotonous(L)\n",
        "    print(T)"
      ],
      "execution_count": null,
      "outputs": [
        {
          "output_type": "stream",
          "text": [
            "1 566 788 2 55 11 55 226\n",
            "[[1, 566, 788], [2], [55], [11], [55, 226]]\n"
          ],
          "name": "stdout"
        }
      ]
    },
    {
      "cell_type": "code",
      "metadata": {
        "colab": {
          "base_uri": "https://localhost:8080/"
        },
        "id": "KCV--HvMvrL-",
        "outputId": "e1e189ce-fc7d-4de9-963d-394b315b3276"
      },
      "source": [
        "# Write a Python program to split circular linked list into two halves if there are odd numbers of elements then the first list will have one extra element\n",
        "\n",
        "# A node structure\n",
        "class Node:\n",
        "\t\n",
        "\t# Constructor to create a new node\n",
        "\tdef __init__(self, data):\n",
        "\t\tself.data = data\n",
        "\t\tself.next = None\n",
        "\n",
        "\n",
        "# Class to create a new Circular Linked list\n",
        "class CircularLinkedList:\n",
        "\t\n",
        "\tdef __init__(self):\n",
        "\t\tself.head = None\n",
        "\n",
        "\t# Function to insert a node at the beginning of a circular queue\n",
        "\tdef push(self, data):\n",
        "\t\tptr1 = Node(data)\n",
        "\t\ttemp = self.head\n",
        "\t\t\n",
        "\t\tptr1.next = self.head\n",
        "\n",
        "\t\t# If linked list is not None then set the next of\n",
        "\t\t# last node\n",
        "\t\tif self.head is not None:\n",
        "\t\t\twhile(temp.next != self.head):\n",
        "\t\t\t\ttemp = temp.next\n",
        "\t\t\ttemp.next = ptr1\n",
        "\n",
        "\t\telse:\n",
        "\t\t\tptr1.next = ptr1 # For the first node\n",
        "\n",
        "\t\tself.head = ptr1\n",
        "\n",
        "\t# Function to print nodes in a given circular queue\n",
        "\tdef printList(self):\n",
        "\t\ttemp = self.head\n",
        "\t\tif self.head is not None:\n",
        "\t\t\twhile(True):\n",
        "\t\t\t\tprint ((temp.data),end=\" \")\n",
        "\t\t\t\ttemp = temp.next\n",
        "\t\t\t\tif (temp == self.head):\n",
        "\t\t\t\t\tbreak\n",
        "\n",
        "\n",
        "\tdef splitList(self, head1, head2):\n",
        "\t\tslow_ptr = self.head\n",
        "\t\tfast_ptr = self.head\n",
        "\t\n",
        "\t\tif self.head is None:\n",
        "\t\t\treturn\n",
        "\t\t\n",
        "\t\twhile(fast_ptr.next != self.head and\n",
        "\t\t\tfast_ptr.next.next != self.head ):\n",
        "\t\t\tfast_ptr = fast_ptr.next.next\n",
        "\t\t\tslow_ptr = slow_ptr.next\n",
        "\n",
        "\t\t# If there are even elements in list then fast_ptr \n",
        "    #becomes the head for even nodes\n",
        "\t\tif fast_ptr.next.next == self.head:\n",
        "\t\t\tfast_ptr = fast_ptr.next\n",
        "\n",
        "\t\t# Set the head pointer of first half\n",
        "\t\thead1.head = self.head\n",
        "\n",
        "\t\t# Set the head pointer of second half\n",
        "\t\tif self.head.next != self.head:\n",
        "\t\t\thead2.head = slow_ptr.next\n",
        "\n",
        "\t\t# Make second half circular\n",
        "\t\tfast_ptr.next = slow_ptr.next\n",
        "\t\n",
        "\t\t# Make first half circular\n",
        "\t\tslow_ptr.next = self.head\n",
        "def userinput():\n",
        "  try:\n",
        "    #taking input of List in a single line\n",
        "    List=[item for item in input().split()]\n",
        "  except:\n",
        "    List=[]    \n",
        "  return List\n",
        "\n",
        "# Initialize lists as empty\n",
        "head = CircularLinkedList()\n",
        "head1 = CircularLinkedList()\n",
        "head2 = CircularLinkedList()\n",
        "for i in reversed(userinput()):\n",
        "  head.push(i)\n",
        "# Splitting the list\n",
        "head.splitList(head1 , head2)\n",
        "head1.printList()\n",
        "print()\n",
        "head2.printList()"
      ],
      "execution_count": null,
      "outputs": [
        {
          "output_type": "stream",
          "text": [
            "1 2 -3 6 9 -78\n",
            "1 2 -3 \n",
            "6 9 -78 "
          ],
          "name": "stdout"
        }
      ]
    },
    {
      "cell_type": "code",
      "metadata": {
        "colab": {
          "base_uri": "https://localhost:8080/"
        },
        "id": "zWcZGF3n_Hje",
        "outputId": "73c77391-36fe-49b1-f5da-b4b01163f4cf"
      },
      "source": [
        "\"\"\"\n",
        "Given a number n, print all primes smaller than n. \n",
        "For example, if the given number is 10, output 2, 3, 5, 7.\n",
        "Using sieve of Eratosthenes algorithm:\n",
        "To find all the prime numbers less than or equal to 30, proceed as follows.\n",
        "First, generate a list of integers from 2 to 30:\n",
        "2  3  4  5  6  7  8  9  10 11 12 13 14 15 16 17 18 19 20\n",
        "The first number in the list is 2; cross out every 2nd number in the list after 2 \n",
        "by counting up from 2 in increments of 2 (these will be all the multiples of 2 in the list):\n",
        "2  3    5    7    9   11  13  15  17  19 \n",
        "The next number in the list after 2 is 3; cross out every 3rd number in the list after 3 \n",
        "by counting up from 3 in increments of 3 (these will be all the multiples of 3 in the list):\n",
        "2 3 5 7 11 13 17 19 \n",
        "and repeat till all numbers till n\n",
        "\"\"\"\n",
        "\"\"\"\n",
        "pseudo code for seive of erathosthenes\n",
        "algorithm Sieve of Eratosthenes is\n",
        "    input: an integer n > 1.\n",
        "    output: all prime numbers from 2 through n.\n",
        "\n",
        "    let A be an array of Boolean values, indexed by integers 2 to n,\n",
        "    initially all set to true.\n",
        "    \n",
        "    for i = 2, 3, 4, ..., not exceeding √n do\n",
        "        if A[i] is true\n",
        "            for j = i2, i2+i, i2+2i, i2+3i, ..., not exceeding n do\n",
        "                A[j] := false\n",
        "\n",
        "    return all i such that A[i] is true.\n",
        "\"\"\"\n",
        "# using simple sieve of eratosthenes find all the prime numbers smaller than n.\n",
        "def SieveOfEratosthenes(n):\n",
        "    prime = [True for i in range(n + 1)]\n",
        "    p = 2\n",
        "    while (p * p <= n):      \n",
        "        if (prime[p] == True):\n",
        "            for i in range(p * 2, n + 1, p):\n",
        "                prime[i] = False\n",
        "        p += 1\n",
        "    prime[0]= False\n",
        "    prime[1]= False\n",
        "    for p in range(n + 1):\n",
        "        if prime[p]:\n",
        "            print(p,end=\" \")\n",
        "if __name__=='__main__':\n",
        "    try:\n",
        "      n=int(input())\n",
        "      SieveOfEratosthenes(n)\n",
        "    except:\n",
        "      n=0"
      ],
      "execution_count": 15,
      "outputs": [
        {
          "output_type": "stream",
          "text": [
            "2\n",
            "2 "
          ],
          "name": "stdout"
        }
      ]
    },
    {
      "cell_type": "code",
      "metadata": {
        "colab": {
          "base_uri": "https://localhost:8080/"
        },
        "id": "D-lFe4EDCOVn",
        "outputId": "da523dcf-dcc9-4788-b9c5-7695b8d86904"
      },
      "source": [
        "\"\"\"\n",
        " Write a Program that takes the value of a,b,n in the equation (a+bx)^n and returns the Binomial expansion of the equation using recursion. \n",
        " For example, your function should return 6 for n = 4 and k = 2, and it should return 10 for n = 5 and k = 2.\n",
        " A naive recursive Python implementation\n",
        "\"\"\"\n",
        "def binomialCoeff(n, k):\n",
        "    if k > n:\n",
        "        return 0\n",
        "    if k == 0 or k == n:\n",
        "        return 1\n",
        "     # Recursive Call\n",
        "    return binomialCoeff(n-1, k-1) + binomialCoeff(n-1, k)\n",
        "def Printeqn(a,b,n):\n",
        "  import math\n",
        "  for i in range(0,n):\n",
        "    print(str(int(binomialCoeff(n,i)*math.pow(a,n-i)*math.pow(b,i)))+\"x^\"+str((i)),end=\"+ \")\n",
        "  print(str(int(binomialCoeff(n,n)*math.pow(a,0)*math.pow(b,n)))+\"x^\"+str(n))\n",
        "\n",
        "\n",
        "def userinput():\n",
        "  try:\n",
        "    #taking input of List in a single line\n",
        "    List=[int(item) for item in input().split()]\n",
        "  except:\n",
        "    List=[0,0,0]    \n",
        "  return List[0],List[1],List[2]\n",
        "\n",
        "if __name__=='__main__':\n",
        "    a,b,n=userinput()\n",
        "    if (a,b,n)!=(0,0,0):\n",
        "      Printeqn(a,b,n)\n",
        "    else:\n",
        "      print()"
      ],
      "execution_count": null,
      "outputs": [
        {
          "output_type": "stream",
          "text": [
            "a b c\n",
            "\n"
          ],
          "name": "stdout"
        }
      ]
    },
    {
      "cell_type": "markdown",
      "metadata": {
        "id": "Xrav-cNcdzio"
      },
      "source": [
        "#5"
      ]
    },
    {
      "cell_type": "code",
      "metadata": {
        "id": "ZO7hz-6-yLe-"
      },
      "source": [
        "\"\"\"\n",
        "Write a python program to impliment linked lists with python\n",
        "The user will input give a list L you have to store that data in a linked list and \n",
        "write a function that will reverse the link list in the same linked list.\n",
        "\"\"\"\n",
        "class Node:\n",
        "    # Function to initialise the node object\n",
        "    def __init__(self, data):\n",
        "        self.data = data # Assign data\n",
        "        self.next = None # Initialize next as null\n",
        " \n",
        "# Linked List class contains a Node object\n",
        "class LinkedList:\n",
        " \n",
        "    # Function to initialize head\n",
        "    def __init__(self):\n",
        "        self.head = None\n",
        " \n",
        " \n",
        "    # This function is in LinkedList class. It inserts\n",
        "    # a new node at the beginning of Linked List.\n",
        "    def push(self, new_data):\n",
        " \n",
        "        # 1 & 2: Allocate the Node &\n",
        "        #     Put in the data\n",
        "        new_node = Node(new_data)\n",
        " \n",
        "        # 3. Make next of new Node as head\n",
        "        new_node.next = self.head\n",
        " \n",
        "        # 4. Move the head to point to new Node\n",
        "        self.head = new_node\n",
        " \n",
        "    # This function counts number of nodes in Linked List\n",
        "    # iteratively, given 'node' as starting node.\n",
        "    def getCount(self):\n",
        "        temp = self.head # Initialise temp\n",
        "        count = 0 # Initialise count\n",
        " \n",
        "        # Loop while end of linked list is not reached\n",
        "        while (temp):\n",
        "            count += 1\n",
        "            temp = temp.next\n",
        "        return count\n",
        "    def reverse(self):\n",
        "        prev = None\n",
        "        current = self.head\n",
        "        while (current is not None):\n",
        "            next = current.next\n",
        "            current.next = prev\n",
        "            prev = current\n",
        "            current = next\n",
        "        self.head = prev\n",
        "    def printList(self):\n",
        "        temp = self.head # Initialise temp\n",
        "        count=0\n",
        "        # Loop while end of linked list is not reached\n",
        "        while (temp):\n",
        "            print(temp.data,end=\" \")\n",
        "            count+=1\n",
        "            temp = temp.next\n",
        "        print()\n",
        "# Code execution starts here\n",
        "if __name__=='__main__':\n",
        "  try:\n",
        "  #taking input of List in a single line\n",
        "    List=[int(item) for item in input().split()]\n",
        "  except:\n",
        "    List=[]    \n",
        "  list1 = LinkedList()\n",
        "  for ele in reversed(List):\n",
        "    list1.push(ele)  \n",
        "  list1.printList()\n",
        "  list1.reverse()\n",
        "  list1.printList()"
      ],
      "execution_count": null,
      "outputs": []
    },
    {
      "cell_type": "code",
      "metadata": {
        "colab": {
          "base_uri": "https://localhost:8080/"
        },
        "id": "XHqhXeqlwqP-",
        "outputId": "db9d5d24-8f53-4792-ac61-474c85bf3098"
      },
      "source": [
        "\"\"\"\n",
        "write a program to find the smallest out of 3 numbers \n",
        "without using any comparison operators(<,>,==)\n",
        "\"\"\"\n",
        "def min(a,b,c):\n",
        "  smallest=0\n",
        "  while(a and b and c):\n",
        "    a-=1\n",
        "    b-=1\n",
        "    c-=1\n",
        "    smallest=smallest+1\n",
        "  return smallest\n",
        "if __name__=='__main__':\n",
        "  try:\n",
        "    List=[int(item) for item in input().split()]\n",
        "  except:\n",
        "    List=[]    \n",
        "  if(len(List)):\n",
        "    print(min(List[0],List[1],List[2]))"
      ],
      "execution_count": null,
      "outputs": [
        {
          "output_type": "stream",
          "text": [
            "-89 23 -8999553\n",
            "23\n"
          ],
          "name": "stdout"
        }
      ]
    },
    {
      "cell_type": "code",
      "metadata": {
        "id": "3tMhJJ_m4H5B"
      },
      "source": [
        "\"\"\"\n",
        "Write a program to sort a linked list in the ascending order.\n",
        "\n",
        "\"\"\"\n",
        "class Node:\n",
        "  def __init__(self):\n",
        "    self.data = None\n",
        "    self.next = None\n",
        "\n",
        "class LinkedList:\n",
        "  def __init__(self):\n",
        "    self.head = None\n",
        "\n",
        "  def addNode(self, data):\n",
        "    curr = self.head\n",
        "    if curr is None:\n",
        "      n = Node()\n",
        "      n.data = data\n",
        "      self.head = n\n",
        "      return\n",
        "    if curr.data > data:\n",
        "      n = Node()\n",
        "      n.data = data\n",
        "      n.next = curr\n",
        "      self.head = n\n",
        "      return\n",
        "\n",
        "    while curr.next is not None:\n",
        "      if curr.next.data > data:\n",
        "        break\n",
        "      curr = curr.next\n",
        "    n = Node()\n",
        "    n.data = data\n",
        "    n.next = curr.next\n",
        "    curr.next = n\n",
        "    return\n",
        "\n",
        "if __name__=='__main__':\n",
        "  try:\n",
        "    List=[int(item) for item in input().split()]\n",
        "  except:\n",
        "    List=[]    \n",
        "  ll = LinkedList()\n",
        "  for ele in List:\n",
        "    ll.addNode(ele)\n",
        "  c = ll.head\n",
        "  while c is not None:\n",
        "    print(c.data,end=\" \")\n",
        "    c = c.next"
      ],
      "execution_count": null,
      "outputs": []
    },
    {
      "cell_type": "code",
      "metadata": {
        "colab": {
          "base_uri": "https://localhost:8080/"
        },
        "id": "bkCkXOBiBt8Y",
        "outputId": "70db8445-a5d1-4b2f-dd89-e7554da24230"
      },
      "source": [
        "def swapBits(x) :\n",
        "    even_bits = x & 0xAAAAAAAA\n",
        "    odd_bits  = x & 0x55555555  \n",
        "    # Right shifting even bits\n",
        "    even_bits >>= 1\n",
        "     \n",
        "    # Left shifting odd bits\n",
        "    odd_bits <<= 1\n",
        "    # Combine even and odd bits\n",
        "    return (even_bits | odd_bits)\n",
        "if __name__=='__main__':\n",
        "  try:\n",
        "    n=int(input())\n",
        "    print(swapBits(n))\n",
        "  except:\n",
        "    n=0"
      ],
      "execution_count": null,
      "outputs": [
        {
          "output_type": "stream",
          "text": [
            "256\n",
            "512\n"
          ],
          "name": "stdout"
        }
      ]
    },
    {
      "cell_type": "markdown",
      "metadata": {
        "id": "39LuoPtgdzgQ"
      },
      "source": [
        "\n",
        "#6"
      ]
    },
    {
      "cell_type": "code",
      "metadata": {
        "colab": {
          "base_uri": "https://localhost:8080/"
        },
        "id": "mWhXXa4tE21G",
        "outputId": "12816d40-107d-4e2b-c83d-5a7060317fe7"
      },
      "source": [
        "\"\"\"\n",
        "write the most efficient program to find the K largest numbers in the list:\n",
        "for eg:\n",
        "  L=[5,6,7,8,9,1,3,4,2]\n",
        "  K=3\n",
        "  then \n",
        "  [9,8,7]\n",
        "\"\"\"\n",
        "def sort(L,K):\n",
        "  n=len(L)\n",
        "  for i in range(n-K):\n",
        "    for j in range(n-i-1):\n",
        "      if L[j]>L[j+1]:\n",
        "         L[j+1],L[j]=L[j],L[j+1]\n",
        "  return L\n",
        "if __name__=='__main__':\n",
        "  \n",
        "  try:\n",
        "  #taking input of List in a single line\n",
        "    List=[int(item) for item in input().split()]\n",
        "    K=int(input())\n",
        "  except:\n",
        "    List=[]    \n",
        "    K=0\n",
        "  if len(List)!=0 and K!=0:\n",
        "    L=sort(List,K)\n",
        "    print(L[-K:])"
      ],
      "execution_count": null,
      "outputs": [
        {
          "output_type": "stream",
          "text": [
            " 1 2 3 1 5 9 3 2 0\n",
            "d\n"
          ],
          "name": "stdout"
        }
      ]
    },
    {
      "cell_type": "code",
      "metadata": {
        "colab": {
          "base_uri": "https://localhost:8080/"
        },
        "id": "oBJa3my2wqqR",
        "outputId": "d92eef04-5520-4876-9c1c-76631398156a"
      },
      "source": [
        "\"\"\"\n",
        " write a Python program to check if two given strings are rotations of\n",
        " each other or not\n",
        " for eg:\n",
        "   ABCD and BCDA are rotations of each other.\n",
        "\"\"\"\n",
        "def checkRotation(string1, string2):\n",
        "    size1 = len(string1)\n",
        "    size2 = len(string2)\n",
        "    temp = ''\n",
        "    if size1 != size2:\n",
        "        return 0\n",
        "    #concatenating s1 with s1 so that there is one string with the presence \n",
        "    #of all the possible rotations\n",
        "    temp = string1 + string1\n",
        "    if (temp.count(string2)> 0):\n",
        "        return 1\n",
        "    else:\n",
        "        return 0\n",
        "if __name__=='__main__':  \n",
        "  try:\n",
        "    List=[item for item in input().split()]\n",
        "  except:\n",
        "    List=[]\n",
        "  try:\n",
        "    print(bool(checkRotation(List[0],List[1])))\n",
        "  except:\n",
        "    print()\n"
      ],
      "execution_count": null,
      "outputs": [
        {
          "output_type": "stream",
          "text": [
            "abcd abcde\n",
            "False\n"
          ],
          "name": "stdout"
        }
      ]
    },
    {
      "cell_type": "code",
      "metadata": {
        "colab": {
          "base_uri": "https://localhost:8080/"
        },
        "id": "g9RET-Ga7d0Y",
        "outputId": "eaec182d-47c3-491b-8104-e9cd7fa1c6e7"
      },
      "source": [
        "\"\"\"\n",
        "Write an efficient program to print all the duplicates and their counts in the input string \n",
        "\n",
        "\"\"\"\n",
        "#increasing the count of the characters present in the string \n",
        "def fillCharCounts(string, count):\n",
        "    for i in string:\n",
        "        count[ord(i)] += 1\n",
        "    return count\n",
        "def printmul(string):\n",
        "    count = [0] * 128 #(range of ord)\n",
        "    count = fillCharCounts(string,count)\n",
        " \n",
        "    # counter\n",
        "    k = 0\n",
        "    # Printing characters having more than 1\n",
        "    for i in count:\n",
        "        if int(i) > 1:\n",
        "            print (\"'\"+chr(k)+\"' :\"+str(i))\n",
        "        k += 1\n",
        " \n",
        "if __name__=='__main__':  \n",
        "  try:\n",
        "    String=input()\n",
        "  except:\n",
        "    String=\"\"\n",
        "  printmul(String)\n",
        "  \n"
      ],
      "execution_count": null,
      "outputs": [
        {
          "output_type": "stream",
          "text": [
            "\n"
          ],
          "name": "stdout"
        }
      ]
    },
    {
      "cell_type": "code",
      "metadata": {
        "colab": {
          "base_uri": "https://localhost:8080/"
        },
        "id": "Icb9cdWJ6ExF",
        "outputId": "0545ddf7-069b-4426-e14e-d62072303af7"
      },
      "source": [
        "\"\"\"\n",
        "You are provided a string of integers S and an integers n \n",
        "write a python program to find the smallest possible number after removing n numbers from it\n",
        "eg: \n",
        "S=8765421 n=3\n",
        "o/p=1245\n",
        "\"\"\"\n",
        "def userinput():\n",
        "  try:\n",
        "    L=[]\n",
        "    S=input()\n",
        "    n=int(input())\n",
        "    #converting into digits\n",
        "    for i in range(len(S)):\n",
        "      L.append(int(S[i]))\n",
        "  except:\n",
        "    L=[]\n",
        "    n=0\n",
        "  return L,n\n",
        "def reposition0(L):\n",
        "  # repositioning the first smallest numbers before the 0\n",
        "  if L[0]==0:\n",
        "    for i in range(len(L)):\n",
        "      if L[i]!=0:\n",
        "        L[0],L[i]=L[i],L[0]\n",
        "        break\n",
        "  return L\n",
        "def gennum(L,n):\n",
        "  # generating the numbers\n",
        "  num=0\n",
        "  if n==0:\n",
        "    for ele in (L):\n",
        "      num =num*10+ele\n",
        "    return num\n",
        "  elif n>=len(L):\n",
        "    small=reposition0(sorted(L))\n",
        "    for ele in range(small):\n",
        "      num =num*10+small[ele]\n",
        "    return num\n",
        "  else:\n",
        "    small=reposition0(sorted(L))\n",
        "    #print(len(L),len(small),n)\n",
        "    for ele in range(len(small)-n):\n",
        "      num =num*10+small[ele]\n",
        "    return num\n",
        "if __name__=='__main__':  \n",
        "  try:\n",
        "    L,n=userinput()\n",
        "    print(gennum(L,n))\n",
        "  except:\n",
        "    print()\n",
        "\n"
      ],
      "execution_count": null,
      "outputs": [
        {
          "output_type": "stream",
          "text": [
            "26265500000000555555554644413221331515\n",
            "34\n",
            "1000\n"
          ],
          "name": "stdout"
        }
      ]
    },
    {
      "cell_type": "markdown",
      "metadata": {
        "id": "tKwXS3kMgdPB"
      },
      "source": [
        "#7\n"
      ]
    },
    {
      "cell_type": "code",
      "metadata": {
        "colab": {
          "base_uri": "https://localhost:8080/"
        },
        "id": "qTkWv9b2gkln",
        "outputId": "04349c0d-3995-4e17-b935-496d4d050fd2"
      },
      "source": [
        "\"\"\"\n",
        "convert an integer N into its corresponding Roman numerical\n",
        "\"\"\"\n",
        "import math\n",
        "\n",
        "roman = {\n",
        "    1: 'I',\n",
        "    5: 'V',\n",
        "    10: 'X',\n",
        "    50: 'L',\n",
        "    100: 'C',\n",
        "    500: 'D',\n",
        "    1000: 'M'\n",
        "}\n",
        "def inttoroman(num):\n",
        "  if num == 0:\n",
        "    return ''\n",
        "  digit = len(str(num))\n",
        "  key = math.pow(10, digit - 1)\n",
        "  quo = int(num // key)\n",
        "  rem = int(num % key)\n",
        "  res = ''\n",
        "  if quo == 4:\n",
        "      res += roman[key]\n",
        "      res += roman[key * 5]\n",
        "  elif quo == 9:\n",
        "      res += roman[key]\n",
        "      res += roman[key * 10]\n",
        "  elif quo >= 5:\n",
        "      res += roman[key * 5]\n",
        "      res += roman[key] * (quo - 5)\n",
        "  else:\n",
        "      res = roman[key] * quo\n",
        "  return res + inttoroman(rem)\n",
        "if __name__=='__main__':\n",
        "  try:\n",
        "    num=int(input())\n",
        "  except:\n",
        "    num=0\n",
        "  a=inttoroman(num)\n",
        "  print(a)"
      ],
      "execution_count": null,
      "outputs": [
        {
          "output_type": "stream",
          "text": [
            "abcd\n",
            "\n"
          ],
          "name": "stdout"
        }
      ]
    },
    {
      "cell_type": "code",
      "metadata": {
        "colab": {
          "base_uri": "https://localhost:8080/"
        },
        "id": "WkAnAZ6CfGH6",
        "outputId": "40de43e1-3720-49e1-d359-c71fef870f63"
      },
      "source": [
        "\"\"\"\n",
        "write the most efficient python program to print all prime factors of a given number\n",
        "You are given a number N, \n",
        "write a function to print all prime factors of n in a efficient way. \n",
        "For example, if the input number is 16, then output should be “2 2 2 2”. \n",
        "And if the input number is 72, then output should be “2 2 2 3 3”.\n",
        "\"\"\"\n",
        "import math\n",
        "def primeFactors(n):\n",
        "    while n % 2 == 0:\n",
        "        print (2, end =\" \"),\n",
        "        n = n / 2\n",
        "    # n must be odd at this point\n",
        "    # so a step of 2 is used\n",
        "    for i in range(3,int(math.sqrt(n))+1,2):\n",
        "        # while i divides n , print i ad divide n\n",
        "        while n % i== 0:\n",
        "            print (int(i),end=\" \")\n",
        "            n = n / i\n",
        "    # Condition if n is a prime\n",
        "    # number greater than 2\n",
        "    if n > 2:\n",
        "        print (int(n))         \n",
        "# Driver Program to test above function\n",
        "if __name__ == '__main__':\n",
        "  try:\n",
        "    N=int(input())\n",
        "  except:\n",
        "    N=0\n",
        "  if N>0:\n",
        "    primeFactors(N)\n",
        "  else:\n",
        "    print()"
      ],
      "execution_count": null,
      "outputs": [
        {
          "output_type": "stream",
          "text": [
            "25646212\n",
            "2 2 173 37061\n"
          ],
          "name": "stdout"
        }
      ]
    },
    {
      "cell_type": "code",
      "metadata": {
        "colab": {
          "base_uri": "https://localhost:8080/"
        },
        "id": "8bwmOa78xWJ-",
        "outputId": "8edb1ae1-e5d1-4155-aaae-a2f274478662"
      },
      "source": [
        "\"\"\"\n",
        "Euler's totient function counts the positive integers up to a given integer n that are relatively prime to n. \n",
        "It is written using the Greek letter phi and may also be called Euler's phi function.\n",
        "In other words, it is the number of integers k in the range 1 ≤ k ≤ n for which the greatest common divisor gcd(n, k) is equal to 1.\n",
        "The integers k of this form are sometimes referred to as totatives of n.\n",
        "For example, the totatives of n = 9 are the six numbers 1, 2, 4, 5, 7 and 8. \n",
        "They are all relatively prime to 9, but the other three numbers in this range, \n",
        "3, 6, and 9 are not, since gcd(9, 3) = gcd(9, 6) = 3 and gcd(9, 9) = 9. \n",
        "Therefore, φ(9) = 6. \n",
        "As another example, φ(1) = 1 since for n = 1 the only integer in the range from 1 to n is 1 itself, and gcd(1, 1) = 1.\n",
        "Write a python program which accepts an intger N and displays all the φ(1) for i belongs to (0,N)\n",
        "\"\"\"\n",
        "\"\"\"\n",
        "1) Initialize the φ(n) = n\n",
        "2) Run a loop from i = 2 to sqrt(n), do following for every i.\n",
        "          If i divides n, then \n",
        "           Set: φ(n) = φ(n)  * (1.0 - (1.0 / (float) i));\n",
        "           Divide all occurrences of i in n.\n",
        "3) Return φ(n)\n",
        "\"\"\"\n",
        "def phi(n) :\n",
        "    result = n   # Initialize result as n\n",
        "    i = 2\n",
        "    while i * i<= n :\n",
        " \n",
        "        # Checkimg if i is a prime factor of n.\n",
        "        if n % i == 0 :\n",
        "            while n % i == 0 :\n",
        "                n = n // i\n",
        "            result = result * (1.0 - (1.0 / float(i)))\n",
        "        i = i + 1\n",
        "    if n > 1 :\n",
        "        result = result * (1.0 - (1.0 / float(n)))\n",
        "  \n",
        "    return int(result)\n",
        "     \n",
        "     \n",
        "# Driver program to test above function\n",
        "if __name__ == '__main__':\n",
        "  try:\n",
        "    N=int(input())\n",
        "  except:\n",
        "    N=0\n",
        "  for i in range(1, N) :\n",
        "    print(phi(i),end=\",\")\n",
        "  print(phi(N))"
      ],
      "execution_count": null,
      "outputs": [
        {
          "output_type": "stream",
          "text": [
            "1\n",
            "1\n"
          ],
          "name": "stdout"
        }
      ]
    },
    {
      "cell_type": "code",
      "metadata": {
        "colab": {
          "base_uri": "https://localhost:8080/"
        },
        "id": "VYocKM4A1INS",
        "outputId": "2e20e7ce-2ab1-488a-c2c3-c198f48010b8"
      },
      "source": [
        "\"\"\"\n",
        "You are given a string S (len(S)=n), and a string x (len(x)=m)\n",
        "you have to find all the indexes where string x is present in string S  \n",
        "\"\"\"\n",
        "def FindSub(x, S):\n",
        "    M = len(x)\n",
        "    N = len(S)\n",
        "    for i in range(N - M + 1):\n",
        "        j = 0\n",
        "        while(j < M):\n",
        "            if (S[i + j] != x[j]):\n",
        "                break\n",
        "            j += 1\n",
        " \n",
        "        if (j == M):\n",
        "            print(i,end=\" \")\n",
        "if __name__ == '__main__':\n",
        "  try:\n",
        "    S=input()\n",
        "    x=input()\n",
        "  except:\n",
        "    S=\"\"\n",
        "    x=\"\"\n",
        "  if (len(S)>0 and len(x)>0):\n",
        "    FindSub(x,S)\n",
        "  else:\n",
        "    print()"
      ],
      "execution_count": null,
      "outputs": [
        {
          "output_type": "stream",
          "text": [
            " \n",
            " \n",
            "0 "
          ],
          "name": "stdout"
        }
      ]
    },
    {
      "cell_type": "markdown",
      "metadata": {
        "id": "S9_1oOFNdzbg"
      },
      "source": [
        "\n",
        "\n",
        "#8"
      ]
    },
    {
      "cell_type": "code",
      "metadata": {
        "colab": {
          "base_uri": "https://localhost:8080/"
        },
        "id": "saqifd881z1P",
        "outputId": "b114b15c-0e4f-4f4d-cdad-bc0617e2968d"
      },
      "source": [
        "\"\"\"\n",
        "You are given an array consisting of the numbers 0,1,2 and 3\n",
        "write an efficient python function which puts all the 1s in the front followed by the 0s which are followed by the 3s and the array ends with the 2s\n",
        "eg:\n",
        "0 0 1 1 2 2 3 3\n",
        "1 1 0 0 3 3 2 2\n",
        "\n",
        "\"\"\"\n",
        "\n",
        "def printArr(arr):\n",
        "  n=len(arr) \n",
        "#function to print the array in a single line\n",
        "  for i in range(n):\n",
        "    print(arr[i],end=\" \")\n",
        " \n",
        " \n",
        "def sortArr(arr):\n",
        "    n=len(arr)\n",
        "    no0 = 0\n",
        "    no1 = 0\n",
        "    no2 = 0\n",
        "    no3 =0     \n",
        "    error=0\n",
        "    #iterating through the input array and updating the values\n",
        "    for i in range(n):\n",
        "        if arr[i] == 0:\n",
        "            no0+=1\n",
        "        \n",
        "        elif arr[i] == 1:\n",
        "            no1+=1\n",
        "             \n",
        "        elif arr[i] == 2:\n",
        "            no2+=1\n",
        "        \n",
        "        elif arr[i] ==3:\n",
        "            no3+=1\n",
        "        \n",
        "        else:\n",
        "          error+=1\n",
        "    if error>0:\n",
        "      return\n",
        "    # Updating the original array\n",
        "    i = 0\n",
        "    while (no1 > 0):\n",
        "        arr[i] = 1\n",
        "        i+=1\n",
        "        no1-=1\n",
        "    while (no0 > 0):\n",
        "        arr[i] = 0\n",
        "        i+=1\n",
        "        no0-=1\n",
        "    while (no3 > 0):\n",
        "        arr[i] = 3\n",
        "        i+=1\n",
        "        no3-=1\n",
        "    while (no2 > 0):\n",
        "        arr[i] = 2\n",
        "        i+=1\n",
        "        no2-=1 \n",
        "    printArr(arr)\n",
        "if __name__=='__main__':\n",
        "  try:\n",
        "    A=[int(item) for item in input().split()]\n",
        "  except:\n",
        "    A=[] \n",
        "  if len(A)>0: \n",
        "    sortArr(A)\n",
        "  else:\n",
        "    print()"
      ],
      "execution_count": null,
      "outputs": [
        {
          "output_type": "stream",
          "text": [
            "00 0 00 0 00 0 01 01 01 01 02 02 02 02 02 02 03 02 03\n",
            "1 1 1 1 0 0 0 0 0 0 3 3 2 2 2 2 2 2 2 "
          ],
          "name": "stdout"
        }
      ]
    },
    {
      "cell_type": "code",
      "metadata": {
        "colab": {
          "base_uri": "https://localhost:8080/"
        },
        "id": "MGj7PIzgAoaw",
        "outputId": "b7b18888-a4af-496d-82b7-343f13d920c6"
      },
      "source": [
        "\"\"\"\n",
        "write a program which accepts an N as input and returns the largest palindrome that can be obtained by multiplying two numbers of N digits\n",
        "eg:\n",
        "N=2\n",
        "9009\n",
        "9009=99*91\n",
        "\n",
        "\"\"\"\n",
        "\n",
        "def palin(n):\n",
        "  reverse = 0\n",
        "  number=n\n",
        "  while (number != 0):\n",
        "    reverse = reverse * 10 + number % 10\n",
        "    number =number // 10\n",
        "  return reverse\n",
        "def larrgestPalindrome(n):\n",
        "    upper_limit = (10**(n))-1\n",
        "    lower_limit = 1 + upper_limit//10\n",
        "    max_product = 0 # Initialize result\n",
        "    for i in range(upper_limit,lower_limit-1, -1):\n",
        "      for j in range(i,lower_limit-1,-1):\n",
        "        product = i * j\n",
        "        if (product < max_product):\n",
        "            break\n",
        "        reverse= palin(product)\n",
        "        if (product == reverse and product > max_product):\n",
        "            max_product = product\n",
        "    return max_product\n",
        " \n",
        "# Driver code\n",
        "if __name__=='__main__':\n",
        "  try:\n",
        "    num=int(input())\n",
        "  except:\n",
        "    num=0 \n",
        "  if num>1:\n",
        "    print(larrgestPalindrome(num))\n",
        "  else:\n",
        "    print()"
      ],
      "execution_count": null,
      "outputs": [
        {
          "output_type": "stream",
          "text": [
            "1\n",
            "\n"
          ],
          "name": "stdout"
        }
      ]
    },
    {
      "cell_type": "code",
      "metadata": {
        "colab": {
          "base_uri": "https://localhost:8080/"
        },
        "id": "szfEujuXEpFh",
        "outputId": "9437dde6-e64f-4fe5-9b8e-1bf17a3dde87"
      },
      "source": [
        "\"\"\"\n",
        "\n",
        "write a program which accepts an N as input and returns the first A palindromes that can be obtained by multiplying two N digits numbers. \n",
        "eg:\n",
        "2 3 \n",
        "9009\n",
        "9009=99*91\n",
        "def palin(n):\n",
        "  reverse = 0\n",
        "  number=n\n",
        "  while (number != 0):\n",
        "    reverse = reverse * 10 + number % 10\n",
        "    number =number // 10\n",
        "  return reverse\n",
        "def smallestAPalindrome(N,a):\n",
        "    upper_limit = (10**(N))-1\n",
        "    lower_limit = 1 + upper_limit//10\n",
        "    max_product = [] # Initialize result\n",
        "    for i in range(lower_limit,upper_limit-1):\n",
        "      for j in range(i,upper_limit-1):\n",
        "        product = i * j\n",
        "        if len(max_product)>0:    \n",
        "          if product>max_product[-1]:\n",
        "            break\n",
        "          reverse= palin(product)\n",
        "          if (product == reverse and product < max_product[-1] and count>0):\n",
        "              max_product.append(product)\n",
        "        else:\n",
        "          reverse= palin(product)\n",
        "          if (product == reverse and product < max_product[-1] and count>0):\n",
        "              max_product.append(product)\n",
        "              count-=1\n",
        "\n",
        "    return max_product\n",
        "# Driver code\n",
        "if __name__=='__main__':\n",
        "  try:\n",
        "    N,A=[int(item) for item in input().split()]\n",
        "  except:\n",
        "    N=0\n",
        "    A=0\n",
        "  if N>1 and A>0:\n",
        "    print(smallestAPalindrome(N,A))\n",
        "  else:\n",
        "    print()\n",
        "\"\"\""
      ],
      "execution_count": null,
      "outputs": [
        {
          "output_type": "stream",
          "text": [
            "2 3\n",
            "[0]\n"
          ],
          "name": "stdout"
        }
      ]
    },
    {
      "cell_type": "code",
      "metadata": {
        "colab": {
          "base_uri": "https://localhost:8080/"
        },
        "id": "8bBjxXFTAzSY",
        "outputId": "b7c6d3fb-5c45-4a39-e092-32e072dd9d5d"
      },
      "source": [
        "\"\"\"\n",
        "Given a number N find the smallest number \n",
        "evenly divisible by each number 1 to N.\n",
        "for eg:\n",
        "4\n",
        "12\n",
        "since \n",
        "1*12=12\n",
        "2*6=12\n",
        "3*4=12\n",
        "4*3=12\n",
        "\"\"\"\n",
        "\"\"\"\n",
        "the answer must be the lcm of all the number from 1 to n.\n",
        "therefore we just iterate over the numbers from 1 to n and ans = lcm(1,2,...i) \n",
        "\"\"\"\n",
        "def gcd(a,b):\n",
        "  if (a%b != 0):\n",
        "      return gcd(b,a%b)\n",
        "  else:\n",
        "      return b\n",
        "def lcm(n):\n",
        "    ans = 1\n",
        "    for i in range(1, n + 1):\n",
        "        ans = int((ans * i)/gcd(ans, i))        \n",
        "    return ans\n",
        "   \n",
        "# main\n",
        "if __name__=='__main__':\n",
        "  try:\n",
        "    num=int(input())\n",
        "  except:\n",
        "    num=0 \n",
        "  if num>0:\n",
        "    print(lcm(num))\n",
        "  else:\n",
        "    print()"
      ],
      "execution_count": null,
      "outputs": [
        {
          "output_type": "stream",
          "text": [
            "5\n",
            "60\n"
          ],
          "name": "stdout"
        }
      ]
    },
    {
      "cell_type": "code",
      "metadata": {
        "colab": {
          "base_uri": "https://localhost:8080/"
        },
        "id": "SbbxYnaPnyF4",
        "outputId": "0be33a86-a168-4df3-c590-177787e9aef6"
      },
      "source": [
        "\"\"\"\n",
        "Pair of First N natural numbers divisible by K\n",
        "write a python program which finds the pairs of natural numbers whose sum is divisible by K\n",
        "\n",
        "\"\"\"\n",
        "def divisible(N,K):\n",
        "  for i in range(1,N):\n",
        "    for j in range(i,N):\n",
        "      if (i+j)%K==0:\n",
        "        print((i,j),end=\" \")\n",
        "\n",
        "if __name__=='__main__':\n",
        "  try:\n",
        "    N,K=[int(item) for item in input().split()]\n",
        "  except:\n",
        "    N,K=0,0 \n",
        "  if N>0: \n",
        "    divisible(N,K)\n",
        "  else:\n",
        "    print()"
      ],
      "execution_count": null,
      "outputs": [
        {
          "output_type": "stream",
          "text": [
            "3\n",
            "\n"
          ],
          "name": "stdout"
        }
      ]
    },
    {
      "cell_type": "markdown",
      "metadata": {
        "id": "d2IzgOiOdzZA"
      },
      "source": [
        "#9"
      ]
    },
    {
      "cell_type": "code",
      "metadata": {
        "colab": {
          "base_uri": "https://localhost:8080/"
        },
        "id": "0QeztF_iKtML",
        "outputId": "d667861f-48b9-4897-ee68-6c22ec70b492"
      },
      "source": [
        "\"\"\"\n",
        "You are given an array A \n",
        "write the most efficient program to find the maximum sum of contiguos subarray within the provided 1D array A\n",
        "\"\"\"\n",
        "def MaxContiguous(A,size):\n",
        "  max_cur = A[0]\n",
        "  maxEnd = 0\n",
        "  for i in range(0, size):\n",
        "    maxEnd = maxEnd + A[i]\n",
        "    if maxEnd < 0:\n",
        "      maxEnd = 0\n",
        "    elif (max_cur < maxEnd):\n",
        "      max_cur = maxEnd    \n",
        "  return max_cur\n",
        "if __name__=='__main__':\n",
        "  try:\n",
        "    L=[int(item) for item in input().split()]\n",
        "  except:\n",
        "    L=[] \n",
        "  if len(L)>0:\n",
        "    print(MaxContiguous(L,len(L)))\n",
        "  else:\n",
        "    print()"
      ],
      "execution_count": null,
      "outputs": [
        {
          "output_type": "stream",
          "text": [
            "56 -99 -48 78 -2 -89 -45 6\n",
            "78\n"
          ],
          "name": "stdout"
        }
      ]
    },
    {
      "cell_type": "code",
      "metadata": {
        "colab": {
          "base_uri": "https://localhost:8080/"
        },
        "id": "5AeYH0HpGXAB",
        "outputId": "b3e6bcd8-5510-42ff-a4ce-1c237d16e400"
      },
      "source": [
        "\"\"\"\n",
        "write an python program to swap the nibbles in a 8 bit number \n",
        "0<=N<=255\n",
        "\"\"\"\n",
        "def swapNibble(N):\n",
        "  #if we and with 0F we get the last 4 bits and similarly the first 4 bits by anding with F0\n",
        "  # and we right shift and left shift by 4 places to swap the nibbles\n",
        "  return ((N & 0x0F)<<4 | (N & 0xF0)>>4)\n",
        "if __name__=='__main__':\n",
        "  try:\n",
        "    N=int(input())\n",
        "    if N<256:\n",
        "      print(swapNibble(N))\n",
        "    else:\n",
        "      print()\n",
        "  except:\n",
        "    print()"
      ],
      "execution_count": null,
      "outputs": [
        {
          "output_type": "stream",
          "text": [
            "566\n",
            "\n"
          ],
          "name": "stdout"
        }
      ]
    },
    {
      "cell_type": "code",
      "metadata": {
        "colab": {
          "base_uri": "https://localhost:8080/"
        },
        "id": "v_4TXzTSNmDA",
        "outputId": "a312b95f-b9e1-4744-eb17-182cfa44dde2"
      },
      "source": [
        "\"\"\"\n",
        "You are given a list L consisting of positive and negative integers. \n",
        "write an efficient program to print the original list where each each element present at \n",
        "the odd index are multiplied by 7 and the elements at the even indexes are multiplied by 9\n",
        "but you cannot use the '*' and '+' operators  \n",
        "\"\"\"\n",
        "def mulby7(N):\n",
        "  return (N<<3) - N\n",
        "def mulby9(N):\n",
        "  return (N<<3) + N\n",
        "\n",
        "if __name__=='__main__':\n",
        "  try:\n",
        "    L=[int(item) for item in input().split()]\n",
        "  except:\n",
        "    L=[] \n",
        "  if len(L)>0:\n",
        "    for i in range(len(L)):\n",
        "      if i%2==0:\n",
        "        if L[i]<0:\n",
        "          print(-mulby9(-L[i]),end=\" \")\n",
        "        else:\n",
        "          print(mulby9(L[i]),end=\" \")\n",
        "      else:\n",
        "        if L[i]<0:\n",
        "          print(-mulby7(-L[i]),end=\" \")\n",
        "        else:\n",
        "          print(mulby7(L[i]),end=\" \")\n"
      ],
      "execution_count": null,
      "outputs": [
        {
          "output_type": "stream",
          "text": [
            "a\n"
          ],
          "name": "stdout"
        }
      ]
    },
    {
      "cell_type": "code",
      "metadata": {
        "colab": {
          "base_uri": "https://localhost:8080/"
        },
        "id": "M2JmDPKkQCBz",
        "outputId": "87b30a85-a5fa-4740-e165-a29af7ea00f3"
      },
      "source": [
        "\"\"\"\n",
        "Write the most efficient program to generate a N*N matrix where each element is \n",
        "the absolute differece of their row number and column number and find their sum.\n",
        "for eg:\n",
        "  N=3\n",
        "  0 1 2\n",
        "  1 0 1\n",
        "  2 1 0\n",
        "  and its sum is 8\n",
        "\"\"\"\n",
        "def findSum(n):\n",
        "  #since the diagonal is always 0 and the next diagonal will be 1 followed by 2 and the same will be on the other side\n",
        "  #thus the series becomes 2*((n-1)number of 1s+(n-2)number of 2s....\n",
        "  sum = 0\n",
        "  for i in range(n):\n",
        "      sum += i * (n - i)\n",
        "  return 2 * sum\n",
        "\n",
        "# Driver code\n",
        "if __name__=='__main__':\n",
        "  try:\n",
        "    N=int(input())\n",
        "  except:\n",
        "    N=0\n",
        "  if N<=0:\n",
        "    print()\n",
        "  else:\n",
        "    print(findSum(N))"
      ],
      "execution_count": null,
      "outputs": [
        {
          "output_type": "stream",
          "text": [
            "1\n",
            "0\n"
          ],
          "name": "stdout"
        }
      ]
    },
    {
      "cell_type": "markdown",
      "metadata": {
        "id": "Krz8KmGTdzWx"
      },
      "source": [
        "\n",
        "#10"
      ]
    },
    {
      "cell_type": "code",
      "metadata": {
        "colab": {
          "base_uri": "https://localhost:8080/"
        },
        "id": "ZemHPwUONItW",
        "outputId": "9910db62-c4ef-4a35-848f-2cfaaa40a1c3"
      },
      "source": [
        "\"\"\"\n",
        "Sparse matrices are those matrices that have the majority of their elements equal to zero. In other words, \n",
        "the sparse matrix can be defined as the matrix that has a greater number of zero elements than the non-zero elements.\n",
        "Write a python program to represent the sparse matrix as a linked list\n",
        "\"\"\"\n",
        "# nodes of the linked list\n",
        "class Node:\n",
        "    __Var__ = \"row\", \"cols\", \"val\", \"next\"\n",
        "    def __init__(self, rows=0, cols=0, val=0, next=None):\n",
        " \n",
        "        self.rows = rows\n",
        "        self.cols = cols\n",
        "        self.val = val\n",
        "        self.next = next\n",
        "class Sparse:\n",
        "    def __init__(self):\n",
        "        self.head = None\n",
        "        self.temp = None\n",
        "        self.size = 0\n",
        "    # function to create Linked List from Sparse Matrix\n",
        "    def create_new_node(self, row, col, data):\n",
        "        # Creating New Node\n",
        "        newNode = Node(row, col, data, None)\n",
        "        # Check whether the List is empty or not\n",
        "        if self.size==0:\n",
        "            self.head = newNode\n",
        "        else:\n",
        "            self.temp.next = newNode\n",
        "        self.temp = newNode\n",
        "        self.size += 1\n",
        " \n",
        "    # Function display the contents of\n",
        "    # Linked List\n",
        "    def PrintList(self):\n",
        "        temp = r = s = self.head\n",
        "        while temp != None:\n",
        "            print(temp.rows, end=\" \")\n",
        "            temp = temp.next\n",
        "        print()\n",
        "        while r != None:\n",
        "            print(r.cols, end=\" \")\n",
        "            r = r.next\n",
        "        print()\n",
        "        while s != None:\n",
        "            print(s.val, end=\" \")\n",
        "            s = s.next\n",
        "        print()\n",
        " \n",
        "# Driver Code\n",
        "if __name__ == \"__main__\":\n",
        "  try:\n",
        "    L=[int(item) for item in input().split()]\n",
        "    #print(L)\n",
        "    N,M=[int(item) for item in input().split()]\n",
        "  except:\n",
        "    L=[]\n",
        "    N,M=0,0\n",
        "  if len(L)>=0 and N*M== len(L):\n",
        "    # Creating Object\n",
        "    s = Sparse()\n",
        "    # reshaping list\n",
        "    flag=0\n",
        "    arr=[]\n",
        "    for z in range(N):\n",
        "      arr.append(L[flag:flag+M])\n",
        "      flag+=M\n",
        "    for i in range(N):\n",
        "        for j in range(M):\n",
        "            if arr[i][j] != 0:\n",
        "                s.create_new_node(i, j,arr[i][j])\n",
        "    s.PrintList()\n",
        "  else:\n",
        "    print()\n",
        "\n"
      ],
      "execution_count": null,
      "outputs": [
        {
          "output_type": "stream",
          "text": [
            "56 0 0 0 0 0 0 0 0 23 0 0 6 9 0 0 0 0\n",
            "3 6\n",
            "0 1 2 2 \n",
            "0 3 0 1 \n",
            "56 23 6 9 \n"
          ],
          "name": "stdout"
        }
      ]
    },
    {
      "cell_type": "code",
      "metadata": {
        "colab": {
          "base_uri": "https://localhost:8080/"
        },
        "id": "jad8Aqsn4ZLA",
        "outputId": "a673388a-da2e-4259-cb54-e466f6a58904"
      },
      "source": [
        "def binarySearch (Arr, l, r, N):\n",
        "    if r >= l:\n",
        "      #base case checking if the array is less than one element the element isnt present\n",
        "        mid = l + (r - l) // 2\n",
        "        #mid divides it into left subarray and right subarray\n",
        "        if Arr[mid:mid+len(N)]== N:\n",
        "            return [mid,mid+len(N)-1]\n",
        "        elif Arr[mid-len(N):mid]== N:\n",
        "            return [mid-len(N),mid-1]\n",
        "        elif Arr[mid] > N[0]:\n",
        "          #since the array is sorted if element is greater than mid then\n",
        "          #its in the right subarray or its in the left subarray\n",
        "            return binarySearch(Arr, l, mid-1, N)\n",
        "        else:\n",
        "            return binarySearch(Arr, mid + 1, r, N) \n",
        "    else:\n",
        "        return -1\n",
        "\n",
        "# Driver Code\n",
        "if __name__ == \"__main__\":\n",
        "  try:\n",
        "    L=[int(item) for item in input().split()]\n",
        "    N=[int(item) for item in input().split()]\n",
        "  except:\n",
        "    L=[]\n",
        "    N=[]\n",
        "  if len(L)>0 and len(N)<len(L):\n",
        "    index = binarySearch(L, 0, len(L)-1,N)\n",
        "    print(index)\n",
        "  else:\n",
        "    print()"
      ],
      "execution_count": null,
      "outputs": [
        {
          "output_type": "stream",
          "text": [
            "3 4 5 9 11 13 15 22 22 22 \n",
            "22 22 22\n",
            "[7, 9]\n"
          ],
          "name": "stdout"
        }
      ]
    },
    {
      "cell_type": "code",
      "metadata": {
        "colab": {
          "base_uri": "https://localhost:8080/"
        },
        "id": "1FkP7xyxDUtj",
        "outputId": "cab19bd7-e162-4163-fe4c-36a582f08e50"
      },
      "source": [
        "class Node:\n",
        "    #each node has the number of elements that are less that it. \n",
        "    def __init__(self, data):\n",
        "        self.data = data\n",
        "        self.left = self.right = None\n",
        "        self.LSTsize = 0\n",
        " \n",
        "# creating binary search tree.\n",
        "def insert(root, data):\n",
        "    if root is None:\n",
        "        return Node(data)\n",
        "    # Updating size of left subtree.\n",
        "    if data <= root.data:\n",
        "        root.left = insert(root.left, data)\n",
        "        root.LSTsize += 1\n",
        "    else:\n",
        "        root.right = insert(root.right, data)\n",
        "    return root\n",
        " \n",
        "# Function to get Rank of a Node x.\n",
        "def Rank(root, x):\n",
        "    if root.data == x:\n",
        "        return root.LSTsize\n",
        "    if x < root.data:\n",
        "        if root.left is None:\n",
        "            return -1\n",
        "        else:\n",
        "            return Rank(root.left, x)\n",
        "    else:\n",
        "        if root.right is None:\n",
        "            return -1\n",
        "        else:\n",
        "            RSTsize = Rank(root.right, x)\n",
        "            if RSTsize == -1:\n",
        "                return -1\n",
        "            else:\n",
        "                return root.LSTsize + 1 + RSTsize\n",
        " \n",
        "# Driver code\n",
        "if __name__ == '__main__':\n",
        "  try:\n",
        "    L=[int(item) for item in input().split()]\n",
        "    N=int(input())\n",
        "  except:\n",
        "    L=[]\n",
        "    N=0\n",
        "  if len(L)>0:\n",
        "    root = None\n",
        "    for i in range(len(L)):\n",
        "        root = insert(root, L[i])\n",
        "    print(Rank(root,N))\n",
        "  else:\n",
        "    print()"
      ],
      "execution_count": null,
      "outputs": [
        {
          "output_type": "stream",
          "text": [
            "1212 121 21 21 21212 12 12\n",
            "a\n",
            "\n"
          ],
          "name": "stdout"
        }
      ]
    },
    {
      "cell_type": "code",
      "metadata": {
        "colab": {
          "base_uri": "https://localhost:8080/"
        },
        "id": "ltnMXL2dG8a9",
        "outputId": "5cc1948d-b1e6-4b84-bc9c-2931fecc5e5a"
      },
      "source": [
        "\"\"\"\n",
        "You are given an array Arr consisting of integers between (1,N-1) in random order which has one element that is repeated\n",
        "write the most efficient program to find the repeating element without using any comparison operators\n",
        "<,>,!,== \n",
        "\"\"\"\n",
        "# since a XOR a =0 and b XOR a = a XOR b\n",
        "#if we know the XOR of all the array elements and the XOR of all the elements from 1 to n-1 \n",
        "# we can calculate the missing element\n",
        "def findRepeatingSET(arr, n):\n",
        "    s = set()\n",
        "    for i in range(n):\n",
        "        if arr[i] in s:\n",
        "            return arr[i]\n",
        "        s.add(arr[i])\n",
        "    return -1\n",
        "def findRepeatingXOR(arr, n):\n",
        "    res = 0\n",
        "    for i in range(0, n-1):\n",
        "        res = res ^ (i+1) ^ arr[i]\n",
        "    res = res ^ arr[n-1]     \n",
        "    return res\n",
        "# Driver code\n",
        "if __name__ == '__main__':\n",
        "  try:\n",
        "    Arr=[int(item) for item in input().split()]\n",
        "    print(findRepeatingXOR(Arr,len(Arr)))\n",
        "  except:\n",
        "    Arr=[]\n",
        "  #print(findRepeatingSET(Arr,len(Arr))) \n"
      ],
      "execution_count": null,
      "outputs": [
        {
          "output_type": "stream",
          "text": [
            "15 12 1 13 11 14 9 7 8 10 6 5 1 4 3 2\n",
            "1\n"
          ],
          "name": "stdout"
        }
      ]
    },
    {
      "cell_type": "markdown",
      "metadata": {
        "id": "MoPEjBkKdzUS"
      },
      "source": [
        "#11"
      ]
    },
    {
      "cell_type": "code",
      "metadata": {
        "colab": {
          "base_uri": "https://localhost:8080/"
        },
        "id": "LgtuVSfFUQ-3",
        "outputId": "6b19b5b8-2da2-4657-fb9d-efe002c4cc7f"
      },
      "source": [
        "# Python Program to demonstrate working of an algorithm that finds\n",
        "# an element in an array of infinite size\n",
        "\"\"\"\n",
        "You are given an array of infinite size \n",
        "write the most efficient program to find the position of the element N in the \n",
        "array\n",
        "\"\"\" \n",
        "# Binary search algorithm implementation\n",
        "def binary_search(arr,l,r,x):\n",
        "    if r >= l:\n",
        "        mid = l+(r-l)//2\n",
        " \n",
        "        if arr[mid] == x:\n",
        "            return mid\n",
        " \n",
        "        if arr[mid] > x:\n",
        "            return binary_search(arr,l,mid-1,x)\n",
        " \n",
        "        return binary_search(arr,mid+1,r,x)\n",
        " \n",
        "    return -1\n",
        " \n",
        "def findPos(Arr, K): \n",
        "    l, h, val = 0, 1, Arr[0]\n",
        "    #since we know the array is of infinite size there is no out of bound check\n",
        "    #setting previous high as low and doubling the high \n",
        "    while val < K:\n",
        "        l = h            \n",
        "        h = 2*h          \n",
        "        val = Arr[h]\n",
        "        #print(binary_search(Arr, l, h, K))       \n",
        "    return binary_search(Arr, l, h, K)\n",
        " \n",
        "# Driver function\n",
        "if __name__ == \"__main__\":\n",
        "  try:\n",
        "    Arr=[int(item) for item in input().split()]\n",
        "    #print(Arr)\n",
        "    N=int(input())\n",
        "    if len(Arr)>0:\n",
        "      print(findPos(Arr,N))\n",
        "  except:\n",
        "    print()"
      ],
      "execution_count": null,
      "outputs": [
        {
          "output_type": "stream",
          "text": [
            "a\n",
            "\n"
          ],
          "name": "stdout"
        }
      ]
    },
    {
      "cell_type": "code",
      "metadata": {
        "colab": {
          "base_uri": "https://localhost:8080/"
        },
        "id": "Kp0Kp4GPU-JD",
        "outputId": "4bfabb47-2b6e-4bc1-fe79-5073bc967c29"
      },
      "source": [
        "\"\"\"\n",
        "You are given an Array Arr consisting of integers\n",
        "write a program to find K numbers with the greatest frequency in the array:\n",
        "if two elements have the same frequency the greater number is given priority\n",
        "\"\"\"\n",
        "def Mostfreq(Arr, n, k):\n",
        "    HT = {}\n",
        "    for i in range(n):\n",
        "        if Arr[i] in HT:\n",
        "            HT[Arr[i]] += 1\n",
        "        else:\n",
        "            HT[Arr[i]] = 1\n",
        "    a = [0] * (len(HT))\n",
        "    j = 0\n",
        "    for i in HT:\n",
        "        a[j] = [i, HT[i]]\n",
        "        j += 1\n",
        "    a = sorted(a, key=lambda x: x[0],\n",
        "               reverse=True)\n",
        "    a = sorted(a, key=lambda x: x[1],\n",
        "               reverse=True)\n",
        "    for i in range(k):\n",
        "        print(a[i][0], end=\" \")\n",
        "# Driver code\n",
        "if __name__ == \"__main__\":\n",
        "  try:\n",
        "    Arr=[int(item) for item in input().split()]\n",
        "    k = int(input())\n",
        "    Mostfreq(Arr, len(Arr), k)\n",
        "  except:\n",
        "    print()"
      ],
      "execution_count": null,
      "outputs": [
        {
          "output_type": "stream",
          "text": [
            "89 56 56 21 532 -89 -4 -89 -4 89 89 54 23 56\n",
            "3\n",
            "89 56 -4 "
          ],
          "name": "stdout"
        }
      ]
    },
    {
      "cell_type": "code",
      "metadata": {
        "colab": {
          "base_uri": "https://localhost:8080/"
        },
        "id": "VS1dlKfEfpze",
        "outputId": "c810b8b9-22ef-4abd-da42-00c2b1bbd830"
      },
      "source": [
        "\"\"\"\n",
        "You are given a 16 bit number\n",
        "write a program to maximize this number by swapping the bits at its extreme end. \n",
        "\"\"\" \n",
        "def findMax(num):\n",
        "    num_copy = num\n",
        " \n",
        "    # Traverse bits from both extremes\n",
        "    j = 2 * 8 - 1;\n",
        "    i = 0\n",
        "    while (i < j) :\n",
        "      # getting the ith and jth bit\n",
        "        m = (num_copy >> i) & 1\n",
        "        l = (num_copy >> j) & 1\n",
        "        # if the lsb >msb then swapping them.\n",
        "        if (m > l) :\n",
        "            x = (1 << i | 1 << j)\n",
        "            num = num ^ x\n",
        "        i += 1\n",
        "        j -= 1\n",
        "    return num\n",
        "# Driver code\n",
        "if __name__ == \"__main__\":\n",
        "  try:\n",
        "    N = int(input())\n",
        "    if N>0 and N<65536: #2^0 to 2^16\n",
        "      print(findMax(N))\n",
        "    else:\n",
        "      print()\n",
        "  except:\n",
        "    print()"
      ],
      "execution_count": null,
      "outputs": [
        {
          "output_type": "stream",
          "text": [
            "2323266562323\n",
            "\n"
          ],
          "name": "stdout"
        }
      ]
    },
    {
      "cell_type": "code",
      "metadata": {
        "colab": {
          "base_uri": "https://localhost:8080/"
        },
        "id": "2hAhFEMhEdg5",
        "outputId": "e7db0f42-8f17-4826-b60b-f36794488602"
      },
      "source": [
        "\"\"\"\n",
        "You are given two strings S1 and S2 \n",
        "write a program to find the largest common subsequence of any permutaion within both of the string\n",
        "for eg:\n",
        "  python \n",
        "  program\n",
        "  op\n",
        "\n",
        "\"\"\"\n",
        "def LCS(str1, str2):\n",
        "  # creating hash map of 26 characters\n",
        "    count1 = [0] * 26\n",
        "    count2 = [0] * 26\n",
        "    # calculate frequency of characters\n",
        "    for i in range( len(str1)):\n",
        "        count1[ord(str1[i]) - ord('a')] += 1\n",
        "    for i in range(len(str2)):\n",
        "        count2[ord(str2[i]) - ord('a')] += 1\n",
        "    # Now traverse hash array\n",
        "    result = \"\"\n",
        "    for i in range(26):\n",
        "        for j in range(1, min(count1[i],\n",
        "                            count2[i]) + 1):\n",
        "            result = result + chr(ord('a') + i)\n",
        "    print(result)\n",
        "# Driver Code\n",
        "if __name__ == \"__main__\":\n",
        "    try:\n",
        "      S1=input()\n",
        "      S2=input()\n",
        "      LCS(S1.lower(), S2.lower())\n",
        "    except:\n",
        "      print()"
      ],
      "execution_count": null,
      "outputs": [
        {
          "output_type": "stream",
          "text": [
            "ab\n",
            "bca\n",
            "ab\n"
          ],
          "name": "stdout"
        }
      ]
    },
    {
      "cell_type": "markdown",
      "metadata": {
        "id": "2mV5vdwmdzR7"
      },
      "source": [
        "#12"
      ]
    },
    {
      "cell_type": "code",
      "metadata": {
        "colab": {
          "base_uri": "https://localhost:8080/"
        },
        "id": "LQ3uRS-1jM9B",
        "outputId": "c595f382-adb0-44d8-cf19-de64c534286e"
      },
      "source": [
        "def padovan(n):\n",
        "    pnm2, pnm1, pn, pnp1 = 1, 1, 1, 1\n",
        "    for i in range(3, n+1):\n",
        "        pnp1 = pnm2 + pnm1\n",
        "        pnm2 = pnm1\n",
        "        pnm1 = pn\n",
        "        pn = pnp1\n",
        " \n",
        "    return pnp1;\n",
        "if __name__ == '__main__':\n",
        "  try:\n",
        "    n=int(input())\n",
        "    if n>0:\n",
        "      print(padovan(n))\n",
        "    else:\n",
        "      print()\n",
        "  except:\n",
        "    print()"
      ],
      "execution_count": null,
      "outputs": [
        {
          "output_type": "stream",
          "text": [
            "21\n",
            "265\n"
          ],
          "name": "stdout"
        }
      ]
    },
    {
      "cell_type": "code",
      "metadata": {
        "colab": {
          "base_uri": "https://localhost:8080/"
        },
        "id": "9jciMagVxrCD",
        "outputId": "7f249e44-641b-4e0e-a32b-637627b581c1"
      },
      "source": [
        "\"\"\"\n",
        "Write a program to find the area of an n sided polygon\n",
        "for easier calculation you can use the gaussian area formula\n",
        "1/2|x1y2+x2y3+...xn-1yn+xny1-x2y1-x3y2.....-xnyn-1-x1yn|\n",
        "\n",
        "\"\"\"\n",
        "def polygonArea(X, Y, n):\n",
        "    area = 0.0\n",
        "    j = n - 1\n",
        "    for i in range(0,n):\n",
        "        area += (X[j] + X[i]) * (Y[j] - Y[i])\n",
        "        j = i \n",
        "    return int(abs(area / 2.0))\n",
        "if __name__=='__main__':\n",
        "  try:\n",
        "    X=[int(item) for item in input().split()]\n",
        "    Y=[int(item) for item in input().split()]\n",
        "  except:\n",
        "    X=[]\n",
        "    Y=[]\n",
        "  if len(X)>0 and len(X)==len(Y):\n",
        "    print(polygonArea(X,Y,len(X)))\n",
        "  else:\n",
        "    print()"
      ],
      "execution_count": null,
      "outputs": [
        {
          "output_type": "stream",
          "text": [
            "4000 2566 2268 1533 933 608 778 2169 2938 3471 4000 4000\n",
            "1778 1367 1306 1188 1160 1080 966 943 1070 1216 1410 1778\n",
            "1058773\n"
          ],
          "name": "stdout"
        }
      ]
    },
    {
      "cell_type": "code",
      "metadata": {
        "colab": {
          "base_uri": "https://localhost:8080/"
        },
        "id": "BZoHTPqOhFU9",
        "outputId": "4601c147-f79e-421f-f3a7-adf5be2c0f56"
      },
      "source": [
        "\"\"\"\n",
        "Find a pair with the given difference\n",
        "you are given an unsorted array Arr and a number N, \n",
        "write a program to find a pair of elements in the array whose difference is n. \n",
        "if there exists a pair display True or else display False\n",
        "\"\"\"\n",
        "def PairDiff(arr,n):\n",
        " \n",
        "    size = len(arr)\n",
        "\n",
        "    i,j = 0,1\n",
        " \n",
        "    while i < size and j < size:\n",
        " \n",
        "        if i != j and arr[j]-arr[i] == n:\n",
        "            return True\n",
        " \n",
        "        elif arr[j] - arr[i] < n:\n",
        "            j+=1\n",
        "        else:\n",
        "            i+=1\n",
        "    return False\n",
        " \n",
        "# Driver function to test above function\n",
        "if __name__=='__main__':\n",
        "  try:\n",
        "    Arr=[int(item) for item in input().split()]\n",
        "    n=int(input())\n",
        "  except:\n",
        "    Arr=[]\n",
        "    n=0\n",
        "  if len(Arr)>1:\n",
        "    print(PairDiff(Arr, n))\n",
        "  else:\n",
        "    print()"
      ],
      "execution_count": null,
      "outputs": [
        {
          "output_type": "stream",
          "text": [
            "-89 -78\n",
            "11\n",
            "True\n"
          ],
          "name": "stdout"
        }
      ]
    },
    {
      "cell_type": "code",
      "metadata": {
        "colab": {
          "base_uri": "https://localhost:8080/"
        },
        "id": "F1VNBaFihEt7",
        "outputId": "eebb7a34-02da-48c4-caf7-fe6446b623ee"
      },
      "source": [
        "\"\"\"\n",
        "Recursively adds up to 9\n",
        "you are given a number as a string S, \n",
        "write a function to find the number of substrings (or contiguous subsequences) \n",
        "of the given string which recursively add up to 9.\n",
        "For example digits of 729 recursively add to 9,\n",
        "7+2+9=18\n",
        "18=1+8=9\n",
        "then \n",
        "7+2=9\n",
        "and \n",
        "9\n",
        "so it should output 3\n",
        "\"\"\"\n",
        "def NOof9s(number):\n",
        "    n = len(number)\n",
        "    dig = [0 for i in range(9)]\n",
        "    dig[0] = 1\n",
        "    result = 0\n",
        "    mod_sum = 0\n",
        "    continuous_zero = 0\n",
        "    for i in range(n):\n",
        "        if (ord(number[i]) - ord('0') == 0):\n",
        "            continuous_zero += 1 \n",
        "        else:\n",
        "            continuous_zero = 0 \n",
        "        mod_sum += ord(number[i]) - ord('0')\n",
        "        mod_sum %= 9\n",
        "        result += dig[mod_sum]\n",
        "        dig[mod_sum] += 1     \n",
        "        result -= continuous_zero\n",
        "    return result\n",
        "\n",
        "# Driver Code\n",
        "if __name__ == '__main__':\n",
        "  try:\n",
        "    S=input()\n",
        "    test=[int(item) for item in S]\n",
        "  except:\n",
        "    S=\"\"\n",
        "  if len(S)>0:\n",
        "    print(NOof9s(S))\n",
        "  else:\n",
        "    print()"
      ],
      "execution_count": null,
      "outputs": [
        {
          "output_type": "stream",
          "text": [
            "3322333650656944632\n",
            "17\n"
          ],
          "name": "stdout"
        }
      ]
    },
    {
      "cell_type": "markdown",
      "metadata": {
        "id": "aP0u5i7ldzMM"
      },
      "source": [
        "#13"
      ]
    },
    {
      "cell_type": "code",
      "metadata": {
        "colab": {
          "base_uri": "https://localhost:8080/"
        },
        "id": "042h0CDThOQK",
        "outputId": "a378983f-1b45-49da-903d-43f112a8de25"
      },
      "source": [
        "\"\"\"\n",
        "You are given an array \n",
        "write the most efficient program to find the pair with the maximum value\n",
        "for eg \n",
        "1 34 56 87 90\n",
        "\"\"\"\n",
        "\n",
        "def productPair(arr, n):\n",
        "    arr=sorted(arr)\n",
        "    #sorting the array  \n",
        "    #print(arr)\n",
        "    num1 = num2 = 0\n",
        "    # if all the elements are positive then sum 2>sum 1\n",
        "    sum1 = arr[0] * arr[1]\n",
        "    sum2 = arr[n - 1] * arr[n - 2]\n",
        "    if (sum1 > sum2):\n",
        "      num1 = arr[0]\n",
        "      num2 = arr[1]\n",
        "    elif sum1== 0 and sum2 == 0:\n",
        "      print(0)\n",
        "      return\n",
        "    else:\n",
        "      num1 = arr[n - 2]\n",
        "      num2 = arr[n - 1]\n",
        "    print(num1,num2)\n",
        " \n",
        "# Driver Code\n",
        "if __name__=='__main__':\n",
        "  try:\n",
        "    Arr=[int(item) for item in input().split()]\n",
        "  except:\n",
        "    Arr=[]\n",
        "  if len(Arr)>0:\n",
        "    productPair(Arr, len(Arr))\n",
        "  else:\n",
        "   print()"
      ],
      "execution_count": null,
      "outputs": [
        {
          "output_type": "stream",
          "text": [
            "56 23 14 2 89 54 -1 -0 -988 121 11\n",
            "89 121\n"
          ],
          "name": "stdout"
        }
      ]
    },
    {
      "cell_type": "code",
      "metadata": {
        "colab": {
          "base_uri": "https://localhost:8080/"
        },
        "id": "V9D2EtAhpo4u",
        "outputId": "4b4a9c0b-8898-4343-c3cc-2e04bab3fd93"
      },
      "source": [
        "class Node:\n",
        "    # Function to initialise the node object\n",
        "    def __init__(self, data):\n",
        "        self.data = data # Assign data\n",
        "        self.next = None # Initialize next as null\n",
        " \n",
        "# Linked List class contains a Node object\n",
        "class LinkedList:\n",
        " \n",
        "    # Function to initialize head\n",
        "    def __init__(self):\n",
        "        self.head = None\n",
        "    def push(self, new_data):\n",
        "        new_node = Node(new_data)\n",
        "        new_node.next = self.head\n",
        "        self.head = new_node\n",
        "    def getCount(self):\n",
        "        temp = self.head # Initialise temp\n",
        "        count = 0 # Initialise count\n",
        "        # Loop while end of linked list is not reached\n",
        "        while (temp):\n",
        "            count += 1\n",
        "            temp = temp.next\n",
        "        return count\n",
        "    def checkPalin(self,l):\n",
        "        s=[]\n",
        "        temp=self.head\n",
        "        # two cases if the lenght is even \n",
        "        if l%2==0:\n",
        "          n=l/2\n",
        "          #pushing half of the elements on to stack\n",
        "          while (n!=0):\n",
        "            s.append(temp.data)\n",
        "            n-=1\n",
        "            temp=temp.next\n",
        "          n=l/2\n",
        "          #popping while checking the other half\n",
        "          while (n!=0):\n",
        "            if s[-1]==temp.data:\n",
        "              s.pop()\n",
        "              n-=1\n",
        "              temp=temp.next\n",
        "            else:\n",
        "              n-=1\n",
        "              temp=temp.next\n",
        "        else:\n",
        "          #when lenght is odd\n",
        "          n=(l-1)/2\n",
        "          while (n!=0):\n",
        "            #print(temp.data)\n",
        "            s.append(temp.data)\n",
        "            n-=1\n",
        "            temp=temp.next\n",
        "          n=(l-1)/2\n",
        "          temp=temp.next\n",
        "          while (n!=0):\n",
        "            if s[-1]==temp.data:\n",
        "              s.pop()\n",
        "              n-=1\n",
        "              temp=temp.next\n",
        "            else:\n",
        "              n-=1\n",
        "              temp=temp.next\n",
        "        if len(s)==0:\n",
        "          return True\n",
        "        else:\n",
        "          return False\n",
        "\n",
        "# Code execution starts here\n",
        "if __name__=='__main__':\n",
        "  try:\n",
        "  #taking input of List in a single line\n",
        "    S=input()\n",
        "  except:\n",
        "    S=\"\"    \n",
        "  list1 = LinkedList()\n",
        "  for i in range(len(S)):\n",
        "    if S[i]!=' ' and S[i]!='.' and S[i]!='?' and S[i]!=',':\n",
        "      list1.push(S[i].lower())  \n",
        "  l=list1.getCount()\n",
        "  #print(l)\n",
        "  print(list1.checkPalin(l))"
      ],
      "execution_count": null,
      "outputs": [
        {
          "output_type": "stream",
          "text": [
            "Go hang a salami, Im a lasagna hog\n",
            "True\n"
          ],
          "name": "stdout"
        }
      ]
    },
    {
      "cell_type": "code",
      "metadata": {
        "colab": {
          "base_uri": "https://localhost:8080/"
        },
        "id": "Huhy-oxWs2iG",
        "outputId": "66b617c4-e844-460c-aee6-55d4b09da29e"
      },
      "source": [
        "\"\"\"\n",
        "You are given 3 numbers X S and N\n",
        "write a program to find out wheter you can reduce X to 0 in exactly N steps by subtracting S or 1 from it.\n",
        "given \n",
        "1<X<2147483647\n",
        "1<S<2147483647\n",
        "0<N<2147483647\n",
        "\"\"\"\n",
        "#Function to check the above problem condition\n",
        "def reachingSeq(X,S,N):\n",
        "    #Check for base cases\n",
        "    if (X < N):\n",
        "        return False\n",
        "    elif (N * S < X):\n",
        "        return False\n",
        "    #Check if D - 1 is a divisor of X - T\n",
        "    elif ((X - N) % (S - 1) == 0):\n",
        "        return True\n",
        "    else:\n",
        "        return True\n",
        "if __name__=='__main__':\n",
        "  try:\n",
        "    Arr=[int(item) for item in input().split()]\n",
        "  except:\n",
        "    Arr=[]\n",
        "  if Arr[0]>1 and Arr[1]>1 and Arr[2]>0:\n",
        "    print(reachingSeq(Arr[0],Arr[1],Arr[2]))\n",
        "  else:\n",
        "    print()\n"
      ],
      "execution_count": null,
      "outputs": [
        {
          "output_type": "stream",
          "text": [
            "5855 2 46\n",
            "False\n"
          ],
          "name": "stdout"
        }
      ]
    },
    {
      "cell_type": "code",
      "metadata": {
        "colab": {
          "base_uri": "https://localhost:8080/"
        },
        "id": "S8hxMM4LsNCs",
        "outputId": "93452182-920c-4184-8843-81d475c35132"
      },
      "source": [
        "\"\"\"\n",
        "Write a python program to impliment a infinitely long linear queue with two stacks\n",
        "5 3 2 6 4\n",
        "3\n",
        "6 4 5 2 4\n",
        "the first line of input will be initially pushed in to the queue\n",
        "the next line N is the number of entries that will be dequed \n",
        "and then display the result after pushing N items into the queue from the even(0,2,4....) indexes from the  first line of input.\n",
        "\"\"\"\n",
        "class Queue:\n",
        "    def __init__(self):\n",
        "        self.s1 = []\n",
        "        self.s2 = []\n",
        " \n",
        "\n",
        "    def enQueue(self, x):\n",
        "        self.s1.append(x)\n",
        " \n",
        "    def deQueue(self):\n",
        " \n",
        "        # if both the stacks are empty\n",
        "        if len(self.s1) == 0 and len(self.s2) == 0:\n",
        "            print(\"Empty\")\n",
        "            return\n",
        " \n",
        "        # if s2 is empty and s1 has elements\n",
        "        elif len(self.s2) == 0 and len(self.s1) > 0:\n",
        "            while len(self.s1):\n",
        "                temp = self.s1.pop()\n",
        "                self.s2.append(temp)\n",
        "            return self.s2.pop()\n",
        " \n",
        "        else:\n",
        "            return self.s2.pop()\n",
        "    # Driver code\n",
        "if __name__ == '__main__':\n",
        "  try:\n",
        "    Arr=[int(item) for item in input().split()]\n",
        "    N= int(input())\n",
        "  except:\n",
        "    Arr=[]\n",
        "    N=0\n",
        "  size=0\n",
        "  if len(Arr)>0 and N<=len(Arr):\n",
        "    q = Queue()\n",
        "    for ele in Arr:\n",
        "      q.enQueue(ele)\n",
        "      size+=1\n",
        "    for i in range(N):\n",
        "      q.deQueue()\n",
        "      size-=1\n",
        "    a=0\n",
        "    while (a<=(len(Arr)-1) and N!=0):\n",
        "      q.enQueue(Arr[a])\n",
        "      size+=1\n",
        "      a+=2\n",
        "    while (size!=0):\n",
        "      print(q.deQueue(),end=\" \")\n",
        "      size-=1\n",
        "  else:\n",
        "    print()\n",
        "\n",
        "    \n"
      ],
      "execution_count": null,
      "outputs": [
        {
          "output_type": "stream",
          "text": [
            "1 2 3 4 5 6 7 8 9 10 \n",
            "9\n",
            "10 1 3 5 7 9 "
          ],
          "name": "stdout"
        }
      ]
    },
    {
      "cell_type": "markdown",
      "metadata": {
        "id": "WeEC9MQn-D6k"
      },
      "source": [
        "#14"
      ]
    },
    {
      "cell_type": "code",
      "metadata": {
        "colab": {
          "base_uri": "https://localhost:8080/"
        },
        "id": "OCrDW2DX11xa",
        "outputId": "7f5a77c9-97b2-42e0-c089-58d6d1f5d726"
      },
      "source": [
        "\"\"\"\n",
        "Rohan is a spy, he is sitting within earshot of his target who is typing \n",
        "a message on his keypad phone Rohan knows the sound each key makes when its pressed\n",
        "so he noted it down and now he has a string which contains numbers {2,3,4,5,6,7,8,9,0} and \n",
        "the back button is represented as 'B'.\n",
        "You are a spy currently employed in the encryption and decryption deparment\n",
        "and you have to write a code that translates this message into english.\n",
        "1. there might be letters where there are more than 3 or 4 number representing \n",
        "it like '2222' will still represent 'a' as we see that the letters are circular in fashion \n",
        "Key map\n",
        "{\n",
        "  2:abc\n",
        "  3:def\n",
        "  4:ghi\n",
        "  5:jkl\n",
        "  6:mno\n",
        "  7:pqrs\n",
        "  8:tuv\n",
        "  9:wxyz\n",
        "  0:SPACE\\n\n",
        "} \n",
        "and B is delete key\n",
        "input format:\n",
        "44 33 555 555 666 00 2 4 B\n",
        "it translates to \n",
        "'hello\n",
        "a'\n",
        "\"\"\"\n",
        "def decode(Char_list,List):\n",
        "  S=''\n",
        "  for ele in List:\n",
        "    if ele[0] == '0':\n",
        "      l=len(ele)%2\n",
        "      if l==1:\n",
        "        S+=' '\n",
        "      else:\n",
        "        S+='\\n'\n",
        "    elif ele[0] == '1':\n",
        "      if len(S)!=0:\n",
        "        S=S[:-1]\n",
        "    elif ele[0] == '2':\n",
        "      l=len(ele)%3\n",
        "      S+=Char_list[2][l]\n",
        "    elif ele[0] == '3':\n",
        "      l=len(ele)%3\n",
        "      S+=Char_list[3][l]\n",
        "    elif ele[0] == '4':\n",
        "      l=len(ele)%3\n",
        "      S+=Char_list[4][l]        \n",
        "    elif ele[0] == '5':\n",
        "          l=len(ele)%3\n",
        "          S+=Char_list[5][l]\n",
        "    elif ele[0] == '6':\n",
        "          l=len(ele)%3\n",
        "          S+=Char_list[6][l]\n",
        "    elif ele[0] == '7':\n",
        "          l=len(ele)%4\n",
        "          S+=Char_list[7][l]\n",
        "    elif ele[0] == '8':\n",
        "      l=len(ele)%3\n",
        "      S+=Char_list[8][l]\n",
        "    elif ele[0] == '9':\n",
        "      l=len(ele)%4\n",
        "      S+=Char_list[9][l]\n",
        "  return S\n",
        "\n",
        "\n",
        "if __name__=='__main__':\n",
        "  try:\n",
        "    Arr=[item for item in input().split()]\n",
        "  except:\n",
        "    Arr=[]\n",
        "  flag=0\n",
        "  for i in range(len(Arr)):\n",
        "    for a in range(len(Arr[i])):\n",
        "      if Arr[i][a] =='B':\n",
        "        Arr[i]='1'\n",
        "      elif Arr[i][a] not in ['0','2','3','4','5','6','7','8','9']:\n",
        "        flag+=1\n",
        "  if flag==0:\n",
        "    #Since the indexes starts from 0 so we bring the last character to the first in the character list and we modulus by 3 \n",
        "    Char_list=[' \\n','B','cab','fde','igh','ljk','omn','spqr','vtu','zwxy']\n",
        "    S=decode(Char_list,Arr) \n",
        "    print(S)\n",
        "  else:\n",
        "    print()"
      ],
      "execution_count": null,
      "outputs": [
        {
          "output_type": "stream",
          "text": [
            "555 666 555 000 44 1\n",
            "\n"
          ],
          "name": "stdout"
        }
      ]
    },
    {
      "cell_type": "code",
      "metadata": {
        "colab": {
          "base_uri": "https://localhost:8080/"
        },
        "id": "HzGSOQE7-CX3",
        "outputId": "e8c513e8-07cc-400e-d3d0-401dd8faa3ea"
      },
      "source": [
        "\"\"\"\n",
        "You are given an array arr[] of N positive integers. \n",
        "The task is to find elements arr[i] and arr[j] from the array such that \n",
        "nCr where arr[i] is n and arr[j] is p,is maximum possible. In case of more than 1 valid pairs, print any one of them.\n",
        "\"\"\"\n",
        "def Maxncr(Arr, n):\n",
        "    Arr=sorted(Arr)\n",
        "    # This gives the value of N in nCr\n",
        "    N = Arr[n - 1]\n",
        "    # Case 1 : When N is odd\n",
        "    if N % 2 == 1:\n",
        "        firstMax = N // 2\n",
        "        secondMax = firstMax + 1\n",
        "        ans1, ans2 = 3 * (10 ** 18), 3 * (10 ** 18)\n",
        "        left, right = -1, -1\n",
        "        _from = -1\n",
        "        for i in range(0, n):\n",
        "            if Arr[i] > firstMax:\n",
        "                _from = i\n",
        "                break\n",
        "             \n",
        "            else:\n",
        "                diff = firstMax - Arr[i]\n",
        "                if diff < ans1:\n",
        "                    ans1 = diff\n",
        "                    left = Arr[i]\n",
        "                 \n",
        "        right = Arr[_from]\n",
        "        diff1 = firstMax - left\n",
        "        diff2 = right - secondMax\n",
        " \n",
        "        if diff1 < diff2:\n",
        "            print(N, left)\n",
        "        else:\n",
        "            print(N, right)\n",
        " \n",
        "    # Case 2 : When N is even\n",
        "    else:\n",
        "        maxima = N // 2\n",
        "        ans1 = 3 * (10 ** 18)\n",
        "        R = -1\n",
        "        for i in range(0, n - 1):\n",
        "            diff = abs(Arr[i] - maxima)\n",
        "            if diff < ans1:\n",
        "                ans1 = diff\n",
        "                R = Arr[i]\n",
        "             \n",
        "        print(N, R)\n",
        " \n",
        "# Driver code\n",
        "if __name__ == \"__main__\":\n",
        "  try:\n",
        "    Arr=[int(item) for item in input().split()]\n",
        "  except:\n",
        "    Arr=[]\n",
        "  if len(Arr)>1:\n",
        "    n = len(Arr)\n",
        "    Maxncr(Arr, n)"
      ],
      "execution_count": null,
      "outputs": [
        {
          "output_type": "stream",
          "text": [
            "1\n"
          ],
          "name": "stdout"
        }
      ]
    },
    {
      "cell_type": "code",
      "metadata": {
        "colab": {
          "base_uri": "https://localhost:8080/"
        },
        "id": "y5QJDPab-oQC",
        "outputId": "90364b8f-6c07-4819-dbdd-7716152d6d30"
      },
      "source": [
        "\"\"\"\n",
        "print the longest prefix from a string which is also a suffix\n",
        "you are Given a string str,\n",
        "write a program to find the longest prefix which is also the suffix of the input string. \n",
        "The prefix and suffix should not overlap.\n",
        "if there isnt one display -1\n",
        "\"\"\"\n",
        "def lengthsufandpre(s):\n",
        "    n = len(s)\n",
        "    # array the size of the string\n",
        "    lps = [0 for i in range(n)]\n",
        "    len1 = 0\n",
        "    i = 1\n",
        "    while (i < n):\n",
        "        if (s[i] == s[len1]):\n",
        "            len1 += 1\n",
        "            lps[i] = len1\n",
        "            i += 1\n",
        "        else:\n",
        "            if (len1 != 0):\n",
        "                len1 = lps[len1 - 1]\n",
        "            else:\n",
        "                lps[i] = 0\n",
        "                i += 1\n",
        "    res = lps[n - 1]\n",
        "    # we are not looking for the overlapping parts\n",
        "    if (res > int(n / 2)):\n",
        "        return int(n / 2)\n",
        "    else:\n",
        "        return res\n",
        "def retPrefixSuffix(s): \n",
        "    len1 = lengthsufandpre(s)\n",
        "    prefix = \"\"\n",
        "    #adds the orefix\n",
        "    for i in range(len1):\n",
        "        prefix += s[i]\n",
        "    return prefix\n",
        " \n",
        "# Driver code\n",
        "if __name__ == '__main__':\n",
        "    s = input()\n",
        "    ans = retPrefixSuffix(s)\n",
        "    if (ans == \"\"):\n",
        "        print(\"-1\")\n",
        "    else:\n",
        "        print(ans)\n",
        "\n"
      ],
      "execution_count": null,
      "outputs": [
        {
          "output_type": "stream",
          "text": [
            "aaaa\n",
            "aa\n"
          ],
          "name": "stdout"
        }
      ]
    },
    {
      "cell_type": "code",
      "metadata": {
        "id": "-9lIKzIAM5_T",
        "colab": {
          "base_uri": "https://localhost:8080/"
        },
        "outputId": "dba73763-6e9d-4b37-a050-619cf23379ff"
      },
      "source": [
        "\"\"\"\n",
        "Impliment stack data structure with python and write a function that will keep track of \n",
        "the maximum element in the stack and print the maximum element in the stack\n",
        "input format:\n",
        "5 6 4 7 8 9 2 \n",
        "3 \n",
        "7\n",
        "the first line is the data in the stack \n",
        "the second line is the number of elements popped\n",
        "the third line is the output which is \n",
        "the maximum element of the current stack\n",
        "\"\"\"\n",
        "class Stack:\n",
        "    def __init__(self):   \n",
        "        # main stack \n",
        "        self.mainS = []    \n",
        "        # Track stack \n",
        "        self.TrackS = []\n",
        "    def push(self, x):\n",
        "        self.mainS.append(x) \n",
        "        if (len(self.mainS) == 1):\n",
        "            self.TrackS.append(x) \n",
        "            return\n",
        "        #if x is greater than the top element then append x\n",
        "        #appedn track stacks' top element to it again \n",
        "        if (x > self.TrackS[-1]): \n",
        "            self.TrackS.append(x) \n",
        "        else:\n",
        "            self.TrackS.append(self.TrackS[-1])\n",
        "  \n",
        "    def getMax(self):\n",
        "      #top element is the maximuum\n",
        "        return self.TrackS[-1]\n",
        "  \n",
        "    def pop(self):\n",
        "        self.mainS.pop() \n",
        "        self.TrackS.pop()\n",
        "  \n",
        "# Driver Code\n",
        "if __name__ == '__main__':\n",
        "  try:\n",
        "    Stk=[int(item) for item in input().split()]\n",
        "    N=int(input())\n",
        "  except:\n",
        "    Stk=[]\n",
        "    N=[]\n",
        "  s = Stack()\n",
        "  if len(Arr)>0:\n",
        "    for i in range(len(Stk)):\n",
        "      s.push(Stk[i])\n",
        "    if N>0:  \n",
        "      for i in range(N):\n",
        "        s.pop()\n",
        "    print(s.getMax())\n",
        "  else:\n",
        "    print()\n",
        "\n",
        "\n",
        "\n",
        "  \n"
      ],
      "execution_count": null,
      "outputs": [
        {
          "output_type": "stream",
          "text": [
            "2 2 5 6\n",
            "1\n",
            "5\n"
          ],
          "name": "stdout"
        }
      ]
    },
    {
      "cell_type": "markdown",
      "metadata": {
        "id": "uxB-FTzJ-GXN"
      },
      "source": [
        "#15"
      ]
    },
    {
      "cell_type": "code",
      "metadata": {
        "id": "hWpq3i7MZ4AM",
        "colab": {
          "base_uri": "https://localhost:8080/"
        },
        "outputId": "90320f4e-8369-412a-8972-2f77eb4cb589"
      },
      "source": [
        "\"\"\"\n",
        "you are given a Binary Tree with height 3 and 5 elements, \n",
        "the task is to find the count of diagonal paths to the leaf of a binary tree \n",
        "such that values of all the nodes on the same diagonal are equal.\n",
        "input format\n",
        "1 2 3 4 5\n",
        "     1\n",
        "    / \\\n",
        "   2   3\n",
        "    \\   \\\n",
        "     4   5     \n",
        "output:\n",
        "0\n",
        "as we can see all elements are different \n",
        "5 6 5 6 5\n",
        "    5\n",
        "   / \\\n",
        "  6   5 \n",
        "   \\   \\\n",
        "    6   5\n",
        "output:\n",
        "2\n",
        "\"\"\"\n",
        "class TreeNode:\n",
        "    def __init__(self, val = 0, left = None, right = None):\n",
        "        self.val = val\n",
        "        self.left = left\n",
        "        self.right = right\n",
        "def sameDiag(root):\n",
        "    diag = {}\n",
        "\n",
        "    # variable to store the diagonal indexing\n",
        "    left = 0\n",
        "    def fillMap(root, left):\n",
        "        # empty tree\n",
        "        if not root:\n",
        "            return\n",
        "        #if the node is not visited\n",
        "        if left not in diag:\n",
        "          #updating diag\n",
        "            diag[left] = set([root.val])\n",
        "        else:\n",
        "            diag[left].add(root.val)\n",
        "        # travelling LST\n",
        "        fillMap(root.left, left + 1)\n",
        " \n",
        "        # Travelling right subtree\n",
        "        fillMap(root.right, left)\n",
        "    fillMap(root, left)\n",
        "    count = 0\n",
        "    # travelling and counting diagonals\n",
        "    for d in diag:\n",
        "        if len(list(diag[d])) == 1:\n",
        "            count += 1\n",
        "    return count\n",
        "# Driver Code\n",
        "if __name__ == '__main__':\n",
        "  try:\n",
        "    Arr=[int(item) for item in input().split()]\n",
        "  except:\n",
        "    Arr=[]\n",
        "  if len(Arr)==5:\n",
        "    root = TreeNode(Arr[0])\n",
        "    root.left = TreeNode(Arr[1])\n",
        "    root.right = TreeNode(Arr[2])\n",
        "    root.left.right = TreeNode(Arr[3])\n",
        "    root.right.right = TreeNode(Arr[4])\n",
        "    print(sameDiag(root))\n",
        "  else:\n",
        "    print()"
      ],
      "execution_count": null,
      "outputs": [
        {
          "output_type": "stream",
          "text": [
            "2 3 5 3 2 35 623\n",
            "\n"
          ],
          "name": "stdout"
        }
      ]
    },
    {
      "cell_type": "code",
      "metadata": {
        "colab": {
          "base_uri": "https://localhost:8080/"
        },
        "id": "Pzr_eXOOq3Ls",
        "outputId": "7ea856f8-20a9-4e7a-cb2b-f6425fceda98"
      },
      "source": [
        "\"\"\"\n",
        "You are given an integer N,\n",
        "Count the number of ways you can represent the number N as a sum of 2 or more consequitive integers\n",
        "for eg\n",
        "10\n",
        "1\n",
        "as we can only represent 10 as \n",
        "1+2+3+4 \n",
        "\"\"\"\n",
        "\"\"\"\n",
        "if we represent N as a sequence of L+1 then we can say: \n",
        "N = a + (a+1) + (a+2) + .. + (a+L) \n",
        "=> N = (L+1)*a + (L*(L+1))/2 \n",
        "=> a = (N- L*(L+1)/2)/(L+1) \n",
        "We substitute the values of L starting from 1 till L*(L+1)/2 < N \n",
        "\"\"\"\n",
        "def countConsecutive(N):\n",
        "    count = 0\n",
        "    L = 1\n",
        "    while( L * (L + 1) < 2 * N):\n",
        "        a = (1.0 * N - (L * (L + 1) ) / 2) / (L + 1)\n",
        "        if (a - int(a) == 0.0):\n",
        "            count += 1\n",
        "        L += 1\n",
        "    return count\n",
        " \n",
        "# Driver code\n",
        "if __name__ == '__main__':\n",
        "  try:\n",
        "    n=int(input())\n",
        "    print(countConsecutive(n))\n",
        "  except:\n",
        "    n=0\n",
        "  "
      ],
      "execution_count": null,
      "outputs": [
        {
          "output_type": "stream",
          "text": [
            "a\n"
          ],
          "name": "stdout"
        }
      ]
    },
    {
      "cell_type": "code",
      "metadata": {
        "colab": {
          "base_uri": "https://localhost:8080/"
        },
        "id": "nBkqlOYTXOu_",
        "outputId": "a7702330-35a7-4f1f-eb8c-9b9489fc4ba3"
      },
      "source": [
        "\"\"\"\n",
        "Sieve of Eratosthenes\n",
        "A safe prime is a prime number p of the form p = 2q + 1 where q is also prime. \n",
        "\"\"\"\n",
        "from math import sqrt \n",
        "def printSafePrimes(n):\n",
        "  # creating Sieve of Eratosthenes to find the primes and \n",
        "  #then checking for the 2p+1 condition\n",
        "    prime = [0 for i in range(n + 1)]\n",
        "    for i in range(2, n + 1):\n",
        "        prime[i] = 1\n",
        "    prime[0] = prime[1] = 0\n",
        "    for p in range(2, int(sqrt(n)) + 1, 1):\n",
        "        if (prime[p] == 1):\n",
        "            for i in range(p * 2, n + 1, p):\n",
        "                prime[i] = 0\n",
        "    for i in range(2, n + 1, 1):\n",
        "        if (prime[i] != 0):\n",
        "            temp = (2 * i) + 1\n",
        "            if (temp <= n and prime[temp] != 0):\n",
        "                prime[temp] = 2\n",
        "    for i in range(5, n + 1):\n",
        "        if (prime[i] == 2):\n",
        "            print(i, end = \" \")\n",
        " \n",
        "# Driver code\n",
        "if __name__ == '__main__':\n",
        "  try:\n",
        "    n=int(input())\n",
        "    printSafePrimes(n)\n",
        "  except:\n",
        "    print()\n"
      ],
      "execution_count": null,
      "outputs": [
        {
          "output_type": "stream",
          "text": [
            "4\n"
          ],
          "name": "stdout"
        }
      ]
    },
    {
      "cell_type": "code",
      "metadata": {
        "colab": {
          "base_uri": "https://localhost:8080/"
        },
        "id": "KLUDb0Iwbves",
        "outputId": "fcf98f18-2be7-4cd1-ebb3-11b9a069e376"
      },
      "source": [
        "\"\"\"\n",
        "write a program to merge two sorted arrays Arr1 and Arr2\n",
        "with O(1) extra space merge these two arrays such that after sorting\n",
        "the initial numbers are in the first array and \n",
        "the remaining numbers are in the second array. \n",
        "Extra space allowed in O(1).\n",
        "eg:\n",
        "initial arrays:\n",
        "First Array:1 5 9 10 15 2\n",
        "Second Array:2 3 8 13\n",
        "After Merging \n",
        "First Array:1  2  3  5  8  9  \n",
        "Second Array: 10  13  15  20  \n",
        "\"\"\"\n",
        "\"\"\"\n",
        "Iterate through every element of Arr2[] starting from the lastelement. \n",
        "for every element in Arr2[]\n",
        "Store last element of Arr1[i] in var last \n",
        "Loop from last element of Arr1[] while element Arr1[j] is greater than Arr2[i].\n",
        "Arr1[j+1] = Arr1[j] Move element one position ahead and decrease j\n",
        "If any element of Arr1[] was moved or (j != m-1)\n",
        "Arr1[j+1] = Arr2[i] \n",
        "Arr2[i] = last\n",
        "\"\"\"\n",
        "def merge(ar1, ar2, m, n):\n",
        "    for i in range(n-1, -1, -1):\n",
        "        last = ar1[m-1]\n",
        "        j=m-2\n",
        "        while(j >= 0 and ar1[j] > ar2[i]):\n",
        "            ar1[j+1] = ar1[j]\n",
        "            j-=1\n",
        "        if (j != m-2 or last > ar2[i]):\n",
        "            ar1[j+1] = ar2[i]\n",
        "            ar2[i] = last\n",
        "  \n",
        "if __name__ == '__main__':\n",
        "  try:    \n",
        "    Arr1 = [int(item) for item in input().split()]\n",
        "    Arr2 = [int(item) for item in input().split()]\n",
        "  except:\n",
        "    Arr1=[]\n",
        "    Arr2=[]\n",
        "  if(len(Arr1)>0 and len(Arr2)>0):\n",
        "    merge(Arr1, Arr2,len(Arr1),len(Arr2))\n",
        "    for i in range(len(Arr1)):\n",
        "      print(Arr1[i], end=\" \")\n",
        "    for i in range(len(Arr2)):\n",
        "      print(Arr2[i],end=\" \")\n",
        "    else:\n",
        "      print()"
      ],
      "execution_count": null,
      "outputs": [
        {
          "output_type": "stream",
          "text": [
            "1 2 3 4 5\n",
            "\n"
          ],
          "name": "stdout"
        }
      ]
    },
    {
      "cell_type": "markdown",
      "metadata": {
        "id": "QekfmkNP92uy"
      },
      "source": [
        "#16\n"
      ]
    },
    {
      "cell_type": "code",
      "metadata": {
        "colab": {
          "base_uri": "https://localhost:8080/"
        },
        "id": "XXB64xBuerZ8",
        "outputId": "f51a9951-998b-41f8-99ef-c08bee9d08c3"
      },
      "source": [
        "\"\"\"\n",
        "You are given a list of numbers L \n",
        "convert this list into a binary search tree \n",
        "and display the inorder traversal of the binary tree.\n",
        "\"\"\"\n",
        "class Node:\n",
        "    def __init__(self, key):\n",
        "        self.left = None\n",
        "        self.right = None\n",
        "        self.val = key \n",
        "def insert(root, key):\n",
        "    if root is None:\n",
        "        return Node(key)\n",
        "    else:\n",
        "        if root.val == key:\n",
        "            return root\n",
        "        elif root.val < key:\n",
        "            root.right = insert(root.right, key)\n",
        "        else:\n",
        "            root.left = insert(root.left, key)\n",
        "    return root\n",
        "def inorder(root):\n",
        "    if root:\n",
        "        inorder(root.left)\n",
        "        print(root.val,end=\" \")\n",
        "        inorder(root.right)\n",
        "if __name__ == '__main__':\n",
        "  try:    \n",
        "    Arr = [int(item) for item in input().split()]\n",
        "  except:\n",
        "    Arr=[]\n",
        "  if len(Arr)>0:\n",
        "    r = Node(Arr[0])\n",
        "    for i in range(1,len(Arr)):  \n",
        "      r = insert(r,Arr[i])\n",
        "    inorder(r)"
      ],
      "execution_count": null,
      "outputs": [
        {
          "output_type": "stream",
          "text": [
            "-988 -45 122 -78 -23 6554\n",
            "-988 -78 -45 -23 122 6554 "
          ],
          "name": "stdout"
        }
      ]
    },
    {
      "cell_type": "code",
      "metadata": {
        "colab": {
          "base_uri": "https://localhost:8080/"
        },
        "id": "4QrepDU-95D2",
        "outputId": "7058a46c-4a64-4cee-efa2-e693d1b23c46"
      },
      "source": [
        "\"\"\"\n",
        "you are given an array Arr you have to make an array D of the same size of Arr \n",
        "consisting of 0s such that D[i]>=Arr[i] by incrementing a sub array of size K\n",
        "in the minimum number of steps \n",
        "For eg:\n",
        "Arr=5 4 3 2 1\n",
        "K=3\n",
        "then initially D= 0 0 0 0 0 \n",
        "after 1st step we change the subarray [0:3]\n",
        "D becomes 5 5 5 0 0 after 5 steps\n",
        "then we increment the last 3 places 2 times\n",
        "then D becomes 5 5 7 2 2 \n",
        "and we display 7 as it took 7 steps to get this array.\n",
        "\"\"\"\n",
        "def min_count(n, b, k):\n",
        "    #declaring the new array B\n",
        "    d =[0 for i in range(n + 1)]\n",
        "    op = 0\n",
        "    for i in range(n):\n",
        "        d[i]+= d[i-1]\n",
        "        if b[i]>d[i]:\n",
        "          #checking if we need to operate again\n",
        "            op+=(b[i]-d[i])\n",
        "            need =(b[i]-d[i])\n",
        "            d[i]+= need\n",
        "            if i + k<= n:\n",
        "                d[i + k]-= need\n",
        "    return op\n",
        "# Driver Code\n",
        "if __name__ == '__main__':\n",
        "  try:    \n",
        "    Arr = [int(item) for item in input().split()]\n",
        "    K=int(input())\n",
        "  except:\n",
        "    Arr=[]\n",
        "    K=0\n",
        "  if K!=0 and len(Arr)>0:\n",
        "    print(min_count(len(Arr),Arr,K))\n",
        "  else:\n",
        "    print()"
      ],
      "execution_count": null,
      "outputs": [
        {
          "output_type": "stream",
          "text": [
            "a\n",
            "\n"
          ],
          "name": "stdout"
        }
      ]
    },
    {
      "cell_type": "code",
      "metadata": {
        "id": "f1Y07wuXFInK",
        "colab": {
          "base_uri": "https://localhost:8080/"
        },
        "outputId": "6c4ca94f-1e4c-431a-d2e6-7cac0cac649b"
      },
      "source": [
        "\"\"\"\n",
        "wirte a program to multiply a 16 bit positive number by 3.5 without using any mathematical operators (+,-,*,/,%)\n",
        "\"\"\"\n",
        "def mulbyhalf7(x):\n",
        "  # consider the equation 2*x+x+x/2 => x(2+1+.5)=>3.5*x \n",
        "    return (x<<1) + x + (x>>1) \n",
        "if __name__ == '__main__':\n",
        "  try:    \n",
        "    N=int(input())\n",
        "    if N>0 and N<65536:\n",
        "      print(mulbyhalf7(N))\n",
        "  except:\n",
        "    print()"
      ],
      "execution_count": null,
      "outputs": [
        {
          "output_type": "stream",
          "text": [
            "67525\n"
          ],
          "name": "stdout"
        }
      ]
    },
    {
      "cell_type": "code",
      "metadata": {
        "colab": {
          "base_uri": "https://localhost:8080/"
        },
        "id": "bBjy8y32pNUp",
        "outputId": "43fabba7-cb42-4f4d-ddc1-835f1ebbba0a"
      },
      "source": [
        "\"\"\"\n",
        "write a python program to generate a matrix containing consequtive numbers of order N \n",
        "Display the created matrix and then rotate the matrix by 180 degrees.\n",
        "\"\"\"\n",
        "def rotateMat(L):\n",
        "    i = N - 1;\n",
        "    while(i >= 0):\n",
        "        j = N - 1;\n",
        "        while(j >= 0):\n",
        "            print(L[i][j], end = \" \");\n",
        "            j = j - 1;\n",
        "        print();\n",
        "        i = i - 1;\n",
        "def GenMatrix(N):\n",
        "  matrix=[]\n",
        "  count=1\n",
        "  for i in range(N):\n",
        "    l=[]\n",
        "    for j in range(N):\n",
        "      l.append(count)\n",
        "      count+=1\n",
        "    matrix.append(l)\n",
        "  for i in range(N):\n",
        "    for j in range(N):\n",
        "      print(matrix[i][j],end=\" \")\n",
        "    print()\n",
        "  return matrix\n",
        "if __name__ == '__main__':\n",
        "  try:    \n",
        "    N=int(input())\n",
        "    L=GenMatrix(N)\n",
        "    print()\n",
        "    rotateMat(L)\n",
        "  except:\n",
        "    print()"
      ],
      "execution_count": null,
      "outputs": [
        {
          "output_type": "stream",
          "text": [
            "a\n",
            "\n"
          ],
          "name": "stdout"
        }
      ]
    },
    {
      "cell_type": "markdown",
      "metadata": {
        "id": "VMxxoJ6eN546"
      },
      "source": [
        "#17"
      ]
    },
    {
      "cell_type": "code",
      "metadata": {
        "colab": {
          "base_uri": "https://localhost:8080/"
        },
        "id": "hxxDlhtqxCX6",
        "outputId": "718cd14b-df35-4ca7-ba7e-32e8d4764f3a"
      },
      "source": [
        "\"\"\"\n",
        "V=1/144[u2U2(w2+W2+v2+V2-U2-u2)+w2W2(U2+u2+v2+V2-W2-w2)+v2V2(w2+W2+u2+U2-v2-V2)-U2v2w2-u2V2w2-u2v2W2]\n",
        "\"\"\"\n",
        "\n",
        "import math\n",
        "# Function to find the volume\n",
        "def findVolume(u, v, w, U, V, W) :\n",
        "    u2 = u*u\n",
        "    v2 = v*v\n",
        "    w2 = w*w\n",
        "    U2 = U*U\n",
        "    V2 = V*V\n",
        "    W2 = W*W\n",
        "    V = (4 * (u2 * v2 * w2)\n",
        "        - u2 * math.pow((v2 + w2 - U2), 2)\n",
        "        - v2 * math.pow((w2 + u2 - V2), 2)\n",
        "        - w2 * math.pow((u2 + v2 - W2), 2)\n",
        "        + (v2 + w2 - U2) * (w2 + u2 - V2)* (u2 + v2 - W2))\n",
        "    try:      \n",
        "      vol = math.sqrt(V)\n",
        "    except:\n",
        "      print(-1)\n",
        "      return   \n",
        "    vol /= 12\n",
        "    print('%.2f'%vol)\n",
        "# Driver code    \n",
        "if __name__ == \"__main__\" :\n",
        "  try:    \n",
        "    Arr = [int(item) for item in input().split()]\n",
        "  except:\n",
        "    Arr=[]\n",
        "  if len(Arr)==6:\n",
        "    u, v, w = Arr[0], Arr[1], Arr[2]\n",
        "    U, V, W = Arr[3], Arr[4], Arr[5]\n",
        "    findVolume(u, v, w, U, V, W)\n",
        "  else:\n",
        "    print()"
      ],
      "execution_count": null,
      "outputs": [
        {
          "output_type": "stream",
          "text": [
            "6 5 4 32 1 5 4\n",
            "\n"
          ],
          "name": "stdout"
        }
      ]
    },
    {
      "cell_type": "code",
      "metadata": {
        "id": "C1nVekD-xJR6",
        "colab": {
          "base_uri": "https://localhost:8080/"
        },
        "outputId": "674f9731-1dc9-423d-b0e1-8255c9165815"
      },
      "source": [
        "\"\"\"\n",
        "You are given an array Arr[] which contains N numbers ranging from [1-N] \n",
        "write a program that left rotates all the even numbers and right rotates all the odd numbers \n",
        "for eg:\n",
        "  1 2 3 4 5 6 7 8\n",
        "  here odd is \n",
        "  1 3 5 7\n",
        "  and even is \n",
        "  2 4 6 8\n",
        "  so the array becomes \n",
        "  7 4 1 6 3 8 5 2\n",
        "  we can see that 7 comes to the front due to right rotate\n",
        "  and 2 goes to the end\n",
        "\"\"\"\n",
        "def left_rotate(arr):\n",
        "    last = arr[1]\n",
        "    for i in range(3, len(arr), 2):\n",
        "        arr[i - 2] = arr[i]\n",
        "    arr[len(arr) - 1] = last\n",
        "def right_rotate(arr):\n",
        "    start = arr[len(arr) - 2]\n",
        "    for i in range(len(arr) - 4, -1, -2):\n",
        "        arr[i + 2] = arr[i]\n",
        "    arr[0] = start\n",
        "\n",
        "def rotate(arr):\n",
        "    right_rotate(arr) \n",
        "    left_rotate(arr)\n",
        "    \n",
        "    for i in range(len(arr)):\n",
        "        print(arr[i], end = \" \")\n",
        " \n",
        "# Driver code\n",
        "if __name__ == \"__main__\" :\n",
        "  try:    \n",
        "    Arr = [int(item) for item in input().split()]\n",
        "  except:\n",
        "    Arr=[]\n",
        "  if len(Arr)>=2 and len(Arr)%2==0:\n",
        "    rotate(Arr)\n",
        "  else:\n",
        "    print()\n"
      ],
      "execution_count": null,
      "outputs": [
        {
          "output_type": "stream",
          "text": [
            "1 2 3\n",
            "\n"
          ],
          "name": "stdout"
        }
      ]
    },
    {
      "cell_type": "code",
      "metadata": {
        "colab": {
          "base_uri": "https://localhost:8080/"
        },
        "id": "SAuXKvj6ggvu",
        "outputId": "420b643e-5880-4856-9634-d89b30401f2c"
      },
      "source": [
        "\"\"\"\n",
        "Nodes above the leaf nodes\n",
        "write a program to create a tree with height4 and 7 elements \n",
        "and print all the nodes that are just above the leaf nodes.\n",
        "for eg :\n",
        "     1\n",
        "    /\\\n",
        "   2  3\n",
        "  / \\  \n",
        "  5  4\n",
        "    /\\\n",
        "    6  7\n",
        "will give 1 2 5 \n",
        "as 1 is just before 3 \n",
        "2 is just befor 5 and \n",
        "\"\"\"\n",
        "class newNode:\n",
        "   #creates the structure for the nodes \n",
        "    def __init__(self, data):\n",
        "       \n",
        "        self.data = data\n",
        "        self.left = None\n",
        "        self.right = None\n",
        "\n",
        "def cal(root):\n",
        "  #if emtry tree\n",
        "    if (root == None):\n",
        "        return\n",
        "    if (root.left == None and\n",
        "        root.right == None):\n",
        "        return\n",
        "    else:\n",
        "      # checking for leaf and printing the nodes\n",
        "        if (root.left != None and\n",
        "            root.right != None):\n",
        "            if ((root.left.left == None and\n",
        "                 root.left.right == None) or\n",
        "                (root.right.left == None and\n",
        "                 root.right.right == None)):\n",
        "                print(root.data, end = \" \")\n",
        "        if (root.left != None and\n",
        "            root.right == None):\n",
        "            if (root.left.left == None and\n",
        "                root.left.right == None):\n",
        "                print(root.data, end = \" \")\n",
        "        if (root.right != None and\n",
        "            root.left == None):\n",
        "            if (root.right.left == None and\n",
        "                root.right.right == None):\n",
        "                print(root.data, end = \" \")\n",
        "    # doing it subsequently for the left and right subtree \n",
        "    cal(root.left)\n",
        "    cal(root.right)\n",
        " \n",
        "# Driver Code\n",
        "if __name__ == '__main__':\n",
        "  try:    \n",
        "    Arr = [int(item) for item in input().split()]\n",
        "  except:\n",
        "    Arr=[]\n",
        "  if len(Arr)==7: \n",
        "    # Construct a tree\n",
        "    root = newNode(Arr[0])\n",
        "    root.left = newNode(Arr[1])\n",
        "    root.right = newNode(Arr[2])\n",
        "    root.left.left = newNode(Arr[3])\n",
        "    root.left.right = newNode(Arr[4])\n",
        "    root.left.right.left = newNode(Arr[5])\n",
        "    root.left.right.right = newNode(Arr[6])\n",
        "    cal(root)"
      ],
      "execution_count": null,
      "outputs": [
        {
          "output_type": "stream",
          "text": [
            "66\n"
          ],
          "name": "stdout"
        }
      ]
    },
    {
      "cell_type": "code",
      "metadata": {
        "colab": {
          "base_uri": "https://localhost:8080/"
        },
        "id": "mACUKHetpNSz",
        "outputId": "f4d5ea41-b2e2-4f09-9f69-c015489cb014"
      },
      "source": [
        "\"\"\"\n",
        "You are given a binary sequence B\n",
        "write a program to find the longest subsequence of 1's after removal of atmost one 0 from zero.\n",
        "for eg:\n",
        "  1 1 0 1 1 0 1\n",
        "  4\n",
        "  we remove the 0 at the 3rd position to get a subsequence of 1s 4 digits long.\n",
        "\n",
        "\"\"\"\n",
        "def longestSubseq(a, n):\n",
        " \n",
        "    # counts the consecutive 1's from left\n",
        "    l = [0] * (n)\n",
        "    # counts the consecutive 1's from right\n",
        "    r = [0] * (n)\n",
        "    count = 0\n",
        "    # Traversing left to right\n",
        "    for i in range(n):\n",
        "        # If cell is non-empty\n",
        "        if (a[i] == 1):\n",
        "          count += 1\n",
        "        else:\n",
        "            #stores the counts of 1 till i-1th index\n",
        "            l[i] = count\n",
        "            count = 0\n",
        "    count = 0\n",
        "    # Traversing from right to left\n",
        "    for i in range(n - 1, -1, -1):\n",
        "        if (a[i] == 1):\n",
        "            count += 1\n",
        "        else:\n",
        "             \n",
        "            # stores the count of 1s till i + 1th index\n",
        "            r[i] = count\n",
        "            count = 0\n",
        "    ans = -1\n",
        "    for i in range(n):\n",
        "        if (a[i] == 0):\n",
        "            ans = max(ans, l[i] + r[i])\n",
        "    return ans < 0 and n or ans\n",
        " \n",
        "# Driver code\n",
        "if __name__ == '__main__':\n",
        "  try:    \n",
        "    Bin = [int(item) for item in input().split()]\n",
        "  except:\n",
        "    Bin=[]\n",
        "  if len(Bin)>0 and Bin and all(ele in [0,1] for ele in Bin):\n",
        "    print(longestSubseq(Bin, len(Bin)))\n",
        "  else:\n",
        "    print()"
      ],
      "execution_count": null,
      "outputs": [
        {
          "output_type": "stream",
          "text": [
            "56 45 23 20 0 15\n",
            "\n"
          ],
          "name": "stdout"
        }
      ]
    },
    {
      "cell_type": "markdown",
      "metadata": {
        "id": "WGJRJWvrXZAJ"
      },
      "source": [
        "# 18"
      ]
    },
    {
      "cell_type": "code",
      "metadata": {
        "colab": {
          "base_uri": "https://localhost:8080/"
        },
        "id": "Qow9Vo9mTdxP",
        "outputId": "5f3fbb93-d374-42f6-b8a9-13c78c148b82"
      },
      "source": [
        "\"\"\"\n",
        "You are given three integers N, L, and R. \n",
        "write a program to calculate the number of natural numbers in the range [L, R] \n",
        "(both inclusive) which are relatively prime with N.\n",
        "\n",
        "\"\"\"\n",
        "from math import sqrt, floor\n",
        " \n",
        "maxN = 1000000\n",
        "prime = []\n",
        "def sieve(n):\n",
        "     \n",
        "    # Runing the sieve of Eratosthenes\n",
        "    check = [0] * (1000007)\n",
        "    i, j = 0, 0\n",
        "    check[0] = 1\n",
        "    check[1] = 1\n",
        "    check[2] = 0\n",
        "    #removing multiple of 2\n",
        "    for i in range(4, n + 1, 2):\n",
        "        check[i] = True\n",
        "    for i in range(3, n + 1, 2):\n",
        "        if i * i > n:\n",
        "            break\n",
        "        if (not check[i]):\n",
        "          #removing all the multiple of prime numbers\n",
        "            for j in range(2 * i, n + 1, 2 * i):\n",
        "                check[j] = True\n",
        "    prime.append(2)\n",
        " \n",
        "    # Geting all the primes in prime vector\n",
        "    for i in range(3, n + 1, 2):\n",
        "        if (not check[i]):\n",
        "            prime.append(i)\n",
        "    return\n",
        " \n",
        "# Counting the number of numbers divisible by given prime\n",
        "def count(a, n, m):\n",
        "     \n",
        "    parity = [0] * 3\n",
        "    for i in range(1, 1 << n):\n",
        "        mult = 1\n",
        "        for j in range(n):\n",
        "            if (i & (1 << j)):\n",
        "                mult *= a[j]\n",
        "        parity[bin(i).count('1') & 1] += (m // mult)\n",
        "    return parity[1] - parity[0]\n",
        "def countRelPrime(n, m):\n",
        " \n",
        "    a = [0] * 20\n",
        "    i = 0\n",
        "    j = 0\n",
        "    pz = len(prime)\n",
        "    while (n != 1 and i < pz):\n",
        " \n",
        "        # If square of the prime number is greater than n\n",
        "        #then it is not the factor of the prime number\n",
        "        if (prime[i] * prime[i] > n):\n",
        "            break\n",
        "        if (n % prime[i] == 0):\n",
        "            a[j] = prime[i]\n",
        "            j += 1\n",
        " \n",
        "        while (n % prime[i] == 0):\n",
        "            n //= prime[i]\n",
        "        i += 1\n",
        " \n",
        "    if (n != 1):\n",
        "        a[j] = n\n",
        "        j += 1\n",
        "    return m - count(a, j, m)\n",
        " \n",
        "def countRelPrimeInRange(n, l, r):\n",
        "     \n",
        "    sieve(floor(sqrt(maxN)))\n",
        "    result = (countRelPrime(n, r) -\n",
        "              countRelPrime(n, l - 1))\n",
        "    print(result)\n",
        " \n",
        "# Driver code\n",
        "if __name__ == '__main__':\n",
        "  try:\n",
        "    N = int(input())\n",
        "    L = int(input())\n",
        "    R = int(input())\n",
        "  except:\n",
        "    N,L,R=0,0,0\n",
        "  if N>0 and L> 0 and R>0 and R>L:\n",
        "    countRelPrimeInRange(N, L, R)"
      ],
      "execution_count": null,
      "outputs": [
        {
          "output_type": "stream",
          "text": [
            "5\n",
            "1\n",
            "1\n"
          ],
          "name": "stdout"
        }
      ]
    },
    {
      "cell_type": "code",
      "metadata": {
        "colab": {
          "base_uri": "https://localhost:8080/"
        },
        "id": "3UJL8UEQUnPg",
        "outputId": "b5b48fd7-45bb-40a3-f2f9-cf319974747e"
      },
      "source": [
        "\"\"\"\n",
        "Odd even palindrome is a string where the odd and the even indexes seperrately forms palindromes \n",
        "write a program to find whether a given string is an odd even palindrome or not.\n",
        "\"\"\"\n",
        "\n",
        "def isPalindrome(Str):\n",
        "#checks for palindromes \n",
        "    l = 0\n",
        "    h = len(Str) - 1\n",
        "    while (h > l):\n",
        "        if (Str[l] != Str[h]):\n",
        "            return False\n",
        "        l += 1\n",
        "        h -= 1\n",
        "    return True\n",
        "def makeOddindex(Str):\n",
        "    odd = \"\"\n",
        "    for i in range(1, len(Str), 2):\n",
        "        odd += Str[i]\n",
        "    return odd\n",
        "\n",
        "def makeEvenindex(Str):\n",
        "    even = \"\"\n",
        "    for i in range(0, len(Str), 2):\n",
        "        even += Str[i]\n",
        "    return even\n",
        " \n",
        "def checkOddevenPalindrome(Str):\n",
        " \n",
        "    # Generating odd indexed string\n",
        "    odd = makeOddindex(Str)\n",
        " \n",
        "    # Generating even indexed string\n",
        "    even = makeEvenindex(Str)\n",
        " \n",
        "    # Check for Palindrome\n",
        "    if (isPalindrome(odd) and\n",
        "        isPalindrome(even)):\n",
        "        print(True)\n",
        "    else:\n",
        "        print(False)\n",
        "# Driver code\n",
        "if __name__ == '__main__':\n",
        "  try:\n",
        "    Str=input()\n",
        "  except:\n",
        "    Str=\"\"\n",
        "  if len(Str)>=4:\n",
        "    checkOddevenPalindrome(Str)\n",
        "  else:\n",
        "    print(False)"
      ],
      "execution_count": null,
      "outputs": [
        {
          "output_type": "stream",
          "text": [
            "abccab\n",
            "True\n"
          ],
          "name": "stdout"
        }
      ]
    },
    {
      "cell_type": "code",
      "metadata": {
        "colab": {
          "base_uri": "https://localhost:8080/"
        },
        "id": "nwjDXXPZkOhe",
        "outputId": "3f987cca-6efb-4a40-b6bd-478a7b63de0c"
      },
      "source": [
        "\"\"\"\n",
        "Subarray with sum equal to or less than K\n",
        "You are given an integer array Arr[] and an integer K. \n",
        "write a program to find the length of the longest subarray \n",
        "whose sum is less than or equal to K.\n",
        "2^16<Arr[i]<2^16\n",
        "\"\"\" \n",
        "def solve(arr, N, prev, i, K):\n",
        "    if (i >= N or K <= 0):\n",
        "        return 0;\n",
        "    if (arr[i] <= prev or\n",
        "       (K - arr[i] < 0)):\n",
        "        return solve(arr, N, prev,\n",
        "                     i + 1, K);\n",
        "    else:\n",
        "        ans = max(solve(arr, N, arr[i],\n",
        "                     i + 1, K - arr[i]) + 1,\n",
        "                  solve(arr, N, prev,\n",
        "                        i + 1, K));\n",
        "        return ans;\n",
        " \n",
        "# Driver code\n",
        "if __name__ == '__main__':\n",
        "  try:\n",
        "    Arr=[int(item) for item in input().split()]\n",
        "    K=int(input()) \n",
        "    # since the limit is 16 bit number we set prev to \n",
        "    #the lowest possible 16 bit number\n",
        "    print(solve(Arr,len(Arr),-65536, 0, K))\n",
        "  except:\n",
        "    print()"
      ],
      "execution_count": null,
      "outputs": [
        {
          "output_type": "stream",
          "text": [
            "a\n",
            "\n"
          ],
          "name": "stdout"
        }
      ]
    },
    {
      "cell_type": "code",
      "metadata": {
        "id": "MZCMcYZ_S4mg"
      },
      "source": [
        "\"\"\"\n",
        "Given an array arr[] consisting of N integers,\n",
        "write a program that finds the start and end indices of the first subarray with a Negative Sum. \n",
        "Print “-1” if no such subarray exists.\n",
        "if there are multiple subarray return the first sub array.\n",
        "\"\"\"\n",
        "\"\"\"\n",
        "int b_search(int pre_sum,map<int, vector<int> >& m,int index)\n",
        "{\n",
        "    // Returns an iterator either equal\n",
        "    // to given key or next greater\n",
        "    it = m.lower_bound(pre_sum);\n",
        "  \n",
        "    if (it == m.begin())\n",
        "        return -1;\n",
        "  \n",
        "    // Decrement the iterator\n",
        "    it--;\n",
        "  \n",
        "    // Check if the sum found at\n",
        "    // a greater index\n",
        "    auto it1\n",
        "        = lower_bound(it->second.begin(),\n",
        "                      it->second.end(),\n",
        "                      index);\n",
        "  \n",
        "    if (*it1 > index)\n",
        "        return *it1;\n",
        "  \n",
        "    return -1;\n",
        "}\n",
        "  \n",
        "// Function to return the index\n",
        "// of first negative subarray sum\n",
        "vector<int> findSubarray(int arr[], int n)\n",
        "{\n",
        "    // Stores the prefix sum- index\n",
        "    // mappings\n",
        "    map<int, vector<int> > m;\n",
        "  \n",
        "    int sum = 0;\n",
        "  \n",
        "    // Stores the prefix sum of\n",
        "    // the original array\n",
        "    int prefix_sum[n];\n",
        "  \n",
        "    for (int i = 0; i < n; i++) {\n",
        "        sum += arr[i];\n",
        "  \n",
        "        // Check if we get sum negative\n",
        "        // starting from first element\n",
        "        if (sum < 0)\n",
        "            return { 0, i };\n",
        "  \n",
        "        prefix_sum[i] = sum;\n",
        "        m[sum].push_back(i);\n",
        "    }\n",
        "  \n",
        "    // Iterate through array find\n",
        "    // the sum which is just less\n",
        "    // then the previous prefix sum\n",
        "    for (int i = 1; i < n; i++) {\n",
        "  \n",
        "        // Check if the starting element\n",
        "        // is itself negative\n",
        "        if (arr[i] < 0)\n",
        "  \n",
        "            // arr[i] becomes the required\n",
        "            // subarray\n",
        "            return { i, i };\n",
        "  \n",
        "        else {\n",
        "            int pre_sum = prefix_sum[i - 1];\n",
        "  \n",
        "            // Find the index which forms\n",
        "            // negative sum subarray\n",
        "            // from i-th index\n",
        "            int index = b_search(pre_sum,\n",
        "                                 m, i);\n",
        "  \n",
        "            // If a subarray is found\n",
        "            // starting from i-th index\n",
        "            if (index != -1)\n",
        "                return { i, index };\n",
        "        }\n",
        "    }\n",
        "  \n",
        "    // Return -1 if no such\n",
        "    // subarray is present\n",
        "    return { -1 };\n",
        "}\n",
        "  \n",
        "// Driver Code\n",
        "int main()\n",
        "{\n",
        "    // Given array arr[]\n",
        "    int arr[] = { 1, 2, -1, 3, -4, 3, -5 };\n",
        "  \n",
        "    int n = sizeof(arr) / sizeof(arr[0]);\n",
        "  \n",
        "    // Function Call\n",
        "    vector<int> res = findSubarray(arr, n);\n",
        "  \n",
        "    // If subarray does not exist\n",
        "    if (res[0] == -1)\n",
        "        cout << \"-1\" << endl;\n",
        "  \n",
        "    // If the subarray exists\n",
        "    else {\n",
        "        cout << res[0]\n",
        "             << \" \" << res[1];\n",
        "    }\n",
        "    return 0;\n",
        "\"\"\""
      ],
      "execution_count": null,
      "outputs": []
    },
    {
      "cell_type": "code",
      "metadata": {
        "colab": {
          "base_uri": "https://localhost:8080/"
        },
        "id": "H8lgZ92uWnhP",
        "outputId": "3f68737a-44bd-4567-d284-b2034cd413dd"
      },
      "source": [
        "\"\"\"\n",
        "Given an array Arr[] of consisting N positive integers and a number K, \n",
        "write a program to find the maximum value of bitwise OR of the subsequence of size K.\n",
        "for eg:\n",
        "  1 2 3 4 5\n",
        "  3\n",
        "  7\n",
        "  if we consider the sub array \n",
        "  3 4 5 and we or them we get 0111 which is 7.\n",
        "  given \n",
        "  -2^32<Arr[i]<2^32\n",
        "\"\"\"\n",
        "# converting binary array to decimal number\n",
        "def build_num(bit):\n",
        " \n",
        "    ans = 0\n",
        "    for i in range(0, 32):\n",
        "        if (bit[i]):\n",
        "            ans += (1 << i)\n",
        "    return ans;\n",
        " \n",
        "def maximumOR(arr, n, k):\n",
        "    bit = [0] * 32\n",
        "    for i in range(31, -1, -1):\n",
        "        if (bit[i] == 0 and k > 0):\n",
        "            temp = build_num(bit)\n",
        "            temp1 = temp\n",
        "            val = -1\n",
        "            for j in range(0, n):\n",
        "                if (temp1 < (temp | arr[j])):\n",
        "                    temp1 = temp | arr[j]\n",
        "                    val = arr[j]\n",
        " \n",
        "            # Update the binary array if max element is found\n",
        "            if (val != -1):\n",
        "                k -= 1\n",
        "                for j in range(0, 32):\n",
        "                    if (val & (1 << j)):\n",
        "                        bit[j] += 1\n",
        "    return build_num(bit)\n",
        " \n",
        "# Driver Code\n",
        "if __name__ == '__main__':\n",
        "  try:\n",
        "    Arr=[int(item) for item in input().split()]\n",
        "    K=int(input()) \n",
        "  except:\n",
        "    Arr=[]\n",
        "    K=0\n",
        "  if len(Arr) and K>1 and K<len(Arr):\n",
        "    print(maximumOR(Arr,len(Arr), K))\n",
        "  else:\n",
        "    print()"
      ],
      "execution_count": null,
      "outputs": [
        {
          "output_type": "stream",
          "text": [
            "558 231 6589 11545 53236\n",
            "2\n",
            "61437\n"
          ],
          "name": "stdout"
        }
      ]
    },
    {
      "cell_type": "markdown",
      "metadata": {
        "id": "vjdZtfUVEMKj"
      },
      "source": [
        "#19"
      ]
    },
    {
      "cell_type": "code",
      "metadata": {
        "colab": {
          "base_uri": "https://localhost:8080/"
        },
        "id": "TTajh2aBdO8T",
        "outputId": "88386402-bbc0-4b4a-8788-1d148c9f8f42"
      },
      "source": [
        "\"\"\"\n",
        "\n",
        "Given an array Arr[] containing positive integers. \n",
        "write a program to reverse a subarray to minimize \n",
        "the sum of elements at even places and print the minimum sum. \n",
        "Input: arr[] = {0, 1, 2, 3, 4} \n",
        "Output: 4 \n",
        "Explanation: \n",
        "Sum of elements at even positions initially = arr[0] + arr[2] + arr[4] = 0 + 2 + 4 = 6 \n",
        "On reversing the subarray Arr[1:5], the array becomes: {0, 4, 3, 2, 1} \n",
        "then the sum of elements at even positions = arr[0] + arr[2] + arr[4] = 0 + 3 + 1 = 4,\n",
        " which is the minimum sum. \n",
        "\"\"\"\n",
        "def after_rev(v):\n",
        "    mini = 0\n",
        "    count = 0\n",
        "    for i in range(len(v)):\n",
        "        count += v[i]\n",
        "        #Since we need only negative result we check for sign \n",
        "        if(count > 0):\n",
        "            count = 0\n",
        "        if(mini > count):\n",
        "            mini = count\n",
        "    return mini\n",
        "def printmin(arr):\n",
        "    sum = 0\n",
        "\n",
        "    # sum of even index elements\n",
        "    for i in range(0, len(arr), 2):\n",
        "        sum += arr[i]\n",
        " \n",
        "    v1, v2 = [], []\n",
        " \n",
        "    # v1 sees if 1th index element goes to 0\n",
        "    i = 1\n",
        "    while i + 1 < len(arr):\n",
        "        v1.append(arr[i + 1] - arr[i])\n",
        "        i += 2\n",
        " \n",
        "    # v2 checks if 1th index element goes to 2\n",
        "    i = 1\n",
        "    while i + 1 < len(arr):\n",
        "        v2.append(arr[i] - arr[i + 1])\n",
        "        i += 2\n",
        " \n",
        "    # Getting the max negative value\n",
        "    change = min(after_rev(v1),\n",
        "                 after_rev(v2))\n",
        " \n",
        "    if(change < 0):\n",
        "        sum += change\n",
        " \n",
        "    print(sum)\n",
        " \n",
        "# Driver code\n",
        "if __name__ == '__main__':\n",
        "  try:\n",
        "    Arr=[int(item) for item in input().split()]\n",
        "  except:\n",
        "    Arr=[]\n",
        "  if len(Arr)>2:\n",
        "    printmin(Arr)\n",
        "  else:\n",
        "    print()"
      ],
      "execution_count": null,
      "outputs": [
        {
          "output_type": "stream",
          "text": [
            "1 2 \n",
            "\n"
          ],
          "name": "stdout"
        }
      ]
    },
    {
      "cell_type": "code",
      "metadata": {
        "colab": {
          "base_uri": "https://localhost:8080/"
        },
        "id": "O9D7g2fxIUWT",
        "outputId": "b2d3cc18-15ae-456c-c508-2666f32dfce7"
      },
      "source": [
        "\"\"\"\n",
        "A number is said to be a square free number if no prime factor divides it more than once, \n",
        "in other words largest power of a prime factor that divides the number is one. \n",
        "the first few square free numbers are 1, 2, 3, 5, 6, 7, 10, 11, 13, 14, 15, 17, 19.\n",
        "write a program to accept a positive integer N and print all the square free numbers from N/2 to N\n",
        "given 2<N<2^32\n",
        "\"\"\"\n",
        "from math import sqrt\n",
        "def isSquareFree(n):\n",
        "  #function to check for square free      \n",
        "    if n % 2 == 0:\n",
        "        n = n / 2\n",
        "    if n % 2 == 0:\n",
        "        return False\n",
        "    for i in range(3, int(sqrt(n) + 1)):\n",
        "        if n % i == 0:\n",
        "            n = n / i\n",
        "        if n % i == 0:\n",
        "            return False\n",
        "    return True\n",
        "def printRange(a,b):\n",
        "  for i in range(a,b):\n",
        "    if isSquareFree(i):\n",
        "      print(i,end=\" \")\n",
        "\n",
        "# Driver program\n",
        "if __name__ == '__main__':\n",
        "  try:\n",
        "    N = int(input())\n",
        "  except:\n",
        "    N=0\n",
        "  if N>2:\n",
        "    printRange(int(N/2),N)"
      ],
      "execution_count": null,
      "outputs": [
        {
          "output_type": "stream",
          "text": [
            "3\n",
            "1 2 "
          ],
          "name": "stdout"
        }
      ]
    },
    {
      "cell_type": "code",
      "metadata": {
        "colab": {
          "base_uri": "https://localhost:8080/"
        },
        "id": "sWwjhJKoVOd6",
        "outputId": "514618b3-c412-4173-c223-2c9ccb5e12be"
      },
      "source": [
        "\"\"\"\n",
        "Largest number M less than N such that XOR of M and N is even\n",
        "you are given a positive integer N, \n",
        "write a program to find the largest integer M such that 0 <= M < N \n",
        "and XOR(M, N) is an even number. \n",
        "If such a value of M cannot be obtained for given N, print -1.\n",
        "\n",
        "\"\"\"\n",
        "# we know that an even number has its LSB set to 0 \n",
        "# and odd number has its LSB set to 0\n",
        "# so if we XOR two odd numbers or two even numbers it will always be even \n",
        "#as 0 ^ 0 =0 and 1^1=0\n",
        "#therefore M will be the previous even or odd number\n",
        "def XorM(n):\n",
        "    if (n == 1):\n",
        "        return -1;\n",
        "    else:\n",
        "        return n - 2;                \n",
        " \n",
        "# Driver code\n",
        "if __name__=='__main__':\n",
        "  try:\n",
        "    n=int(input())\n",
        "  except:\n",
        "    n=0\n",
        "  if n>0:\n",
        "    print(XorM(n))\n",
        "  else:\n",
        "    print()\n"
      ],
      "execution_count": null,
      "outputs": [
        {
          "output_type": "stream",
          "text": [
            "56\n",
            "54\n"
          ],
          "name": "stdout"
        }
      ]
    },
    {
      "cell_type": "code",
      "metadata": {
        "colab": {
          "base_uri": "https://localhost:8080/"
        },
        "id": "zB7wXeQjx4p3",
        "outputId": "803be298-f7e5-40d5-cd0e-31e7f049fdd7"
      },
      "source": [
        "def maxPoi(x, y):\n",
        "  #after deduction formula is Y*(Y-1)/2+X*(2*Y+X-1)\n",
        "    k = y * ( y - 1 ) // 2\n",
        "    k = k + x * ( 2 * y + x - 1 )\n",
        "    return k\n",
        " \n",
        "# Driver code\n",
        "if __name__=='__main__':\n",
        "  try:\n",
        "    #circles\n",
        "    N=int(input())\n",
        "    #lines\n",
        "    M=int(input())\n",
        "  except:\n",
        "    N=0\n",
        "    M=0\n",
        "  if N>0 and M>0:\n",
        "    print(maxPoi(N,M))\n",
        "  else:\n",
        "    print()\n"
      ],
      "execution_count": null,
      "outputs": [
        {
          "output_type": "stream",
          "text": [
            "50\n",
            "121\n",
            "21810\n"
          ],
          "name": "stdout"
        }
      ]
    },
    {
      "cell_type": "markdown",
      "metadata": {
        "id": "T8MxUmAljKcQ"
      },
      "source": [
        "#20"
      ]
    },
    {
      "cell_type": "code",
      "metadata": {
        "colab": {
          "base_uri": "https://localhost:8080/"
        },
        "id": "ViaDnWQ607C7",
        "outputId": "4fffb905-1ca2-4c28-b647-7e6c39ef08a7"
      },
      "source": [
        "\"\"\"\n",
        "number of square free divisors\n",
        "You are given an integer N write a program to find the number of square free divisors that divides the number N\n",
        "\"\"\"\n",
        "import math\n",
        "def IsPrime(i):\n",
        "    if (i % 2 == 0 and i != 2):\n",
        "        return 0;\n",
        "    else:\n",
        "        for j in range(3, int(math.sqrt(i) + 1), 2):\n",
        "            if (i % j == 0):\n",
        "                return 0;\n",
        "        return 1;\n",
        "def printsfd(N):\n",
        "  c=0\n",
        "  for i in range(2, int(math.sqrt(N)) + 1):\n",
        "      if (IsPrime(i)):\n",
        "          if (N % i == 0):\n",
        "              c = c + 1\n",
        "              if (IsPrime(N / i) and i != (N / i)):\n",
        "                  c = c + 1\n",
        "  print(pow(2, c) - 1)\n",
        "if __name__=='__main__':\n",
        "  try:\n",
        "    N=int(input())\n",
        "  except:\n",
        "    N=0\n",
        "  if N>0:\n",
        "    printsfd(N)\n",
        "  else:\n",
        "    print()"
      ],
      "execution_count": null,
      "outputs": [
        {
          "output_type": "stream",
          "text": [
            "5664100\n",
            "7\n"
          ],
          "name": "stdout"
        }
      ]
    },
    {
      "cell_type": "code",
      "metadata": {
        "colab": {
          "base_uri": "https://localhost:8080/"
        },
        "id": "4Pey1zTZm9g6",
        "outputId": "97374a8b-2c48-401b-8009-1de547216109"
      },
      "source": [
        "\"\"\"\n",
        "Maximumize sum by selecting elements from 2 arrays in order.\n",
        "you are given two arrays A[] and B[] both are of size N, \n",
        "and two integers X and Y denoting the maximum number of elements \n",
        "that can be picked from A[] and B[] respectively, \n",
        "write a program to find the maximum possible sum by selecting N elements \n",
        "in such a way that for any index i, either A[i] or B[i] can be chosen. \n",
        "(X + Y) >= N.\n",
        "\"\"\"\n",
        "def maximumSum(A, B, length, X, Y):\n",
        "    l = length\n",
        "    # getting the maximum elements we can get from the arrays\n",
        "    l1 = min(length, X)\n",
        "    l2 = min(length, Y)\n",
        "    dp=[[ 0 for i in range(l2 + 1)]\n",
        "        for i in range(l1 + 1)]\n",
        "    dp[0][0] = 0\n",
        "    max_sum = -10 * 9\n",
        "    for i in range(1, l1 + 1):\n",
        "        dp[i][0] = dp[i - 1][0] + A[i - 1]\n",
        "        max_sum = max(max_sum, dp[i][0])\n",
        "    for i in range(1, l2 + 1):\n",
        "        dp[0][i] = dp[0][i - 1] + B[i - 1]\n",
        "        max_sum = max(max_sum, dp[0][i])\n",
        " \n",
        "    for i in range(1, l1 + 1):\n",
        "        for j in range(1, l2 + 1):\n",
        "            if (i + j <= l):\n",
        "                dp[i][j]= max(dp[i - 1][j] + A[i + j - 1],\n",
        "                              dp[i][j - 1] + B[i + j - 1])\n",
        "            max_sum = max(dp[i][j], max_sum)\n",
        "    return max_sum\n",
        " \n",
        "# Driver Program\n",
        "if __name__ == '__main__':\n",
        "  try:\n",
        "    A= [int(item) for item in input().split()]\n",
        "    B= [int(item) for item in input().split()]\n",
        "    X = int(input())\n",
        "    Y = int(input())\n",
        "  except:\n",
        "    A=[]\n",
        "    B=[]\n",
        "    X=0\n",
        "    Y=0\n",
        "  if len(A)==len(B) and X+Y>=len(A) and len(A)>0:   \n",
        "    print(maximumSum(A, B, len(A), X, Y))\n",
        "  else:\n",
        "    print()"
      ],
      "execution_count": null,
      "outputs": [
        {
          "output_type": "stream",
          "text": [
            "115 112 113 114 152 145\n",
            "215 22 145 355 131 145\n",
            "3\n",
            "3\n",
            "1124\n"
          ],
          "name": "stdout"
        }
      ]
    },
    {
      "cell_type": "code",
      "metadata": {
        "colab": {
          "base_uri": "https://localhost:8080/"
        },
        "id": "Pv6pDkzGU5XY",
        "outputId": "b8d3ba54-77b3-4a30-df6c-ce1f7ab44877"
      },
      "source": [
        "\"\"\"\n",
        "Check if the string is oddly palindrome or not\n",
        "Given string s, \n",
        "write to check if characters at the odd indexes of str form a palindrome string or not. \n",
        "If not then print False else print True.\n",
        "for eg:\n",
        "  abbcbcab\n",
        "  True\n",
        "  as the odd index elements are bccb which is palindrome\n",
        "\n",
        "\"\"\"\n",
        "def isOddlyPalindrome(str, n):\n",
        "    oddStringSize = n // 2;\n",
        "    lengthOdd = True if (oddStringSize % 2 == 1) else False\n",
        "    s = []\n",
        "    i = 1\n",
        "    c = 0\n",
        "  \n",
        "    # Pushing odd index character of first  half of str in stack\n",
        "    while (i < n and c < oddStringSize // 2):\n",
        "        s.append(str[i])\n",
        "        i += 2\n",
        "        c += 1\n",
        "  \n",
        "    # skipping middle\n",
        "    if (lengthOdd):\n",
        "        i = i + 2\n",
        "    # checking and popping\n",
        "    while (i < n and len(s) > 0):\n",
        "        if (s[len(s) - 1] == str[i]):\n",
        "            s.pop()\n",
        "        else:\n",
        "            break\n",
        "         \n",
        "        i = i + 2\n",
        "     \n",
        "    # If stack is empty then return true\n",
        "    if (len(s) == 0):\n",
        "        return True\n",
        "  \n",
        "    return False;\n",
        " \n",
        "# Driver code\n",
        "if __name__==\"__main__\":\n",
        "  try:    \n",
        "    s=input()\n",
        "    if len(s)>3:\n",
        "      print(isOddlyPalindrome(s,len(s)))\n",
        "    else:\n",
        "      print()\n",
        "  except:\n",
        "    print()"
      ],
      "execution_count": null,
      "outputs": [
        {
          "output_type": "stream",
          "text": [
            "abdc\n",
            "False\n"
          ],
          "name": "stdout"
        }
      ]
    },
    {
      "cell_type": "code",
      "metadata": {
        "colab": {
          "base_uri": "https://localhost:8080/"
        },
        "id": "LkqkoNPCaNdx",
        "outputId": "c7d4ff7a-974b-4f10-a0c3-5ddcf8d3a7d0"
      },
      "source": [
        "\"\"\"\n",
        "Minimum changes required to make all Array elements Prime\n",
        "Given an array of integers Arr[], \n",
        "the task is to count the minimum number of changes required to convert each array element to its nearest prime.\n",
        "for eg:\n",
        "  4 8 15 20 23\n",
        "  5\n",
        "  increment/decrement 4 to 5/3 =1\n",
        "  decrement 8 to 7=1\n",
        "  increment/decrement 15 to 13/17=2\n",
        "  decrement 20 to 19 =1\n",
        "  23 is prime\n",
        "\"\"\"\n",
        "def SieveOfEratosthenes(n):\n",
        "    prime = [True for i in range(2 * n + 1)]\n",
        "    p = 2\n",
        "    while(p * p <= 2 * n):\n",
        "       \n",
        "        # If p is a prime\n",
        "        if(prime[p] == True):\n",
        "             \n",
        "            # Marking all its multiples as non-prime\n",
        "            i = p * p\n",
        "            while(i <= n * 2):\n",
        "                prime[i] = False\n",
        "                i += p\n",
        "        p += 1\n",
        "    primes = []\n",
        "    for p in range(2, (2 * n) + 1):\n",
        "        if(prime[p]):\n",
        "            primes.append(p)\n",
        " \n",
        "    # Return the list of primes\n",
        "    return primes\n",
        "def minChanges(arr):\n",
        "    n = len(arr)\n",
        "    ans = 0\n",
        "    maxi = max(arr)\n",
        "    primes = SieveOfEratosthenes(maxi)\n",
        "    for i in range(n):\n",
        "        x = -1\n",
        "        for j in range(len(primes)):\n",
        "            if(arr[i] == primes[j]):\n",
        "                x = j\n",
        "                break\n",
        "            elif(arr[i] < primes[j]):\n",
        "                x = j\n",
        "                break\n",
        "                 \n",
        "        minm = abs(primes[x] - arr[i])\n",
        " \n",
        "        if(x > 1):\n",
        "            minm = min(minm, abs(primes[x - 1]-arr[i]))\n",
        "        ans += minm\n",
        "    return ans\n",
        " \n",
        "# Driver code\n",
        "if __name__==\"__main__\":\n",
        "  try:    \n",
        "    arr=[int(item) for item in input().split()]\n",
        "  except:\n",
        "    arr=[]\n",
        "  if len(arr)>0:\n",
        "    print(minChanges(arr))\n",
        "  else:\n",
        "    print()"
      ],
      "execution_count": null,
      "outputs": [
        {
          "output_type": "stream",
          "text": [
            "56 89 -45 23 41 26\n",
            "53\n"
          ],
          "name": "stdout"
        }
      ]
    },
    {
      "cell_type": "markdown",
      "metadata": {
        "id": "iIlz1Y7V2LYd"
      },
      "source": [
        "#21"
      ]
    },
    {
      "cell_type": "code",
      "metadata": {
        "colab": {
          "base_uri": "https://localhost:8080/"
        },
        "id": "o0JAakyN1vjN",
        "outputId": "159f1b6d-b0a6-4605-b5cd-8b2c2080feeb"
      },
      "source": [
        "\"\"\"\n",
        "Number of ways you can distibute N things among 3 people where one person gets the maximum\n",
        "Given an integer N, the task is to find the total number of ways to distribute N among 3 people such that: \n",
        " \n",
        "\n",
        "Exactly one person gets the maximum number of items among all the 3 people.\n",
        "Each person gets at least 1 item.\n",
        "\"\"\"\n",
        "def countWays(N): \n",
        "    if (N < 4):\n",
        "        return 0\n",
        "    ans = ((N - 1) * (N - 2)) // 2\n",
        " \n",
        "    # impossible distributions\n",
        "    s = 0\n",
        "    for i in range( 2, N - 2, 1):\n",
        "        for j in range( 1, i, 1):\n",
        "            # 2 people getting max\n",
        "            if (N == 2 * i + j):\n",
        "                s += 1\n",
        " \n",
        "    # If N is divisible by 3\n",
        "    if (N % 3 == 0):\n",
        "        s = 3 * s + 1\n",
        " \n",
        "    else:\n",
        "        s = 3 * s\n",
        "    return ans - s\n",
        " \n",
        "if __name__ == '__main__':\n",
        "  try:\n",
        "    N = int(input())\n",
        "  except:\n",
        "    N=0\n",
        "  if N>0:\n",
        "    print (countWays(N))\n",
        "  else:\n",
        "    print()"
      ],
      "execution_count": null,
      "outputs": [
        {
          "output_type": "stream",
          "text": [
            "100\n",
            "4803\n"
          ],
          "name": "stdout"
        }
      ]
    },
    {
      "cell_type": "code",
      "metadata": {
        "id": "v15P5Wrm7-6O",
        "colab": {
          "base_uri": "https://localhost:8080/"
        },
        "outputId": "db3a2f5d-9fb9-4013-e09e-0fe589dbb97b"
      },
      "source": [
        "\"\"\"\n",
        "number of pairs whose bitwise AND is a power of 2\n",
        "you are given an array Arr[] consisting of N positive integers. \n",
        "write a program to find the number of pairs whose Bitwise AND value is a power of 2.\n",
        "for eg \n",
        "1 2 3\n",
        "2\n",
        "as \n",
        "2&3=1\n",
        "and \n",
        "1&3=1\n",
        "so we have 2 pairs\n",
        "\"\"\"\n",
        "def check(x):\n",
        "     \n",
        "    #checking for power of 2\n",
        "    return x and (not(x & (x - 1)))\n",
        "def count(arr, n):\n",
        "     \n",
        "    cnt = 0\n",
        " #checking for all possible pairs\n",
        "    for i in range(n - 1):\n",
        "        for j in range(i + 1, n):\n",
        "            if check(arr[i] & arr[j]):\n",
        "                cnt = cnt + 1\n",
        "    return cnt\n",
        " \n",
        "if __name__ == '__main__':\n",
        "  try:\n",
        "    Arr=[int(item) for item in input().split()]\n",
        "  except:\n",
        "    Arr=[]\n",
        "  if len(Arr)>0:\n",
        "    print(count(Arr,len(Arr)))\n",
        "  else:\n",
        "    print()"
      ],
      "execution_count": null,
      "outputs": [
        {
          "output_type": "stream",
          "text": [
            "8 -7 4 5 6 7 1\n",
            "10\n"
          ],
          "name": "stdout"
        }
      ]
    },
    {
      "cell_type": "code",
      "metadata": {
        "colab": {
          "base_uri": "https://localhost:8080/"
        },
        "id": "2AIcOvNBxhbT",
        "outputId": "c7670ea3-9c99-4115-cf02-2de62343e5bd"
      },
      "source": [
        "\"\"\"\n",
        "Number of times an array can be partitioned repetitively into two subarrays with equal sum\n",
        "you are given an array arr[] of size N, \n",
        "write a program to find the number of times the array can be partitioned repetitively \n",
        "into two subarrays such that the sum of the elements of each of the subarrays is the same.\n",
        "\"\"\"\n",
        "def splitArray(start, end, arr, prefix_sum):\n",
        "     \n",
        "    #if there are less than 2 elements return 0\n",
        "    if (start >= end):\n",
        "        return 0\n",
        " \n",
        "    # Iterating from the start to end.\n",
        "    for k in range(start, end):\n",
        "        if ((prefix_sum[k] - prefix_sum[start - 1]) ==\n",
        "            (prefix_sum[end] - prefix_sum[k])) :\n",
        " \n",
        "            # Recursively call the left and the right sub-array.\n",
        "            return (1 + splitArray(start, k, arr,\n",
        "                                   prefix_sum) +\n",
        "                        splitArray(k + 1, end, arr,\n",
        "                                   prefix_sum))\n",
        "         \n",
        "    return 0\n",
        " \n",
        "def solve(arr, n):\n",
        "    prefix_sum = [0] * (n + 1)\n",
        " \n",
        "    prefix_sum[0] = 0\n",
        " \n",
        "    # Storing the prefix-sum\n",
        "    for i in range(1, n + 1):\n",
        "        prefix_sum[i] = (prefix_sum[i - 1] +\n",
        "                                arr[i - 1])\n",
        "    print(splitArray(1, n, arr, prefix_sum))\n",
        " \n",
        "# Driver Code\n",
        "if __name__ == '__main__':\n",
        "  try:\n",
        "    Arr=[int(item) for item in input().split()]\n",
        "  except:\n",
        "    Arr=[]\n",
        "  if len(Arr)>0:\n",
        "    solve(Arr,len(Arr))\n",
        "  else:\n",
        "    print()"
      ],
      "execution_count": null,
      "outputs": [
        {
          "output_type": "stream",
          "text": [
            "6 1 1 2 0 0 2 2 \n",
            "1\n"
          ],
          "name": "stdout"
        }
      ]
    },
    {
      "cell_type": "code",
      "metadata": {
        "colab": {
          "base_uri": "https://localhost:8080/"
        },
        "id": "CcSdHpQP11mE",
        "outputId": "91f6c7dc-6ee6-4e43-a570-a9f8055d58d2"
      },
      "source": [
        "\"\"\"\n",
        "Total number of ways to reach (A, B) in a matrix starting from the origin without visiting (C, D)\n",
        "you are Given four positive integers A, B, C, and D \n",
        "write a program to count all the possible ways to reach from top left(i.e., (0, 0)) \n",
        "to the bottom right (A, B) of a matrix of size (A+1)x(B+1) without visiting the cell (C, D). \n",
        "It is given that from each cell (i, j) you can either move only to right (i, j + 1) or down (i + 1, j).\n",
        "\n",
        "\"\"\"\n",
        "def nCr(n, r):\n",
        "     # function to calulate the nCr\n",
        "    return (fact(n) // (fact(r) *\n",
        "                        fact(n - r)))\n",
        "def fact(n):\n",
        "    res = 1\n",
        "    for i in range(2, n + 1):\n",
        "        res = res * i\n",
        "    return res\n",
        "def countWays(A, B, C, D):\n",
        "     \n",
        "    return (nCr(A + B, A) - nCr(C + D, C) *\n",
        "            nCr(A + B - C - D, A - C))\n",
        " \n",
        "# Driver Code\n",
        " \n",
        "if __name__ == '__main__':\n",
        "  try:\n",
        "    A,B = [int(item) for item in input().split()]\n",
        "    C,D = [int(item) for item in input().split()]\n",
        "  except:\n",
        "    A,B,C,D=0,0,0,0\n",
        "  if ((C,D)!=(A,B) and (C,D)!=(0,0))  and C < A+1 and D<B+1:\n",
        "    print(countWays(A, B, C, D))\n",
        "  else:\n",
        "    print()"
      ],
      "execution_count": null,
      "outputs": [
        {
          "output_type": "stream",
          "text": [
            "5 5\n",
            "6 4\n",
            "\n"
          ],
          "name": "stdout"
        }
      ]
    },
    {
      "cell_type": "markdown",
      "metadata": {
        "id": "aiweiEmCLvz_"
      },
      "source": [
        "\n",
        "#22\n"
      ]
    },
    {
      "cell_type": "code",
      "metadata": {
        "colab": {
          "base_uri": "https://localhost:8080/"
        },
        "id": "p0ot0E6i9aAE",
        "outputId": "6b20df26-f9ab-4c9f-8f2e-d740419e76da"
      },
      "source": [
        "\"\"\"\n",
        "Count of distinct power of prime factor of an integer\n",
        "Given a positive integer N, \n",
        "write a program to find the total number of distinct power of prime factor of the given number N.\n",
        "for example :\n",
        "  24=2^3*3\n",
        "  therefore the output is 3\n",
        "\"\"\"\n",
        "def countFac(n):\n",
        "     \n",
        "    m = n\n",
        "    count = 0\n",
        "    i = 2\n",
        "    #finding the prime factors\n",
        "    while ((i * i) <= m):\n",
        "        total = 0\n",
        "        while (n % i == 0):\n",
        "            n /= i\n",
        "            total += 1\n",
        "        temp = 0\n",
        "        j = 1\n",
        "        while((temp + j) <= total):\n",
        "            temp += j\n",
        "            count += 1\n",
        "            j += 1\n",
        "        i += 1\n",
        "    if (n != 1):\n",
        "        count += 1\n",
        "    return count\n",
        " \n",
        "# Driver Code\n",
        "if __name__ == '__main__':\n",
        "  try:\n",
        "    N = int(input())\n",
        "  except:\n",
        "    N=0\n",
        "  if N>0:\n",
        "    print(countFac(N))\n",
        "  else:\n",
        "    print()"
      ],
      "execution_count": null,
      "outputs": [
        {
          "output_type": "stream",
          "text": [
            "0\n",
            "\n"
          ],
          "name": "stdout"
        }
      ]
    },
    {
      "cell_type": "code",
      "metadata": {
        "colab": {
          "base_uri": "https://localhost:8080/"
        },
        "id": "jQSR8HyOAPos",
        "outputId": "c597de3b-0b96-4995-fe78-5a37744dc0de"
      },
      "source": [
        "\"\"\"\n",
        "Product of all Subarrays of an Array\n",
        "\n",
        "You are given an array arr[] of integers of size N, \n",
        "the task is to find the products of all subarrays of the array.\n",
        "for eg:\n",
        "  2 3\n",
        "  36\n",
        "  the subarrays are: (2),(2,3),(3)\n",
        "  so the product are 2*3*2*3 which is 36\n",
        "\"\"\"\n",
        "def SubArrayProdct(arr, n):\n",
        "    result = 1;\n",
        " \n",
        "    # Computing the product of\n",
        "    # subarray using formula\n",
        "    for i in range(0, n):\n",
        "        result *= pow(arr[i],\n",
        "                     (i + 1) * (n - i));\n",
        " \n",
        "    # Return the product of all\n",
        "    # elements of each subarray\n",
        "    return result;\n",
        " \n",
        "# Driver Code\n",
        " \n",
        "# Given array arr[]\n",
        "if __name__ == '__main__':\n",
        "  try:\n",
        "    Arr= [int(item) for item in input().split()]\n",
        "  except:\n",
        "    Arr=[]\n",
        "  if len(Arr)>0: \n",
        "    print(SubArrayProdct(Arr,len(Arr)))"
      ],
      "execution_count": null,
      "outputs": [
        {
          "output_type": "stream",
          "text": [
            "1 4 5 2\n",
            "1024000000\n"
          ],
          "name": "stdout"
        }
      ]
    },
    {
      "cell_type": "code",
      "metadata": {
        "id": "1G_55Uv3D_Lg",
        "colab": {
          "base_uri": "https://localhost:8080/"
        },
        "outputId": "42cf6385-e58f-49dd-9abc-322dc16c355f"
      },
      "source": [
        "\"\"\"\n",
        "Merge two unsorted linked lists to get a sorted list\n",
        "You are Given two unsorted Linked Lists A and B,\n",
        "Write a program to merge them to get a single sorted singly linked list.\n",
        "A= 3->4->1->2->8\n",
        "B= 5->9->6->7->10\n",
        "o/p= 1->2->3->4->5->6->7->8->9->10->NULL\n",
        "\"\"\"\n",
        "class node:\n",
        "   #linked list nodes structures\n",
        "    def __init__(self, x):\n",
        "        self.data = x\n",
        "        self.next = None\n",
        "def setData(head): \n",
        "    #prints the list\n",
        "    tmp = head\n",
        " \n",
        "    while (tmp != None):\n",
        "        print(tmp.data,\n",
        "              end = \" -> \")\n",
        "        tmp = tmp.next\n",
        "def getData(head, num):\n",
        "    temp = node(-1)\n",
        "    tail = head\n",
        "    temp.data = num\n",
        "    temp.next = None\n",
        "    if (head == None):\n",
        "        head = temp\n",
        "        tail = temp\n",
        "    else:\n",
        "        while (tail != None):\n",
        "            if (tail.next == None):\n",
        "                tail.next = temp\n",
        "                tail = tail.next\n",
        "            tail = tail.next\n",
        "#returning the generated list\n",
        "    return head\n",
        "def mergelists(head1,head2):\n",
        " \n",
        "    tail = head1\n",
        "    while (tail != None):\n",
        "        if (tail.next == None\n",
        "            and head2 != None):\n",
        "            tail.next =head2\n",
        "            break\n",
        "        tail = tail.next\n",
        "    return head1\n",
        "def sortlist(head1):\n",
        "    curr = head1\n",
        "    temp = head1\n",
        "    while (curr.next != None):\n",
        "        temp = curr.next\n",
        "        while (temp != None):\n",
        "            if (temp.data < curr.data):\n",
        "                t = temp.data\n",
        "                temp.data = curr.data\n",
        "                curr.data = t\n",
        "            temp = temp.next\n",
        "        curr = curr.next\n",
        " \n",
        "# Driver Code\n",
        "if __name__ == '__main__':\n",
        "  try:\n",
        "    A = [int(item) for item in input().split()]\n",
        "    B = [int(item) for item in input().split()]\n",
        "  except:\n",
        "    A=[]\n",
        "    B=[]\n",
        "  if len(A)>0 and len(B)>0:\n",
        "    head1 = node(-1)\n",
        "    head2 = node(-1)\n",
        "    head1 = None\n",
        "    head2 = None\n",
        "    for i in A:\n",
        "      head1 = getData(head1, i)\n",
        "    for j in B:\n",
        "      head2 = getData(head2, j)\n",
        "    head1 = mergelists(head1,head2)\n",
        "    sortlist(head1)\n",
        "    setData(head1)\n",
        "    print('NULL')\n",
        "  \"\"\"\n",
        "3 2 1\n",
        "6 5 4\n",
        "1 -> 2 -> 3 -> 4 -> 5 -> 6 -> Null\n",
        "5 4 3 2 1\n",
        "1 5 6 9 8 7\n",
        "1 -> 1 -> 2 -> 3 -> 4 -> 5 -> 5 -> 6 -> 7 -> 8 -> 9 -> NULL\n",
        "-5 -6 3 2 1 -9\n",
        "-17 5 6 7 8 -10\n",
        "-17 -> -10 -> -9 -> -6 -> -5 -> 1 -> 2 -> 3 -> 5 -> 6 -> 7 -> 8 -> NULL\n",
        "a\n",
        "  \"\"\""
      ],
      "execution_count": null,
      "outputs": [
        {
          "output_type": "stream",
          "text": [
            "-5 -6 3 2 1 -9\n",
            "-17 5 6 7 8 -10\n",
            "-17 -> -10 -> -9 -> -6 -> -5 -> 1 -> 2 -> 3 -> 5 -> 6 -> 7 -> 8 -> NULL\n"
          ],
          "name": "stdout"
        }
      ]
    },
    {
      "cell_type": "code",
      "metadata": {
        "colab": {
          "base_uri": "https://localhost:8080/",
          "height": 86
        },
        "id": "PSi91pfHGB91",
        "outputId": "781a7b4e-0dc6-480d-817f-2a3ff90b7926"
      },
      "source": [
        "\"\"\"\n",
        "is the Row-major order path of Matrix a palindrome?\n",
        "you are given a matrix mat[][], \n",
        "write a program to check if the row-major order path of the matrix is a palindrome or not.\n",
        "for eg:\n",
        "2 3\n",
        "1 2 3\n",
        "3 2 1\n",
        "True\n",
        "1->2->3->3->2->1\n",
        "the first line is the shape \n",
        "the second line is all the elements in the array\n",
        "\"\"\"\n",
        "def isPal(a, n, m):\n",
        "     \n",
        "    # Loop to check if the matrix is\n",
        "    # matrix is palindrome or not\n",
        "    for i in range(0, n // 2):\n",
        "        for j in range(0, m - 1):\n",
        "            if (a[i][j] != a[n - 1 - i][m - 1 - j]):\n",
        "                return False;\n",
        " \n",
        "    return True;\n",
        " \n",
        "# Driver Code\n",
        "if __name__ == '__main__':\n",
        "  try:\n",
        "    n,m=[int(item) for item in input().split()]\n",
        "    A = [int(item) for item in input().split()]\n",
        "  except:\n",
        "    n,m=0,0\n",
        "    A=[]\n",
        "  Arr=[]\n",
        "  if len(A)>0 and n>0 and m>0 and n*m==len(A):\n",
        "    for i in range(0,len(A),m):\n",
        "      Arr.append(A[i:i+m])\n",
        "    #print(Arr)\n",
        "    print(isPal(Arr,n,m))\n",
        "  else:\n",
        "      print()\n",
        "\"\"\"\n",
        "2 3\n",
        "1 2 3 3 2 1\n",
        "True\n",
        "3 3\n",
        "1 2 3 5 5 5 3 2 1\n",
        "True\n",
        "4 4\n",
        "1 2 3 4 5 6 7 8 9 10 11 12 13 14 15 16\n",
        "False\n",
        "2 2 \n",
        "1 2 3 4 5 6\n",
        "a\n",
        "\"\"\""
      ],
      "execution_count": null,
      "outputs": [
        {
          "output_type": "stream",
          "text": [
            "2 2 \n",
            "1 2 3 4 5 6\n",
            "\n"
          ],
          "name": "stdout"
        },
        {
          "output_type": "execute_result",
          "data": {
            "application/vnd.google.colaboratory.intrinsic+json": {
              "type": "string"
            },
            "text/plain": [
              "'\\n2 3\\n1 2 3 3 2 1\\nTrue\\n3 3\\n1 2 3 5 5 5 3 2 1\\nTrue\\n4 4\\n1 2 3 4 5 6 7 8 9 10 11 12 13 14 15 16\\nFalse\\n'"
            ]
          },
          "metadata": {},
          "execution_count": 17
        }
      ]
    },
    {
      "cell_type": "markdown",
      "metadata": {
        "id": "Ocml2eRgNOjK"
      },
      "source": [
        "#23"
      ]
    },
    {
      "cell_type": "code",
      "metadata": {
        "colab": {
          "base_uri": "https://localhost:8080/"
        },
        "id": "ELcj36b8GUlu",
        "outputId": "cbe3e3e9-2b45-481a-a372-fd8133287627"
      },
      "source": [
        "\"\"\"\n",
        "Number of ways to traverse a Matrix and return to origin in K steps\n",
        "Given three integers A, B and C, where A and B are the dimensions of the matrix and C is the maximum possible steps,\n",
        "write a program to count the number ways to start from (0, 0) and return traversing the matrix by using K steps only. \n",
        "In each step, you can move up, down, left, right, or stay at the current position. The answer could be large, \n",
        "so print the answer in terms of modulo 10^9 + 5\n",
        "\n",
        "\"\"\"\n",
        "MOD = 1000000005\n",
        " \n",
        "dp = [[[0 for i in range(101)]\n",
        "          for i in range(101)]\n",
        "          for i in range(101)]\n",
        "A, B, C = 0, 0, 0\n",
        "\n",
        "def Initialize():\n",
        " \n",
        "    for i in range(101):\n",
        "        for j in range(101):\n",
        "            for z in range(101):\n",
        "                dp[i][j][z] = -1\n",
        "def CountWays(i, j, C):\n",
        " \n",
        "    if (i >= A or i < 0 or\n",
        "        j >= B or j < 0 or C < 0):\n",
        "        return 0\n",
        " \n",
        "    if (i == 0 and j == 0 and C == 0):\n",
        "        return 1\n",
        " \n",
        "    if (dp[i][j][C] != -1):\n",
        "        return dp[i][j][C]\n",
        "    else:\n",
        "        dp[i][j][C] = (CountWays(i + 1, j, C - 1) % MOD +\n",
        "                       CountWays(i - 1, j, C - 1) % MOD +\n",
        "                       CountWays(i, j - 1, C - 1) % MOD +\n",
        "                       CountWays(i, j + 1, C - 1) % MOD +\n",
        "                       CountWays(i, j, C - 1) % MOD) % MOD\n",
        "    return dp[i][j][C]\n",
        " \n",
        "# Driver code\n",
        "if __name__ == '__main__':\n",
        "  try:\n",
        "    A,B=[int(item) for item in input().split()]\n",
        "    C = int(input())\n",
        "  except:\n",
        "    A,B=0,0\n",
        "    C=0\n",
        "  if C!=0:\n",
        "    Initialize()\n",
        "    print(CountWays(0, 0, C))"
      ],
      "execution_count": null,
      "outputs": [
        {
          "output_type": "stream",
          "text": [
            "a,b\n"
          ],
          "name": "stdout"
        }
      ]
    },
    {
      "cell_type": "code",
      "metadata": {
        "colab": {
          "base_uri": "https://localhost:8080/"
        },
        "id": "HkuBDGzMh4w4",
        "outputId": "9957d468-df35-4fa4-9b82-845ebb0343a9"
      },
      "source": [
        "\"\"\"\n",
        "Find the Minimum number of jumps required to group all 1s together in a given Binary string\n",
        "you are Given a binary number as a string S,\n",
        "write a program to count the minimum number of jumps required to group all 1’s together.\n",
        "0101001\n",
        "3\n",
        "so after 1 jump : 0011001\n",
        "and 0011100 becomes after the last 1 jumps twice.\n",
        "\n",
        "\"\"\"\n",
        "def getMinJumps(s):\n",
        "  if len(s)>0:\n",
        "    ones = []\n",
        "    jumps, median, ind = 0, 0, 0\n",
        "    for i in range(len(s)):\n",
        "        if(s[i] == '1'):\n",
        "            ones.append(i)\n",
        "    if(len(ones) == 0):\n",
        "        return jumps\n",
        "    # Calculating the median\n",
        "    median = ones[len(ones) // 2]\n",
        "    ind = median\n",
        " \n",
        "    # Jumps required to group 1's\n",
        "    # to the left of median\n",
        "    for i in range(ind, -1, -1):\n",
        "        if(s[i] == '1'):\n",
        "            jumps += ind - i\n",
        "            ind -= 1\n",
        "    ind = median\n",
        " \n",
        "    # Jumps required to group for 1's\n",
        "    # to the right of median\n",
        "    for i in range(ind, len(s)):\n",
        "        if(s[i] == '1'):\n",
        "            jumps += i - ind\n",
        "            ind += 1\n",
        "    # Return the final answer\n",
        "    return jumps\n",
        "  else:\n",
        "    return ''\n",
        "def checkBinary(s):\n",
        "  for ele in s:\n",
        "    if ele not in ['0','1']:\n",
        "      return getMinJumps('') \n",
        "  return getMinJumps(s)\n",
        "\n",
        "  \n",
        "# Driver Code\n",
        "if __name__ == '__main__':\n",
        "  s=input() \n",
        "  print(checkBinary(s))   \n",
        "    "
      ],
      "execution_count": null,
      "outputs": [
        {
          "output_type": "stream",
          "text": [
            "-10-1011\n",
            "\n"
          ],
          "name": "stdout"
        }
      ]
    },
    {
      "cell_type": "code",
      "metadata": {
        "colab": {
          "base_uri": "https://localhost:8080/"
        },
        "id": "hZsP_5N_vtgz",
        "outputId": "90611e4a-d407-4313-e45c-c2b54e0f438c"
      },
      "source": [
        "# Write a Python program to split circular linked list into two halves if there are odd numbers of elements then the first list will have one extra element\n",
        "\n",
        "# A node structure\n",
        "class Node:\n",
        "\t\n",
        "\t# Constructor to create a new node\n",
        "\tdef __init__(self, data):\n",
        "\t\tself.data = data\n",
        "\t\tself.next = None\n",
        "\n",
        "\n",
        "# Class to create a new Circular Linked list\n",
        "class CircularLinkedList:\n",
        "\t\n",
        "\tdef __init__(self):\n",
        "\t\tself.head = None\n",
        "\n",
        "\t# Function to insert a node at the beginning of a circular queue\n",
        "\tdef push(self, data):\n",
        "\t\tptr1 = Node(data)\n",
        "\t\ttemp = self.head\n",
        "\t\t\n",
        "\t\tptr1.next = self.head\n",
        "\n",
        "\t\t# If linked list is not None then set the next of\n",
        "\t\t# last node\n",
        "\t\tif self.head is not None:\n",
        "\t\t\twhile(temp.next != self.head):\n",
        "\t\t\t\ttemp = temp.next\n",
        "\t\t\ttemp.next = ptr1\n",
        "\n",
        "\t\telse:\n",
        "\t\t\tptr1.next = ptr1 # For the first node\n",
        "\n",
        "\t\tself.head = ptr1\n",
        "\n",
        "\t# Function to print nodes in a given circular queue\n",
        "\tdef printList(self):\n",
        "\t\ttemp = self.head\n",
        "\t\tif self.head is not None:\n",
        "\t\t\twhile(True):\n",
        "\t\t\t\tprint ((temp.data),end=\" \")\n",
        "\t\t\t\ttemp = temp.next\n",
        "\t\t\t\tif (temp == self.head):\n",
        "\t\t\t\t\tbreak\n",
        "\n",
        "\n",
        "\tdef splitList(self, head1, head2):\n",
        "\t\tslow_ptr = self.head\n",
        "\t\tfast_ptr = self.head\n",
        "\t\n",
        "\t\tif self.head is None:\n",
        "\t\t\treturn\n",
        "\t\t\n",
        "\t\twhile(fast_ptr.next != self.head and\n",
        "\t\t\tfast_ptr.next.next != self.head ):\n",
        "\t\t\tfast_ptr = fast_ptr.next.next\n",
        "\t\t\tslow_ptr = slow_ptr.next\n",
        "\n",
        "\t\t# If there are even elements in list then fast_ptr \n",
        "    #becomes the head for even nodes\n",
        "\t\tif fast_ptr.next.next == self.head:\n",
        "\t\t\tfast_ptr = fast_ptr.next\n",
        "\n",
        "\t\t# Set the head pointer of first half\n",
        "\t\thead1.head = self.head\n",
        "\n",
        "\t\t# Set the head pointer of second half\n",
        "\t\tif self.head.next != self.head:\n",
        "\t\t\thead2.head = slow_ptr.next\n",
        "\n",
        "\t\t# Make second half circular\n",
        "\t\tfast_ptr.next = slow_ptr.next\n",
        "\t\n",
        "\t\t# Make first half circular\n",
        "\t\tslow_ptr.next = self.head\n",
        "\n",
        "def userinput():\n",
        "  try:\n",
        "    #taking input of List in a single line\n",
        "    List=[item for item in input().split()]\n",
        "  except:\n",
        "    List=[]    \n",
        "  return List\n",
        "\n",
        "# Initialize lists as empty\n",
        "head = CircularLinkedList()\n",
        "head1 = CircularLinkedList()\n",
        "head2 = CircularLinkedList()\n",
        "for i in reversed(userinput()):\n",
        "  head.push(i)\n",
        "# Splitting the list\n",
        "head.splitList(head1 , head2)\n",
        "head1.printList()\n",
        "print()\n",
        "head2.printList()"
      ],
      "execution_count": null,
      "outputs": [
        {
          "output_type": "stream",
          "text": [
            "0 0 0 0 0 0 0 0 0 0\n",
            "0 0 0 0 0 \n",
            "0 0 0 0 0 "
          ],
          "name": "stdout"
        }
      ]
    },
    {
      "cell_type": "code",
      "metadata": {
        "colab": {
          "base_uri": "https://localhost:8080/"
        },
        "id": "-av8Mle-0QGV",
        "outputId": "d6ab52c0-52e1-48c2-b8b8-30f2e4c322e1"
      },
      "source": [
        "\"\"\"\n",
        "Find the Subsequence with maximum pairwise absolute difference and minimum size\n",
        "Given an array Arr[] of N integers, \n",
        "write a program to print the subsequence from the given array with the maximum pairwise absolute difference of adjacent elements. \n",
        "If multiple such subsequences exist, then print the subsequence with the smallest length.\n",
        "for eg:\n",
        "  1 2 3 4 5 6 5\n",
        "  1 6 5\n",
        "  |1-6|+|6-5|=6 which is the maximum difference \n",
        "\n",
        "\"\"\"\n",
        "def getSubsequence(ar):\n",
        " \n",
        "    N = len(ar)\n",
        "    ans = []\n",
        " \n",
        "    # First element is in the ans\n",
        "    ans.append(ar[0])\n",
        "    for i in range(1, N - 1):\n",
        "        if (ar[i] > ar[i - 1]):\n",
        " \n",
        "            # local maxima is stored\n",
        "            if(i < N - 1 and\n",
        "               ar[i] <= ar[i + 1]):\n",
        "                continue\n",
        "            else:\n",
        "                ans.append(ar[i])\n",
        "        else:\n",
        "            if (i < N - 1 and\n",
        "                 ar[i + 1] < ar[i]):\n",
        "                continue\n",
        "            else:\n",
        "                ans.append(ar[i])\n",
        " \n",
        "    ans.append(ar[N - 1])\n",
        " \n",
        "    # Printing the element\n",
        "    for it in ans:\n",
        "        print(it, end = \" \")\n",
        " \n",
        "# Driver Code\n",
        "if __name__ == '__main__':\n",
        "  try:\n",
        "    Arr=[int(item) for item in input().split()]\n",
        "  except:\n",
        "    Arr=[]    \n",
        "  if len(Arr)>0: \n",
        "    getSubsequence(Arr)\n",
        "  else:\n",
        "    print()"
      ],
      "execution_count": null,
      "outputs": [
        {
          "output_type": "stream",
          "text": [
            "78 1215 2133 1221 0022 655 \n",
            "78 2133 22 655 "
          ],
          "name": "stdout"
        }
      ]
    },
    {
      "cell_type": "markdown",
      "metadata": {
        "id": "mG7_XaHuErqs"
      },
      "source": [
        "#24"
      ]
    },
    {
      "cell_type": "code",
      "metadata": {
        "colab": {
          "base_uri": "https://localhost:8080/"
        },
        "id": "mC1EJLg0AqPO",
        "outputId": "3e1f1a3f-52cf-4799-9137-6aa05d86a454"
      },
      "source": [
        "\"\"\"\n",
        "Can we Sort an array by swapping elements of different type specified by another array\n",
        "you are given two arrays A[] and B[] which contains the integer elements and their respective types \n",
        "(either type 0 or type 1) respectively, \n",
        "write a program to check if it is possible to sort the array in non-decreasing order by swapping elements of different types only. \n",
        "Input: a[] = {30, 20, 20, 10}, b[] = {1, 1, 1, 0} \n",
        "Output: True\n",
        "Explanation: \n",
        "swap 30 with 10 since they are of diferent types\n",
        "\"\"\"\n",
        "def sorting_possible(a, b, n):\n",
        "    sorted = True\n",
        "     \n",
        "    type1 = 0\n",
        "    type0 = 0\n",
        "    for i in range(1, n):\n",
        "        if (a[i] < a[i - 1]):\n",
        "            sorted = False\n",
        "            break\n",
        "    for i in range(n):\n",
        "         # storing frequency of type 0 and type 1\n",
        "        if (b[i] == 0):\n",
        "            type0 += 1\n",
        "        else:\n",
        "            type1 += 1\n",
        "    if (sorted != False):\n",
        "        return True\n",
        "    elif (type1 == n or type0 == n):\n",
        "        return False\n",
        "    else:\n",
        "        return True\n",
        "     \n",
        "# Driver code\n",
        "if __name__ == '__main__':\n",
        "  try:\n",
        "    A=[int(item) for item in input().split()]\n",
        "    B=[int(item) for item in input().split()]\n",
        "  except:\n",
        "    A=[]\n",
        "    B=[]  \n",
        "  for ele in B:\n",
        "    if ele not in [0,1]:\n",
        "      B=[]\n",
        "  if len(A)==len(B) and len(A)>0:   \n",
        "    n = len(A)\n",
        "    print(sorting_possible(A,B, n))\n"
      ],
      "execution_count": null,
      "outputs": [
        {
          "output_type": "stream",
          "text": [
            "25\n"
          ],
          "name": "stdout"
        }
      ]
    },
    {
      "cell_type": "code",
      "metadata": {
        "colab": {
          "base_uri": "https://localhost:8080/"
        },
        "id": "cUItIujSD1FA",
        "outputId": "ee1f6ee8-5b7a-4014-f350-ce5abe4a78ce"
      },
      "source": [
        "\"\"\"\n",
        "Compute the minimum or maximum of two integers without branching\n",
        "ie there will not be any function call.\n",
        "write a program that takes two number and prints the minimum and maximum with bitwise operations\n",
        "\"\"\"\n",
        "if __name__ == '__main__':\n",
        "  try:\n",
        "    A,B=[int(item) for item in input().split()]\n",
        "    print(B ^ ((A ^ B) & -(A < B)))\n",
        "    print(A ^ ((A ^ B) & -(A < B)))\n",
        "  except:\n",
        "    print()"
      ],
      "execution_count": null,
      "outputs": [
        {
          "output_type": "stream",
          "text": [
            "\n"
          ],
          "name": "stdout"
        }
      ]
    },
    {
      "cell_type": "code",
      "metadata": {
        "id": "y0tD6muXHeuW"
      },
      "source": [
        "\"\"\"\n",
        "Preparata’s Sorting Algorithm\n",
        "write a python program to impliment Preparata’s Sorting Algorithm \n",
        "for the rank of each input key is computed and the keys are outputted according to their ranks.\n",
        "\"\"\"\n",
        "class func:\n",
        "    def __init__(self, x, y):\n",
        "        self.x = x\n",
        "        self.y = y\n",
        "def Left_index(points):\n",
        "      \n",
        "    # Finding the point on plane\n",
        "    minn = 0\n",
        "      \n",
        "    # Traverse the given points\n",
        "    for i in range(1, len(points)):\n",
        "        \n",
        "          # Update the value of minn\n",
        "        if points[i].x < points[minn].x:\n",
        "            minn = i\n",
        "        elif points[i].x == points[minn].x:\n",
        "            if points[i].y > points[minn].y:\n",
        "                minn = i\n",
        "                  \n",
        "    # Return the value of min\n",
        "    return minn\n",
        "def parallel(p, q, r):\n",
        "  \n",
        "    # For the three-dimensional\n",
        "    val = (q.y - p.y) * (r.x - q.x) - \\\n",
        "        (q.x - p.x) * (r.y - q.y)\n",
        "  \n",
        "    if val == 0:\n",
        "        return 0\n",
        "    elif val > 0:\n",
        "        return 1\n",
        "    else:\n",
        "        return 2\n",
        "def preparata(points, n):\n",
        "  \n",
        "    # There must be at least 3 points\n",
        "    if n < 3:\n",
        "        return\n",
        "  \n",
        "    # Find the leftmost point\n",
        "    l = Left_index(points)\n",
        "  \n",
        "    pre = []\n",
        "  \n",
        "    p = l\n",
        "    q = 0\n",
        "    while(True):\n",
        "  \n",
        "        # Add current point to result\n",
        "        pre.append(p)\n",
        "  \n",
        "        q = (p + 1) % n\n",
        "  \n",
        "        for i in range(n):\n",
        "  \n",
        "            # If i is more counterclockwise\n",
        "            # than current q, then update q\n",
        "            if(parallel(points[p],\n",
        "                        points[i], points[q]) == 2):\n",
        "                q = i\n",
        "  \n",
        "        p = q\n",
        "  \n",
        "        # While it doesn't come to first point\n",
        "        if(p == l):\n",
        "            break\n",
        "  \n",
        "    # Print Result\n",
        "    for each in pre:\n",
        "        print(points[each].x, points[each].y)\n",
        "  \n",
        "# Driver Code\n",
        "if __name__ == \"__main__\":\n",
        "  try:\n",
        "    A=[int(item) for item in input().split()]\n",
        "  except:\n",
        "    A=[]\n",
        "  if len(A)%2==0 and len(A)>0:\n",
        "    algo=[]\n",
        "    for i in range(0,len(A),2):\n",
        "      algo.append(func(A[i],A[i+1]))\n",
        "    preparata(algo, len(algo))\n",
        "  else:\n",
        "    print()\n"
      ],
      "execution_count": null,
      "outputs": []
    },
    {
      "cell_type": "code",
      "metadata": {
        "id": "iB1WZo5FwD48"
      },
      "source": [
        "\"\"\"\n",
        "possible unique sum of series K, K+1, K+2, K+3, K+4, ..., K+N\n",
        "\n",
        "you are Given a number N,\n",
        "for any number K for a series formed as K, K + 1, K + 2, K + 3, K + 4, ......., K + N.\n",
        "write a program to find the number of unique sums that can be obtained by adding two or more integers from the series of N + 1 integers.\n",
        "\"\"\"\n",
        "def count_series_sum(n):\n",
        " \n",
        "    ar = [0] * (n + 1)\n",
        "    fsum = [0] * (n + 1)\n",
        "    rsum = [0] * (n + 1)\n",
        "    ans = 1\n",
        " \n",
        "    for i in range(0, n + 1):\n",
        "        ar[i] = i\n",
        "    fsum[0] = ar[0]\n",
        "    rsum[n] = ar[n]\n",
        "    for i in range(1, n + 1):\n",
        "        fsum[i] = ar[i] + fsum[i - 1]\n",
        "    for i in range(n - 1, -1, -1):\n",
        "        rsum[i] = ar[i] + rsum[i + 1]\n",
        "    for k in range(2, n + 1):\n",
        "        ans += (1 + rsum[n + 1 - k] -\n",
        "                    fsum[k - 1])\n",
        "    return ans\n",
        "\n",
        "if __name__ == \"__main__\":\n",
        "  try:\n",
        "    N=int(input())\n",
        "  except:\n",
        "    N=0\n",
        "  if N>0:\n",
        "    print(count_series_sum(N))\n",
        " "
      ],
      "execution_count": null,
      "outputs": []
    },
    {
      "cell_type": "markdown",
      "metadata": {
        "id": "DjNnQEtE_rZp"
      },
      "source": [
        "#25"
      ]
    },
    {
      "cell_type": "code",
      "metadata": {
        "id": "0gLw109nwNdu",
        "colab": {
          "base_uri": "https://localhost:8080/"
        },
        "outputId": "dbb01592-6800-4f2b-c0d5-a0d4c65a7f96"
      },
      "source": [
        "\"\"\"\n",
        "find the Minimum N-Digit number required to obtain largest N-digit number after performing given operations.\n",
        "you are given a positive integer N, \n",
        "write a program to find the minimum N-digit number such that the following operations on it \n",
        "in this order will result in the largest N digit number\n",
        "1. Convert the number to its Binary Coded Decimal form.\n",
        "2.Concatenate all the resulting nibbles to form a binary number.\n",
        "3.Remove the least significant N bits from the number.\n",
        "4.Convert this obtained binary number to its decimal form.\n",
        "\n",
        "4\n",
        "9990\n",
        "Largest 4 digit number = 9999 \n",
        "BCD of 9999 = 1001 1001 1001 1001 \n",
        "Binary form = 1001100110011001 \n",
        "Replacing last 4 bits by 0000: 1001 1001 1001 0000 = 9990 \n",
        "Therefore, the minimum N-digit number that can generate 9999 is 9990\n",
        "\"\"\"\n",
        "def maxNdigit(n):\n",
        "    if (n % 4 == 0):\n",
        "        count0s = n // 4\n",
        "        count9s = n - n // 4\n",
        "    else:\n",
        "        count0s = n // 4 + 1\n",
        "        count9s = n - count0s\n",
        "        count0s -= 1\n",
        "     \n",
        "    while (count9s):\n",
        "        print('9', end = \"\")\n",
        "        count9s -= 1\n",
        "    if (n % 4 != 0):\n",
        "        print('8', end = \"\")\n",
        "    while (count0s):\n",
        "        print('0', end = \"\")\n",
        "        count0s -= 1\n",
        "    print()\n",
        " \n",
        "# Driver Code\n",
        "if __name__ == \"__main__\":\n",
        "  try:\n",
        "    N=int(input())\n",
        "    maxNdigit(N)\n",
        "  except:\n",
        "    print()\n",
        "\n",
        "  "
      ],
      "execution_count": null,
      "outputs": [
        {
          "output_type": "stream",
          "text": [
            "16\n",
            "9999999999990000\n"
          ],
          "name": "stdout"
        }
      ]
    },
    {
      "cell_type": "code",
      "metadata": {
        "colab": {
          "base_uri": "https://localhost:8080/"
        },
        "id": "_jnEO8OaCCbG",
        "outputId": "53c0c914-60b7-4f11-84a0-ed1be272f639"
      },
      "source": [
        "\"\"\"\n",
        "Find relative rank of each element in array\n",
        "you are given an array A[] of N integers, write a program to find the relative rank for each element in the given array.\n",
        "Relative rank is defines as: For each element in the array is the count of elements which is greater than the current element \n",
        "in the Longest Increasing Subsequence from the current element.\n",
        "for example:\n",
        "  1 2 3 4 5\n",
        "  4 3 2 1 0\n",
        "  for i = 0 seq is {1 2 3 4 5} thus relative rank is 4\n",
        "  similarly i=1 seq is {2 3 4 5} =3\n",
        "  and as 5 is the greatest the rank is 0\n",
        "\n",
        "\"\"\"\n",
        "def findRank(A, N):\n",
        "    rank = [0] * N\n",
        "    # Stack to store non decresing order\n",
        "    s = []\n",
        "    # Pushing last element in stack\n",
        "    s.append(A[N - 1])\n",
        "    for i in range(N - 2, -1, -1):\n",
        "        if (A[i] < s[-1]):\n",
        "            s.append(A[i])\n",
        "            rank[i] = len(s) - 1\n",
        "  \n",
        "        else:\n",
        "  \n",
        "            # Pop till current is greater than top\n",
        "            while (len(s) > 0 and A[i] >= s[-1]):\n",
        "                del s[-1]\n",
        "            s.append(A[i])\n",
        "            rank[i] = len(s) - 1\n",
        "    for i in range(N):\n",
        "        print(rank[i], end = \" \")\n",
        "          \n",
        "# Driver Code\n",
        "if __name__ == '__main__':\n",
        "  try:\n",
        "    A=[int(item) for item in input().split()]\n",
        "  except:\n",
        "    A=[]\n",
        "  if len(A)>0:\n",
        "    findRank(A,len(A))\n",
        "  else:\n",
        "    print()"
      ],
      "execution_count": null,
      "outputs": [
        {
          "output_type": "stream",
          "text": [
            "-1 -3 3 4 5\n",
            "3 3 2 1 0 "
          ],
          "name": "stdout"
        }
      ]
    },
    {
      "cell_type": "code",
      "metadata": {
        "colab": {
          "base_uri": "https://localhost:8080/"
        },
        "id": "Qr47LemUElO0",
        "outputId": "5eeb332c-f679-4f1d-86da-cc21ebccaf3f"
      },
      "source": [
        "\"\"\"\n",
        "Number of N digit Numbers whose sum of every K consecutive digits is equal\n",
        "you are given two integers A and B, \n",
        "write a program to find the total count of N-digit number \n",
        "such that the sum of every B consecutive digits of the number is equal.\n",
        "A = 2, B = 1\n",
        "9 \n",
        "11, 22, 33, 44, 55, 66, 77, 88, 99 with sum of every 1 consecutive digits equal to 1, 2, 3, 4, 5, 6, 7, 8, 9 \n",
        "\"\"\"\n",
        "def countDigitSum(N, K):\n",
        "     # getting range\n",
        "    l = pow(10, N - 1)\n",
        "    r = pow(10, N) - 1\n",
        "    count = 0\n",
        "    for i in range(l, r + 1):\n",
        "        num = i\n",
        "        digits = [0] * N\n",
        "         \n",
        "        for j in range(N - 1, -1, -1):\n",
        "            digits[j] = num % 10\n",
        "            num //= 10\n",
        "         \n",
        "        sum = 0\n",
        "        flag = 0\n",
        " \n",
        "        # Storing the sum of first K digits\n",
        "        for j in range(0, K):\n",
        "            sum += digits[j]\n",
        " \n",
        "        # Checking for k-consective digits\n",
        "        for j in range(1, N - K + 1):\n",
        "            curr_sum = 0\n",
        "            for m in range(j, j + K):\n",
        "                    curr_sum += digits[m]\n",
        "            if (sum != curr_sum):\n",
        "                flag = 1\n",
        "                break\n",
        "        if (flag == 0):\n",
        "            count += 1\n",
        "    return count\n",
        "if __name__ == '__main__':\n",
        "  try:\n",
        "    A=int(input())\n",
        "    B=int(input())\n",
        "  except:\n",
        "    A,B=0,0\n",
        "  if A>0 and B>0:\n",
        "    print(countDigitSum(A, B))"
      ],
      "execution_count": null,
      "outputs": [
        {
          "output_type": "stream",
          "text": [
            "3\n",
            "2\n",
            "90\n"
          ],
          "name": "stdout"
        }
      ]
    },
    {
      "cell_type": "code",
      "metadata": {
        "colab": {
          "base_uri": "https://localhost:8080/"
        },
        "id": "NITeVYnLJLsw",
        "outputId": "54475a1d-eb7c-467c-f0ab-d85d06c2db1c"
      },
      "source": [
        "\"\"\"\n",
        "Find the minimum number of distinct powers of 2 required to express a given binary number.\n",
        "you are given a binary string S, the task is to find the minimum number of Powers of 2 required to express a S.\n",
        "“111” \n",
        "2 \n",
        "2^0 + 2^1 + 2^2 = 1 + 2 + 4 = 7 \n",
        "2^3 – 2^0 = 8 – 1 = 7 \n",
        "\"\"\"\n",
        "def findMinimum(s):\n",
        " \n",
        "    n = len(s)\n",
        "    x = [0] * (n + 1)\n",
        "  # reversing string to start from lower power.\n",
        "    s = s[::-1]\n",
        "    for i in range(n):\n",
        "        if(s[i] == '1'):\n",
        "            if(x[i] == 1):\n",
        "                x[i + 1] = 1\n",
        "                x[i] = 0\n",
        "            elif(i and x[i - 1] == 1):\n",
        "                x[i + 1] = 1\n",
        "                x[i - 1] = -1\n",
        " \n",
        "            else:\n",
        "                x[i] = 1\n",
        "    c = 0\n",
        "    for i in range(n + 1):\n",
        "        if(x[i] != 0):\n",
        "            c += 1\n",
        "    print(c)\n",
        " \n",
        "# Driver Code\n",
        "if __name__ == '__main__':\n",
        "  try:\n",
        "    S=input()\n",
        "  except:\n",
        "    S=\"\"\n",
        "  for ele in S:\n",
        "    if ele not in ['0','1']:\n",
        "      S=\"\"\n",
        "  if len(S)>0:\n",
        "    findMinimum(S)\n",
        "  else:\n",
        "    print()"
      ],
      "execution_count": null,
      "outputs": [
        {
          "output_type": "stream",
          "text": [
            "1111100000\n",
            "2\n"
          ],
          "name": "stdout"
        }
      ]
    },
    {
      "cell_type": "markdown",
      "metadata": {
        "id": "ejsn_DT418KK"
      },
      "source": [
        "#26\n"
      ]
    },
    {
      "cell_type": "code",
      "metadata": {
        "id": "-HlO_8HBzWll",
        "colab": {
          "base_uri": "https://localhost:8080/"
        },
        "outputId": "4ab1ed6a-459b-47cd-b8e8-9bd7a82ed280"
      },
      "source": [
        "\"\"\"\n",
        "find the K-th term from given N merged Arithmetic Progressions\n",
        "you are given an integer K and an array arr[] of N integers, \n",
        "each of which is the first term and common difference of an Arithmetic Progression, \n",
        "write a program to find the Kth element of the set S formed by merging the N arithmetic progressions.\n",
        "\"\"\"\n",
        "maxm = 1000000000\n",
        "#maximum range\n",
        "# counts and returns values less than equal or to N\n",
        "def count(v, n):\n",
        "    odd, even = 0, 0\n",
        "    t = 1 << len(v)\n",
        "    size = len(v)\n",
        " \n",
        "    for i in range(1, t):\n",
        "        d, count = 1, 0\n",
        "         \n",
        "        for j in range(0, size):\n",
        " \n",
        "            # Check whether j-th bit\n",
        "            # is set bit or not\n",
        "            if (i & (1 << j)):\n",
        "                d *= v[j]\n",
        "                count += 1\n",
        " \n",
        "        if (count & 1):\n",
        "            odd += n // d\n",
        "        else:\n",
        "            even += n // d\n",
        " \n",
        "    return (odd - even)\n",
        " \n",
        "def BinarySearch(l, r, v, key):\n",
        " \n",
        "    while (r - l > 1):\n",
        "        mid = (l + r) // 2\n",
        "        if (key <= count(v, mid)):\n",
        "            r = mid\n",
        "        else:\n",
        "            l = mid\n",
        "    if (key == count(v, l)):\n",
        "        return l\n",
        "    else:\n",
        "        return r\n",
        "# Driver Code\n",
        "if __name__==\"__main__\":\n",
        "  try:\n",
        "    K = int(input())\n",
        "    v = [int(item) for item in input().split()]\n",
        "  except:\n",
        "    K=0\n",
        "    v=[]\n",
        "  if K!=0 and len(v)>0:\n",
        "    print(BinarySearch(1, maxm, v, K))\n",
        "  else:\n",
        "    print()\n",
        "\n"
      ],
      "execution_count": null,
      "outputs": [
        {
          "output_type": "stream",
          "text": [
            "0\n",
            "0 1\n",
            "\n"
          ],
          "name": "stdout"
        }
      ]
    },
    {
      "cell_type": "code",
      "metadata": {
        "colab": {
          "base_uri": "https://localhost:8080/"
        },
        "id": "dLkPYRjs3tJ_",
        "outputId": "dd1f57d3-3ee0-4aef-b3c3-f7705cb03f53"
      },
      "source": [
        "\"\"\"\n",
        "Total number of values of N in [L, R] such that count of primes upto N is also prime\n",
        "Given two positive integers L and R, the task is to find out the total number of values between range [L, R] \n",
        "such that the count of prime numbers from 1 to N is also prime.\n",
        "for eg \n",
        "L = 3, R = 10 \n",
        "o/p: 4  \n",
        "Number of primes upto 3 is 2 and 4 is 2 and 5 is 3 and upto is 10 is 4 So, there are a total 4 such numbers \n",
        "\"\"\"\n",
        "def count_primes(L, R):\n",
        "    prime = [0] * (R + 1)\n",
        "    countPrime = [0] * (R + 1)\n",
        "    freqPrime = [0] * (R + 1)\n",
        "    prime[0] = prime[1] = 1\n",
        "    # Sieve of Eratosthenes\n",
        "    p = 2\n",
        "    while p * p <= R:\n",
        "        if (prime[p] == 0):\n",
        "            for i in range (p * p,\n",
        "                            R + 1 , p):\n",
        "                prime[i] = 1\n",
        "        p += 1\n",
        "    for i in range (1 , R + 1):\n",
        "        countPrime[i] = countPrime[i - 1]\n",
        "        if (not prime[i]):\n",
        "            countPrime[i] += 1\n",
        "    for i in range (1, R + 1):\n",
        "        freqPrime[i] = freqPrime[i - 1]\n",
        "        if (not prime[countPrime[i]]):\n",
        "            freqPrime[i] += 1\n",
        "    return (freqPrime[R] -\n",
        "            freqPrime[L - 1])\n",
        " \n",
        "# Driver Code\n",
        "if __name__ ==\"__main__\":\n",
        "  try:\n",
        "    L,R=[int(item) for item in input().split()]\n",
        "  except:\n",
        "    L,R=0,0\n",
        "  if (L<=R):\n",
        "    print(count_primes(L, R))\n",
        "  else:\n",
        "    print()"
      ],
      "execution_count": null,
      "outputs": [
        {
          "output_type": "stream",
          "text": [
            "39 56\n",
            "2\n"
          ],
          "name": "stdout"
        }
      ]
    },
    {
      "cell_type": "code",
      "metadata": {
        "colab": {
          "base_uri": "https://localhost:8080/"
        },
        "id": "StZJnzp381B0",
        "outputId": "95919a29-7701-4870-aa71-020aefb41630"
      },
      "source": [
        "\"\"\"\n",
        "Minimize number of boxes by putting small boxes inside  bigger ones.\n",
        "you are given an array size[] of box sizes, \n",
        "write a program to find the number of boxes that are left at the end, after putting the smaller-sized boxes into bigger ones.\n",
        "for eg:\n",
        "  1 2 2 3 4 6 7 6 \n",
        "  2\n",
        "  inside 7 there are 1,2,3,4 and 6\n",
        "\n",
        "  inside 6 there is 2. \n",
        "\"\"\"\n",
        "def minBox(arr):\n",
        "    n=len(arr)\n",
        "    box = n\n",
        "    arr= sorted(arr)\n",
        "    curr_box, next_box = 0, 1\n",
        "    while (curr_box < n and next_box < n):\n",
        "        if (arr[curr_box] < arr[next_box]):\n",
        "            box = box - 1\n",
        "            curr_box = curr_box + 1\n",
        "            next_box = next_box + 1\n",
        "        elif (arr[curr_box] == arr[next_box]):\n",
        "            next_box = next_box + 1\n",
        "    print(box)\n",
        " \n",
        "# Driver code\n",
        "if __name__ ==\"__main__\":\n",
        "  try:\n",
        "    size=[int(item) for item in input().split()]\n",
        "  except:\n",
        "    size=[]\n",
        "  for ele in size:\n",
        "    if ele<1:\n",
        "      size=[]\n",
        "      break;\n",
        "  \n",
        "  if len(size)>0:\n",
        "    minBox(size)"
      ],
      "execution_count": null,
      "outputs": [
        {
          "output_type": "stream",
          "text": [
            "1 2 3 4 5 6 7 8 9 10 11 12 13 14 15 \n",
            "1\n"
          ],
          "name": "stdout"
        }
      ]
    },
    {
      "cell_type": "code",
      "metadata": {
        "colab": {
          "base_uri": "https://localhost:8080/"
        },
        "id": "N1Mcd1bhUw9H",
        "outputId": "d275b556-0054-44f8-d151-fb2ad877383c"
      },
      "source": [
        "\"\"\"\n",
        "Maximum number of teams that can be formed with given people.\n",
        "you are provided two integers N and M which denote the number of persons of Type1 and Type2 respectively. \n",
        "write a program to find the maximum number of teams that can be formed with these two types of persons. \n",
        "A team can contain either 2 persons of Type1 and 1 person of Type2 or 1 person of Type1 and 2 persons of Type2.\n",
        "\"\"\"\n",
        "def canFormTeam(n, m):\n",
        "    #1 type 1 and 2 type 2\n",
        "    if (n >= 1 and m >= 2):\n",
        "        return True\n",
        "    #2 type 1 and 2 type 1\n",
        "    if (m >= 1 and n >= 2):\n",
        "        return True\n",
        "    return False\n",
        "def maxTeams(n, m):\n",
        "    count = 0\n",
        " \n",
        "    while (canFormTeam(n, m)):\n",
        "        if (n > m):\n",
        "            n -= 2\n",
        "            m -= 1\n",
        "        else:\n",
        "            m -= 2\n",
        "            n -= 1\n",
        "        count += 1\n",
        " \n",
        "    return count\n",
        " \n",
        "# Driver code\n",
        "if __name__ == '__main__':\n",
        "  try:\n",
        "    n,m=[int(item) for item in input().split()]\n",
        "    print(maxTeams(n, m))\n",
        "  except:\n",
        "    print()  "
      ],
      "execution_count": null,
      "outputs": [
        {
          "output_type": "stream",
          "text": [
            "19 23\n",
            "14\n"
          ],
          "name": "stdout"
        }
      ]
    },
    {
      "cell_type": "markdown",
      "metadata": {
        "id": "uwthW1p8aba6"
      },
      "source": [
        "# 27\n"
      ]
    },
    {
      "cell_type": "code",
      "metadata": {
        "colab": {
          "base_uri": "https://localhost:8080/"
        },
        "id": "Zxz-qrFfXavB",
        "outputId": "f7c8f362-061b-43c1-df2a-ea52c04a3045"
      },
      "source": [
        "\"\"\"\n",
        "Minimum and Maximum number of pairs in m teams of n people\n",
        "There are n people which are to be grouped into exactly m teams \n",
        "such that there is at least one person in each team. \n",
        "All members of a team are friends with each other. \n",
        "write a program Find the minimum and maximum no. of pairs of friends \n",
        "that can be formed by grouping these n people into exactly m teams.\n",
        "n=5 m=2\n",
        "4 6\n",
        "4 is the minimum number of teams and 6 is the maximum\n",
        "\"\"\"\n",
        "from math import ceil\n",
        "def MinimumMaximumPairs(n, m) :\n",
        "    max_pairs = ((n - m + 1) * (n - m)) // 2\n",
        "    min_pairs = (m * (((n - m) // m + 1) *\n",
        "                      ((n - m) // m)) // 2 +\n",
        "                  ceil((n - m) / (m)) *\n",
        "                      ((n - m) % m))\n",
        "    print(min_pairs,end=\" \")\n",
        "    print(max_pairs)\n",
        " \n",
        "# Driver code\n",
        "if __name__ == \"__main__\" :\n",
        "  try:\n",
        "    n,m=[int(item) for item in input().split()]\n",
        "    if n>=0 and m>=0:\n",
        "      MinimumMaximumPairs(n, m)\n",
        "    else:\n",
        "      print()\n",
        "  except:\n",
        "    print()\n",
        "\n",
        "\n",
        "\n",
        "    "
      ],
      "execution_count": null,
      "outputs": [
        {
          "output_type": "stream",
          "text": [
            "8 6\n",
            "2 3\n"
          ],
          "name": "stdout"
        }
      ]
    },
    {
      "cell_type": "code",
      "metadata": {
        "colab": {
          "base_uri": "https://localhost:8080/"
        },
        "id": "9toIjFgMbbVo",
        "outputId": "292a7062-cc9a-4700-995c-48e848b4ac04"
      },
      "source": [
        "\"\"\"\n",
        "Maximum OR value of a pair in an Array without using OR operator\n",
        "you are given an array arr[] containing N positive integers, \n",
        "write a program to find the maximum bitwise OR value of a pair in the given array without using the Bitwise OR operator.\n",
        "arr[] = {3, 6, 8, 16} \n",
        "O/p:24 \n",
        "Explanation: \n",
        "(8, 16) has the maximum or value which is 24 => 8|16 = 24\n",
        "\"\"\"\n",
        "from math import log2, floor\n",
        "def maxORPair(arr, n):\n",
        "    # Finding maximum element in the array\n",
        "    max_value = max(arr)\n",
        "    number_of_bits = floor(log2(max_value)) + 1\n",
        "    #complimenting will set all unset bits to set.\n",
        "    complement = (((1 << number_of_bits) - 1) ^\n",
        "                 max_value)\n",
        "    c = 0\n",
        "    for i in range(n):\n",
        "         \n",
        "        if (arr[i] != max_value):\n",
        "            c = max(c, (complement & arr[i]))\n",
        "    return (max_value + c)\n",
        " \n",
        "# Driver code\n",
        "if __name__ == \"__main__\" :\n",
        "  try:\n",
        "    A=[int(item) for item in input().split()]\n",
        "  except:\n",
        "    A=[]\n",
        "  if len(A)>0:\n",
        "    print(maxORPair(A,len(A)))\n",
        "\n"
      ],
      "execution_count": null,
      "outputs": [
        {
          "output_type": "stream",
          "text": [
            "565 2325 12155 33265 121202 545512 6523 1325\n",
            "646138\n"
          ],
          "name": "stdout"
        }
      ]
    },
    {
      "cell_type": "code",
      "metadata": {
        "colab": {
          "base_uri": "https://localhost:8080/"
        },
        "id": "ZZJlqhUb7l5P",
        "outputId": "6fe08451-d8ee-4971-e44f-8ee0c619c327"
      },
      "source": [
        "\"\"\"\n",
        "Find the area of the biggest ellipse within a rectangle\n",
        "you are given here is a rectangle of length l & breadth b, \n",
        "write a program to find the area of the biggest ellipse that can be inscribed within it.\n",
        "\"\"\"\n",
        "from math import pi\n",
        "def area(l, b):\n",
        "      #area of ellipse is pi*x*y and from figure\n",
        "      #2x=l and 2y=b therefore\n",
        "    x = (pi* l * b) / 4\n",
        "    return x\n",
        "if __name__ == \"__main__\":\n",
        "  try:\n",
        "    l,b=[int(item) for item in input().split()]\n",
        "    if l > 0 and b > 0:\n",
        "      print(\"{:.2f}\".format(area(l,b)))\n",
        "    else:\n",
        "      print()\n",
        "  except:\n",
        "    print()"
      ],
      "execution_count": null,
      "outputs": [
        {
          "output_type": "stream",
          "text": [
            "-8 5\n",
            "\n"
          ],
          "name": "stdout"
        }
      ]
    },
    {
      "cell_type": "code",
      "metadata": {
        "colab": {
          "base_uri": "https://localhost:8080/"
        },
        "id": "DF9d-_k6A2r0",
        "outputId": "f021415c-4334-43d1-eef7-5d07d7a29975"
      },
      "source": [
        "\"\"\"\n",
        "Minimum XOR of at most K elements in range [L, R]\n",
        "You are given three integers L, R, and K, \n",
        "write a program to find the minimum Bitwise XOR of at most K integers between [L, R].\n",
        "\"\"\"\n",
        "# Function for K=2\n",
        "def func2(L, R, K):\n",
        "    if (R - L >= 2):\n",
        "        return 1\n",
        "    return min(L, L ^ R)\n",
        " \n",
        "# Function for K=3\n",
        "def func3(L, R, K):\n",
        "    if ((R ^ L) > L and (R ^ L) < R):\n",
        "        return 0\n",
        "    return func2(L, R, K)\n",
        "   \n",
        "# Function for K=4\n",
        "def func4(L, R, K):\n",
        "    if (R - L >= 4):\n",
        "        return 0\n",
        "    minval = L ^ (L + 1) ^ (L + 2) ^ (L + 3)\n",
        "    return min(minval, func3(L, R, K))\n",
        "   \n",
        "# Function to calculate the minimum XOR of at most K\n",
        "# elements in [L, R]\n",
        "def minimumXor(L, R, K):\n",
        "    if (K > 4):\n",
        "        return 0\n",
        "    elif (K == 4):\n",
        "        return func4(L, R, K)\n",
        "    elif (K == 3):\n",
        "        return func3(L, R, K)\n",
        "    elif (K == 2):\n",
        "        return func2(L, R, K)\n",
        "    else:\n",
        "        return L\n",
        " \n",
        "# Driver code\n",
        "if __name__ == '__main__':\n",
        "  try:\n",
        "    L,R,K=[int(item) for item in input().split()]\n",
        "    if L<R and R>0 and L>0:\n",
        "      print(minimumXor(L, R, K))\n",
        "    else:\n",
        "      print()\n",
        "  except:\n",
        "    print()"
      ],
      "execution_count": null,
      "outputs": [
        {
          "output_type": "stream",
          "text": [
            "2\n",
            "\n"
          ],
          "name": "stdout"
        }
      ]
    },
    {
      "cell_type": "markdown",
      "metadata": {
        "id": "_FeLS_4NVhhp"
      },
      "source": [
        "#28"
      ]
    },
    {
      "cell_type": "code",
      "metadata": {
        "colab": {
          "base_uri": "https://localhost:8080/"
        },
        "id": "NQQA_9k1UGV_",
        "outputId": "b7b34042-bb69-40ea-b82b-da1519415e27"
      },
      "source": [
        "\"\"\"\n",
        "Find two numbers made up of a given digit such that their difference is divisible by N\n",
        "The User enters two numbers, N and M, \n",
        "write a program to find two numbers made up of M as all its digits such that their difference is divisible by N. \n",
        "\"\"\"\n",
        "def findNumbers(N, M):\n",
        "    m = M\n",
        "    remLen = {}\n",
        "    for len1 in range(1, N + 1, 1):\n",
        "        remainder = M % N\n",
        "        if (remLen.get(remainder) == None):\n",
        "        #insert lenght of remainder\n",
        "            remLen[remainder] = len1\n",
        "        else:\n",
        "            break\n",
        "        M = M * 10 + m\n",
        "        M = M % N\n",
        "    LenA = len1\n",
        "    LenB = remLen[remainder]\n",
        " \n",
        "    for i in range(LenB):\n",
        "        print(m, end = \"\")\n",
        "    print(\" \", end = \"\")\n",
        "     \n",
        "    for i in range(LenA):\n",
        "        print(m, end = \"\")\n",
        " \n",
        "    return\n",
        " \n",
        "# Driver code\n",
        "if __name__ == '__main__':\n",
        "  try:\n",
        "    n,m=[int(item) for item in input().split()]\n",
        "    if n>0 and m>0:\n",
        "      findNumbers(n, m)\n",
        "  except:\n",
        "    print()"
      ],
      "execution_count": null,
      "outputs": [
        {
          "output_type": "stream",
          "text": [
            "13 1\n",
            "1 1111111"
          ],
          "name": "stdout"
        }
      ]
    },
    {
      "cell_type": "code",
      "metadata": {
        "colab": {
          "base_uri": "https://localhost:8080/"
        },
        "id": "sbQjTK1Jb2sr",
        "outputId": "028befee-06d0-4305-9f6a-b4420c191e6f"
      },
      "source": [
        "\"\"\"\n",
        "Recursive program to find the Sum of the series 1 – 1/2 + 1/3 – 1/4 … 1/N\n",
        "Given a positive integer N, the task is to find the sum of the series 1 – (1/2) + (1/3) – (1/4) +…. (1/N) using recursion.\n",
        "\n",
        "\"\"\"\n",
        "def sumOfSeries(i, n, s) :\n",
        "    if i>n :\n",
        "        return s\n",
        "    else :\n",
        "        # if its even we substract\n",
        "        if i % 2 == 0 :\n",
        "            s-= 1 / (i*i)\n",
        "        # if its odd we add\n",
        "        else :\n",
        "            s+= 1 / (i*i)\n",
        "        return sumOfSeries(i + 1, n, s)\n",
        "if __name__ == \"__main__\":\n",
        "  try:\n",
        "    N= int(input())\n",
        "    print(sumOfSeries(1, N, 0))\n",
        "  except:\n",
        "    print()"
      ],
      "execution_count": null,
      "outputs": [
        {
          "output_type": "stream",
          "text": [
            "30\n",
            "0.8219299758791043\n"
          ],
          "name": "stdout"
        }
      ]
    },
    {
      "cell_type": "code",
      "metadata": {
        "colab": {
          "base_uri": "https://localhost:8080/"
        },
        "id": "h5pM-Vy_WQSU",
        "outputId": "aff31d6c-4cc5-4b50-bfd2-7b4b72234d09"
      },
      "source": [
        "\"\"\"\n",
        "Find K numbers with sum equal to N and sum of their squares maximized\n",
        "you are given two integers N and K, \n",
        "write a program to find K numbers(A1, A2, …, AK) such that A1+A2+A3...AK is equal to N and A1^2+A2^2+A3^2 is maximum.\n",
        "\"\"\"\n",
        "#a^2 b^b is always less than 1+ (a+b-1)^2\n",
        "def printKNumbers(N, K):\n",
        "    for i in range(K - 1):\n",
        "        print(1, end = ' ')\n",
        "    print(N - K + 1)\n",
        "     \n",
        "# Driver code\n",
        "if __name__=='__main__':\n",
        "  try:\n",
        "    N,K=[int(item) for item in input().split()]\n",
        "    if N>0 and K>0:\n",
        "      printKNumbers(N, K)\n",
        "    else:\n",
        "      print()\n",
        "  except:\n",
        "    print()"
      ],
      "execution_count": null,
      "outputs": [
        {
          "output_type": "stream",
          "text": [
            "999 77\n",
            "1 1 1 1 1 1 1 1 1 1 1 1 1 1 1 1 1 1 1 1 1 1 1 1 1 1 1 1 1 1 1 1 1 1 1 1 1 1 1 1 1 1 1 1 1 1 1 1 1 1 1 1 1 1 1 1 1 1 1 1 1 1 1 1 1 1 1 1 1 1 1 1 1 1 1 1 923\n"
          ],
          "name": "stdout"
        }
      ]
    },
    {
      "cell_type": "code",
      "metadata": {
        "colab": {
          "base_uri": "https://localhost:8080/"
        },
        "id": "qi13QVp2b0z-",
        "outputId": "fdf23d96-fbde-4423-b57c-0a6fdbc567bf"
      },
      "source": [
        "\"\"\"\n",
        "Variance and standard-deviation of a matrix\n",
        "You are Given a matrix of size n*n. We have to calculate variance and standard-deviation of given matrix. \n",
        "3\n",
        "1 2 3 4 5 6 7 8 9\n",
        "5 6 2\n",
        "here the first line is the n in n*n\n",
        "\"\"\"\n",
        "import math\n",
        "def mean(a, n):\n",
        "    sum = 0\n",
        "    for i in range(n):\n",
        "        for j in range(n):\n",
        "            sum += a[i][j]\n",
        "     \n",
        "    # mean = sum/number of observations\n",
        "    return sum / (n * n)\n",
        "def variance(a, n, m):\n",
        "    sum = 0;\n",
        "    for i in range(n):\n",
        "        for j in range(n):\n",
        "\n",
        "            a[i][j] -= m\n",
        "            a[i][j] *= a[i][j]\n",
        " \n",
        "    # taking sum\n",
        "    for i in range(n):\n",
        "        for j in range(n):\n",
        "            sum += a[i][j]\n",
        " \n",
        "    return sum / (n * n)\n",
        " \n",
        "# Driver Code\n",
        "if __name__==\"__main__\":\n",
        "  try:\n",
        "    n=int(input())\n",
        "    A=[int(item) for item in input().split()]\n",
        "  except:\n",
        "    A=[]\n",
        "    n=0\n",
        "  if n>1 and len(A)== n*n:\n",
        "    mat=[]\n",
        "    for i in range(0,len(A),n):\n",
        "      mat.append(A[i:i+n])\n",
        "    #print(mat)\n",
        "    m = mean(mat, n)\n",
        "    var = variance(mat, n, m)\n",
        "    dev = math.sqrt(var)\n",
        "    print(\"%.2f\"%m,end=\" \")\n",
        "    print(\"%.2f\"%var,end=\" \")\n",
        "    print(\"%.2f\"%dev,end=\" \")\n",
        "    \n",
        "  else:\n",
        "    print()\n"
      ],
      "execution_count": null,
      "outputs": [
        {
          "output_type": "stream",
          "text": [
            "4\n",
            "1 -8 9 2 5 6 -7 2 1 2 3 4 5 6 -7 8\n",
            "2.00 25.25 5.02 "
          ],
          "name": "stdout"
        }
      ]
    },
    {
      "cell_type": "markdown",
      "metadata": {
        "id": "XwHCaniCBM1S"
      },
      "source": [
        "#29"
      ]
    },
    {
      "cell_type": "code",
      "metadata": {
        "id": "LMNgoHlBkjll",
        "colab": {
          "base_uri": "https://localhost:8080/"
        },
        "outputId": "82065079-e5a8-4037-da0f-1ca618be0861"
      },
      "source": [
        "\"\"\"\n",
        "Split the string into minimum parts such that each part is a substing or another string\n",
        "You are given two strings A and B, \n",
        "write a program to split the string A into \n",
        "the minimum number of substrings such that each substring is in the string B.\n",
        "return -1 if there are no such substrings.\n",
        "abcdab dabc\n",
        "2\n",
        "abc and dab are the 2 ways\n",
        "\"\"\"\n",
        "INF = 1e9 + 9\n",
        " \n",
        "# Node of Trie\n",
        "class TrieNode():\n",
        "    def __init__(self):\n",
        " \n",
        "        self.child = [None] * 26\n",
        " \n",
        "#inserting node to trie\n",
        "def insert(idx, s, root):\n",
        "    temp = root\n",
        "    for i in range(idx, len(s)):\n",
        "        #inserting every character into trie\n",
        "        if temp.child[ord(s[i]) -\n",
        "                      ord('a')] == None:\n",
        "             #making new node for missing characters\n",
        "            temp.child[ord(s[i]) -\n",
        "                       ord('a')] = TrieNode()\n",
        " \n",
        "        temp = temp.child[ord(s[i]) - ord('a')]\n",
        "def minCuts(S1, S2):\n",
        "     \n",
        "    n1 = len(S1)\n",
        "    n2 = len(S2)\n",
        " \n",
        "    # Making a new trie\n",
        "    root = TrieNode()\n",
        " \n",
        "    for i in range(n2):\n",
        "         \n",
        "        # Inserting every substring of S2 in trie\n",
        "        insert(i, S2, root)\n",
        " \n",
        "    # Creating dp array and init it with infinity\n",
        "    dp = [INF] * (n1 + 1)\n",
        " \n",
        "    # Base Case\n",
        "    dp[0] = 0\n",
        " \n",
        "    for i in range(n1):\n",
        "         \n",
        "        # Starting the cut from ith character\n",
        "        # taking temporary node pointer\n",
        "        # for checking whether the substring\n",
        "        # [i, j) is present in trie of not\n",
        "        temp = root\n",
        "        for j in range(i + 1, n1 + 1):\n",
        "            if temp.child[ord(S1[j - 1]) -\n",
        "                          ord('a')] == None:\n",
        "                 \n",
        "                # If the jth character is not\n",
        "                # in trie we'll break\n",
        "                break\n",
        " \n",
        "            # Updating the the ending of\n",
        "            # jth character with dp[i] + 1\n",
        "            dp[j] = min(dp[j], dp[i] + 1)\n",
        " \n",
        "            # Descending the trie pointer\n",
        "            temp = temp.child[ord(S1[j - 1]) -\n",
        "                              ord('a')]\n",
        " \n",
        "    # Answer not possible\n",
        "    if dp[n1] >= INF:\n",
        "        return -1\n",
        "    else:\n",
        "        return dp[n1]\n",
        " \n",
        "if __name__ == \"__main__\":\n",
        "  S1=input()\n",
        "  S2=input()\n",
        "  try:\n",
        "    print(minCuts(S1, S2))\n",
        "  except:\n",
        "    print()"
      ],
      "execution_count": 14,
      "outputs": [
        {
          "output_type": "stream",
          "text": [
            "0101010101\n",
            "10\n",
            "\n"
          ],
          "name": "stdout"
        }
      ]
    },
    {
      "cell_type": "code",
      "metadata": {
        "colab": {
          "base_uri": "https://localhost:8080/"
        },
        "id": "oU9KjLjCHmnR",
        "outputId": "fe756c58-b5c9-4c6f-b11f-8e20355aca64"
      },
      "source": [
        "\"\"\"\n",
        "Find all even length binary sequences with same sum of first and second half bits\n",
        "Given a number n, find all binary sequences of length 2n such that sum of first n bits is same as sum of last n bits.\n",
        "N = 2\n",
        "0101 1111 1001 0110 0000 1010\n",
        "\"\"\"\n",
        "def findAllSequences(diff, out, start, end):\n",
        "    # max difference will be 2n\n",
        "    if (abs(diff) > (end - start + 1) // 2):\n",
        "        return \n",
        "    if (start > end):\n",
        "        # same sum of first and last n bits\n",
        "        if (diff == 0):\n",
        "            print(''.join(list(out)),end=\" \") \n",
        "        return \n",
        " \n",
        "    # fill first bit as 0 and last bit as 1\n",
        "    out[start] = '0' \n",
        "    out[end] = '1' \n",
        "    findAllSequences(diff + 1, out, start + 1, end - 1) \n",
        " \n",
        "    # fill first and last bits as 1\n",
        "    out[start] = out[end] = '1' \n",
        "    findAllSequences(diff, out, start + 1, end - 1) \n",
        " \n",
        "    # fill first and last bits as 0\n",
        "    out[start] = out[end] = '0' \n",
        "    findAllSequences(diff, out, start + 1, end - 1) \n",
        " \n",
        "    # fill first bit as 1 and last bit as 0\n",
        "    out[start] = '1' \n",
        "    out[end] = '0' \n",
        "    findAllSequences(diff - 1, out, start + 1, end - 1) \n",
        " \n",
        "# Driver program\n",
        "if __name__ == \"__main__\":\n",
        "  try:\n",
        "    n =int(input())\n",
        "    if n>0:\n",
        "      out=[\"\"]*(2*n)\n",
        "      findAllSequences(0, out, 0, 2*n - 1) \n",
        "    else:\n",
        "      print()\n",
        "  except:\n",
        "    print()"
      ],
      "execution_count": 21,
      "outputs": [
        {
          "output_type": "stream",
          "text": [
            "4\n",
            "00110011 01110111 01010011 01111011 01100011 00110101 00010001 00111001 00100001 01010101 01111101 01100101 01011001 01000001 01101001 10110111 10010011 10111011 10100011 11010111 11111111 11100111 11011011 11000011 11101011 10010101 10111101 10100101 10011001 10000001 10101001 11011101 11000101 11101101 11001001 00110110 00010010 00111010 00100010 01010110 01111110 01100110 01011010 01000010 01101010 00010100 00111100 00100100 00011000 00000000 00101000 01011100 01000100 01101100 01001000 10010110 10111110 10100110 10011010 10000010 10101010 11011110 11000110 11101110 11001010 10011100 10000100 10101100 10001000 11001100 "
          ],
          "name": "stdout"
        }
      ]
    },
    {
      "cell_type": "code",
      "metadata": {
        "colab": {
          "base_uri": "https://localhost:8080/"
        },
        "id": "yDSBKCBKPADN",
        "outputId": "5ba49db4-58cc-40de-cc6b-255b9bbff3ef"
      },
      "source": [
        "\"\"\"\n",
        "Divide cuboid into cubes such that sum of volumes is maximum\n",
        "The user inputs the length, breadth, height of a cuboid. \n",
        "Write a program to divide the given cuboid in minimum \n",
        "number of cubes such that size of all cubes is same and sum of volumes of cubes is maximum. \n",
        "\"\"\"\n",
        "def gcd(a,b):\n",
        "    if(b==0):\n",
        "        return a\n",
        "    else:\n",
        "        return gcd(b,a%b)\n",
        "def maximizecube( l , b , h ):\n",
        " \n",
        "    # GCD to find side.\n",
        "    side = gcd(l, gcd(b, h))\n",
        "     \n",
        "    # dividing to find number of cubes.\n",
        "    num = int(l / side)\n",
        "    num = int(num * b / side)\n",
        "    num = int(num * h / side)\n",
        "     \n",
        "    print(side, num)\n",
        "if __name__==\"__main__\":\n",
        "  try:\n",
        "    l,b,h=[int(item) for item in input().split()]\n",
        "  except:\n",
        "    l,b,h=0,0,0\n",
        "  if l>0 and b>0 and h>0: \n",
        "    maximizecube(l, b, h)\n",
        "  else:\n",
        "    print()"
      ],
      "execution_count": 24,
      "outputs": [
        {
          "output_type": "stream",
          "text": [
            "65 89 741\n",
            "1 4286685\n"
          ],
          "name": "stdout"
        }
      ]
    },
    {
      "cell_type": "code",
      "metadata": {
        "colab": {
          "base_uri": "https://localhost:8080/"
        },
        "id": "Dj1GcCItTRwy",
        "outputId": "91ebb7e2-ace7-4fde-dade-6cb719fda5b0"
      },
      "source": [
        "\"\"\"\n",
        "Pattern without a loop\n",
        "you are given a positive  integer N.\n",
        "write a program to print the series without any loop. \n",
        "N=5:\n",
        "5 0 5\n",
        "N=15\n",
        "15 10 5 0 5 10 15 \n",
        "N=26\n",
        "26 21 16 11 6 1 -4 1 6 11 16 21 26 \n",
        "\"\"\"\n",
        "def printPattern(n):\n",
        "    if (n == 0 or n < 0):\n",
        "        print(n, end = \" \")\n",
        "        return\n",
        "    print(n, end = \" \")\n",
        "    printPattern(n - 5)\n",
        "    print(n, end = \" \")\n",
        "if __name__==\"__main__\":\n",
        "  try:\n",
        "    n=int(input())\n",
        "    if n>0:\n",
        "      printPattern(n)\n",
        "    else:\n",
        "      print()\n",
        "  except:\n",
        "    print()"
      ],
      "execution_count": 9,
      "outputs": [
        {
          "output_type": "stream",
          "text": [
            "53\n",
            "53 48 43 38 33 28 23 18 13 8 3 -2 3 8 13 18 23 28 33 38 43 48 53 "
          ],
          "name": "stdout"
        }
      ]
    },
    {
      "cell_type": "markdown",
      "metadata": {
        "id": "WjpdlAXHGvNj"
      },
      "source": [
        "#30"
      ]
    },
    {
      "cell_type": "code",
      "metadata": {
        "colab": {
          "base_uri": "https://localhost:8080/"
        },
        "id": "vBWPhKGbE0wx",
        "outputId": "0d12198d-1360-46ba-8490-da944006305b"
      },
      "source": [
        "\"\"\"\n",
        "Check if a permutation of a number N without any leading zeros is a power of 2 or not\n",
        "you are given an integer N, \n",
        "write a program to check if any permutation of N without any leading zeros is a power of 2. \n",
        "If any such permutation of the given number exists, then print that permutation. \n",
        "Otherwise, print -1\n",
        "\"\"\"\n",
        "\n",
        "def updateFreq(n, freq):\n",
        "  # while there are digits\n",
        "    #count frequency\n",
        "    while (n):\n",
        "        digit = n %  10\n",
        "        freq[digit] += 1\n",
        "        n //=  10\n",
        "def areAnagrams(a, b):\n",
        "  #checking whether two numbers are same \n",
        "    freqA = [0] * ( 10)\n",
        "    freqB = [0] * ( 10)\n",
        "    updateFreq(a, freqA)\n",
        "    updateFreq(b, freqB)\n",
        "    for i in range( 10):\n",
        "        if (freqA[i] != freqB[i]):\n",
        "            return False\n",
        "    return True\n",
        "def isPowerOf2(N):\n",
        "     #checking all the 2 power of 32 bit number\n",
        "    for i in range(32):\n",
        "        if (areAnagrams(1 << i, N)):\n",
        "            return 1 << i\n",
        "         \n",
        "    return -1\n",
        "if __name__ == \"__main__\":\n",
        "  try:\n",
        "    n =int(input())\n",
        "    if n>0:\n",
        "      print(isPowerOf2(n)) \n",
        "    else:\n",
        "      print()\n",
        "  except:\n",
        "    print()"
      ],
      "execution_count": 14,
      "outputs": [
        {
          "output_type": "stream",
          "text": [
            "8160457\n",
            "1048576\n"
          ],
          "name": "stdout"
        }
      ]
    },
    {
      "cell_type": "code",
      "metadata": {
        "colab": {
          "base_uri": "https://localhost:8080/"
        },
        "id": "eoOpyNurHjTU",
        "outputId": "63c37603-e222-4c22-f7f8-37f47335f018"
      },
      "source": [
        "\"\"\"\n",
        "Number of integers x in range (1,N) for which x and x+1 have same number of divisors.\n",
        "you are given an integer N. \n",
        "write a program to find the number of integers 1 < x < N, for which x and x + 1 have the same number of positive divisors.\n",
        "eg:\n",
        "3\n",
        "1\n",
        "explanation\n",
        "the first line is n \n",
        "output is 1\n",
        "1 only 1\n",
        "2 only 1 and 2\n",
        "3 only 1 and 3\n",
        "\n",
        "2 is only valid x\n",
        "\"\"\"\n",
        "from math import sqrt\n",
        "N = 100000\n",
        "d = [0] * N\n",
        "pre = [0] * N\n",
        "def Positive_Divisors() :\n",
        "    for i in range(N) :\n",
        "        for j in range(1, int(sqrt(i)) + 1) :\n",
        "            if (i % j == 0) :\n",
        "                if (j * j == i) :\n",
        "                    d[i] += 1\n",
        "                else :\n",
        "                    d[i] += 2\n",
        "    ans = 0\n",
        "    for i in range(2, N) :\n",
        "        if (d[i] == d[i - 1]) :\n",
        "            ans += 1\n",
        "        pre[i] = ans\n",
        "     \n",
        "if __name__ == \"__main__\" :\n",
        "  try:\n",
        "    n=int(input())\n",
        "    if n>0: \n",
        "      Positive_Divisors()\n",
        "      print(pre[n])\n",
        "    else:\n",
        "      print()\n",
        "  except:\n",
        "    print()"
      ],
      "execution_count": 24,
      "outputs": [
        {
          "output_type": "stream",
          "text": [
            "56\n",
            "8\n"
          ],
          "name": "stdout"
        }
      ]
    },
    {
      "cell_type": "code",
      "metadata": {
        "colab": {
          "base_uri": "https://localhost:8080/"
        },
        "id": "ejJ_ldpFK-k3",
        "outputId": "c22ab8fb-cae2-45d1-a028-f040946a03cc"
      },
      "source": [
        "\"\"\"\n",
        "Is it possible to make two strings can be made equal by reversing a substring of one of the strings\n",
        "Given two strings S1 and S2 of length N, the task is to check if both the strings can be made equal by reversing any substring of X exactly once. If it is possible, then print True. Otherwise, print False.\n",
        "for eg\n",
        "adcbef\n",
        "abcdef\n",
        "True\n",
        "if we reverse dcb we get same strings\n",
        "\"\"\"\n",
        "def checkString(X, Y):\n",
        "    L = -1\n",
        "    R = -1\n",
        "    #first index from the left\n",
        "    for i in range(len(X)):\n",
        "        if (X[i] != Y[i]):\n",
        " \n",
        "            # Storing current index\n",
        "            L = i\n",
        "            break\n",
        " \n",
        "    # first index from the right\n",
        "    for i in range(len(X) - 1, 0, -1):\n",
        "        if (X[i] != Y[i]):\n",
        "             \n",
        "            # Storing the current index\n",
        "            R = i\n",
        "            break\n",
        " \n",
        "    X = list(X)\n",
        "     \n",
        "    X = X[:L] + X[R  : L - 1 : -1 ] + X[R + 1:]\n",
        "    if (X == list(Y)):\n",
        "        print(True)\n",
        " \n",
        "    # Otherwise\n",
        "    else:\n",
        "        print(False)\n",
        " \n",
        "# Driver Code\n",
        "if __name__ == \"__main__\" :\n",
        "  try:\n",
        "    s1=input()\n",
        "    s2=input()\n",
        "    checkString(s1,s2)\n",
        "  except:\n",
        "    print(False)"
      ],
      "execution_count": 33,
      "outputs": [
        {
          "output_type": "stream",
          "text": [
            "-1-1-13\n",
            "-1-13-1\n",
            "False\n"
          ],
          "name": "stdout"
        }
      ]
    },
    {
      "cell_type": "code",
      "metadata": {
        "colab": {
          "base_uri": "https://localhost:8080/"
        },
        "id": "ymUCohbDOoEp",
        "outputId": "48248f32-e97b-47b0-8b28-01794f7307c4"
      },
      "source": [
        "\"\"\"\n",
        "Maximum types of candies a person can eat if only N/2 of them can be eaten\n",
        "you are given an array Arr[] of N candies, with N being an even number and arr[i] representing the type of candy. \n",
        "write a program to find the maximum number of different types of candies that can be eaten by a person if only N/2 of them are edible.\n",
        "1 2 2 3 4 4 5 1\n",
        "4\n",
        "the person can eat a maximum of 4 types of candy and there are 5 types o candies in tha array\n",
        "\"\"\"\n",
        "def num_candyTypes(candies):\n",
        "   # hash set to store candies\n",
        "    s =  set()\n",
        "    # traversing array to store candies\n",
        "    for i in range(len(candies)):\n",
        "        s.add(candies[i])\n",
        "    return len(s)\n",
        " \n",
        "def distribute_candies(candies):\n",
        "    allowed = len(candies)/2\n",
        "    types = num_candyTypes(candies)\n",
        "    if (types < allowed):\n",
        "        print(int(types))\n",
        "    else:\n",
        "        print(int(allowed))\n",
        " \n",
        "# Driver Code\n",
        "if __name__ == '__main__':\n",
        "  try:\n",
        "    Arr=[int(item) for item in input().split()]\n",
        "  except:\n",
        "    Arr=[]\n",
        "  if len(Arr)%2==0 and len(Arr)>0:\n",
        "    distribute_candies(Arr)\n",
        "  else:\n",
        "    print()\n",
        "  "
      ],
      "execution_count": 6,
      "outputs": [
        {
          "output_type": "stream",
          "text": [
            "2 2 2 2 2 2 2 2 \n",
            "1\n"
          ],
          "name": "stdout"
        }
      ]
    },
    {
      "cell_type": "code",
      "metadata": {
        "id": "zOXf4EBUSYoI"
      },
      "source": [
        ""
      ],
      "execution_count": null,
      "outputs": []
    }
  ]
}