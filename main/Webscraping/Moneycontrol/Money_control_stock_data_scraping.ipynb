{
  "nbformat": 4,
  "nbformat_minor": 0,
  "metadata": {
    "kernelspec": {
      "display_name": "Python 3",
      "language": "python",
      "name": "python3"
    },
    "language_info": {
      "codemirror_mode": {
        "name": "ipython",
        "version": 3
      },
      "file_extension": ".py",
      "mimetype": "text/x-python",
      "name": "python",
      "nbconvert_exporter": "python",
      "pygments_lexer": "ipython3",
      "version": "3.8.1"
    },
    "colab": {
      "name": "Money_control_stock_data_scraping.ipynb",
      "provenance": [],
      "include_colab_link": true
    }
  },
  "cells": [
    {
      "cell_type": "markdown",
      "metadata": {
        "id": "view-in-github",
        "colab_type": "text"
      },
      "source": [
        "<a href=\"https://colab.research.google.com/github/DibyaSadhukhan/Portfolio/blob/main/main/Webscraping/Moneycontrol/Money_control_stock_data_scraping.ipynb\" target=\"_parent\"><img src=\"https://colab.research.google.com/assets/colab-badge.svg\" alt=\"Open In Colab\"/></a>"
      ]
    },
    {
      "cell_type": "code",
      "metadata": {
        "id": "aPTy3Za_9BQi"
      },
      "source": [
        "#importing required packages\n",
        "import bs4\n",
        "from bs4 import BeautifulSoup\n",
        "import requests\n",
        "import pandas as pd\n",
        "import numpy as np\n",
        "import random\n",
        "import time"
      ],
      "execution_count": 2,
      "outputs": []
    },
    {
      "cell_type": "code",
      "metadata": {
        "id": "CUHJZ4N_-wET"
      },
      "source": [
        "def allele(lists):\n",
        "    #since the entries are a list of lists \n",
        "    #this function takes in a list of lists and returns the elements in the list of list in a list of dimension (n,1)\n",
        "    ele=[]\n",
        "    for elements in reversed(lists):\n",
        "        for element in elements:\n",
        "            ele.append(element)\n",
        "    return ele\n",
        "def urlgenpar(year,bigmonth,endmonth):\n",
        "    #since the data begins from april 2007 so we need a function to generate the url for years with less than 12 months\n",
        "    #this function takes in the year the beginning month and end months and returns a list of url \n",
        "    url=[]\n",
        "    for month in range(bigmonth,endmonth+1):\n",
        "        #since the url have 04 05 for the months of april etc we need to add the 0 externally\n",
        "        if month<10:\n",
        "            url.append('https://www.moneycontrol.com/techmvc/responsive/fiidii/monthly?month=0'+str(month)+'&year='+str(year)+'&section=cash&sub_section=')\n",
        "        else:\n",
        "            url.append('https://www.moneycontrol.com/techmvc/responsive/fiidii/monthly?month='+str(month)+'&year='+str(year)+'&section=cash&sub_section=')\n",
        "    return url\n",
        "def urlgenfull(year):\n",
        "    #this function creates a url list of the entirity of the year provided\n",
        "    #this function takes in the year as a parameter and returns the generated url list as the output \n",
        "    url=[]\n",
        "    for month in range(1,13):\n",
        "        if month<10:\n",
        "            #since the url have 04 05 for the months of april etc we need to add the 0 externally\n",
        "            url.append('https://www.moneycontrol.com/techmvc/responsive/fiidii/monthly?month=0'+str(month)+'&year='+str(year)+'&section=cash&sub_section=')\n",
        "        else:\n",
        "            url.append('https://www.moneycontrol.com/techmvc/responsive/fiidii/monthly?month='+str(month)+'&year='+str(year)+'&section=cash&sub_section=')\n",
        "    return url\n",
        "\n"
      ],
      "execution_count": 3,
      "outputs": []
    },
    {
      "cell_type": "code",
      "metadata": {
        "colab": {
          "base_uri": "https://localhost:8080/"
        },
        "id": "PfA3fb6R9BQn",
        "outputId": "6ce9a43c-7ad6-4a2c-d80f-de8a47a7a9ec"
      },
      "source": [
        "def datawriter(url):\n",
        "    #this function writes the data for the entire year and reshapes it into the dimensions of the table.\n",
        "    #this function takes in the url list as a paramenter and returns a (Nx7) array as an output\n",
        "    data=[]\n",
        "    for base in url: \n",
        "        #opening every individual urls to extract their data\n",
        "        headers = {'User-Agent' : 'Mozilla/5.0 (Windows NT 6.3; Win64; x64) AppleWebKit/537.36 (KHTML, like Gecko) Chrome/80.0.3987.162 Safari/537.36'}\n",
        "        webPage = requests.post(base, headers = headers).text\n",
        "        soup = BeautifulSoup(webPage, 'lxml')\n",
        "        text=[]\n",
        "        #td tags also have the column names so we skipp the first 3 elements of the list\n",
        "        for tag in soup.find_all('td'):\n",
        "            text.append(tag.text.strip())\n",
        "        data.append(text[3:])\n",
        "        time.sleep(random.randint(1,2))\n",
        "    #changging the dimension of the list from list of lists to (nx1)\n",
        "    data=allele(data)\n",
        "    data.reverse()\n",
        "    #print(data)\n",
        "    arr = np.array(data)\n",
        "    #since there are 7 rows and we dont have missing data we divide the total length by 7 and make it into a (nx7) matrix\n",
        "    arr = arr.reshape(int(len(arr)/7),7)\n",
        "    return arr\n",
        "def createDirectory(directory):\n",
        "  import os.path\n",
        "  from os import path\n",
        "  if path.exists(directory) == False:\n",
        "    os.mkdir(directory)\n",
        "    print(\"Created :\",directory)\n",
        "  else:\n",
        "    print(\"Directory already exists\")\n",
        "def writedatapar(year,bigmonth,endmonth):\n",
        "    #this function writes the data for the partial year and appends it to the stock data csv.\n",
        "    #this function takes in the year with the diffent months as theparamenter and writes it in the stock data csv\n",
        "    url=urlgenpar(year,bigmonth,endmonth)\n",
        "    arr=datawriter(url)\n",
        "    print(\"Writing file...\")\n",
        "    df2 = pd.DataFrame(arr) \n",
        "    createDirectory('/content/Data')\n",
        "    try:\n",
        "        #if the stockdata.csv exists open it\n",
        "        path='Data/StockData.csv'\n",
        "        df = pd.read_csv(path,header=None)\n",
        "\n",
        "    except:\n",
        "        #if it throws error create a csv with two rows of 7 columns with 0s in them which can be removed later\n",
        "        df = pd.DataFrame([[0,0,0,0,0,0,0],[0,0,0,0,0,0,0]])\n",
        "        df.to_csv('Data/StockData.csv',index=False)\n",
        "        path='Data/StockData.csv'\n",
        "        df = pd.read_csv(path,header=None)\n",
        "    df=df.append(df2)\n",
        "\n",
        "    df.to_csv('Data/StockData.csv',index=False)\n",
        "\n",
        "def writedatafull(year):\n",
        "    #this function writes the data for the full year and appends it to the stock data csv.\n",
        "    #this function takes in the year with the diffent months as theparamenter and writes it in the stock data csv\n",
        "    url=urlgenfull(year)\n",
        "    arr=datawriter(url)\n",
        "    df2 = pd.DataFrame(arr) \n",
        "    createDirectory('/content/Data')\n",
        "    try:\n",
        "        path='Data/StockData.csv'\n",
        "        df = pd.read_csv(path,header=None)\n",
        "    except:\n",
        "        df = pd.DataFrame([[0,0,0,0,0,0,0],[0,0,0,0,0,0,0]])\n",
        "        df.to_csv('Data/StockData.csv',index=False)\n",
        "        path='Data/StockData.csv'\n",
        "        df = pd.read_csv(path,header=None)\n",
        "    df=df.append(df2)\n",
        "    df.to_csv('Data/StockData.csv',index=False)\n",
        "#writedatapar(2007,4,12)\n",
        "for i in range(2008,2022):\n",
        "    writedatafull(i)\n",
        "print(\"data saved at /Data/StockData.csv\" )\n",
        "#print(df.head(10))\n",
        "#df.to_csv('Data/StockData.csv',index=False)"
      ],
      "execution_count": 4,
      "outputs": [
        {
          "output_type": "stream",
          "text": [
            "Created : /content/Data\n",
            "Directory already exists\n",
            "Directory already exists\n",
            "Directory already exists\n",
            "Directory already exists\n",
            "Directory already exists\n",
            "Directory already exists\n",
            "Directory already exists\n",
            "Directory already exists\n",
            "Directory already exists\n",
            "Directory already exists\n",
            "Directory already exists\n",
            "Directory already exists\n",
            "Directory already exists\n",
            "data saved at /Data/StockData.csv\n"
          ],
          "name": "stdout"
        }
      ]
    },
    {
      "cell_type": "code",
      "metadata": {
        "colab": {
          "base_uri": "https://localhost:8080/",
          "height": 203
        },
        "id": "yFizUyTJ9BQq",
        "outputId": "34c6e959-e8e6-45fe-fea3-c8e022216945"
      },
      "source": [
        "path='Data/StockData.csv'\n",
        "df = pd.read_csv(path,header=None)\n",
        "#end year -start year +3\n",
        "df2=df.iloc[((2022-2008)+3):]\n",
        "df2.columns=['DII Net purchase/Sales','DII gross Sales','DII Gross purchase','FII Net purchase/Sales','FII gross Sales','FII Gross purchase','Date']\n",
        "df2.head()"
      ],
      "execution_count": 3,
      "outputs": [
        {
          "output_type": "execute_result",
          "data": {
            "text/html": [
              "<div>\n",
              "<style scoped>\n",
              "    .dataframe tbody tr th:only-of-type {\n",
              "        vertical-align: middle;\n",
              "    }\n",
              "\n",
              "    .dataframe tbody tr th {\n",
              "        vertical-align: top;\n",
              "    }\n",
              "\n",
              "    .dataframe thead th {\n",
              "        text-align: right;\n",
              "    }\n",
              "</style>\n",
              "<table border=\"1\" class=\"dataframe\">\n",
              "  <thead>\n",
              "    <tr style=\"text-align: right;\">\n",
              "      <th></th>\n",
              "      <th>DII Net purchase/Sales</th>\n",
              "      <th>DII gross Sales</th>\n",
              "      <th>DII Gross purchase</th>\n",
              "      <th>FII Net purchase/Sales</th>\n",
              "      <th>FII gross Sales</th>\n",
              "      <th>FII Gross purchase</th>\n",
              "      <th>Date</th>\n",
              "    </tr>\n",
              "  </thead>\n",
              "  <tbody>\n",
              "    <tr>\n",
              "      <th>17</th>\n",
              "      <td>306.94</td>\n",
              "      <td>977.44</td>\n",
              "      <td>1,284.38</td>\n",
              "      <td>-461.41</td>\n",
              "      <td>1,350.10</td>\n",
              "      <td>888.69</td>\n",
              "      <td>01-Jan-2008</td>\n",
              "    </tr>\n",
              "    <tr>\n",
              "      <th>18</th>\n",
              "      <td>427.11</td>\n",
              "      <td>1,183.38</td>\n",
              "      <td>1,610.49</td>\n",
              "      <td>-628.68</td>\n",
              "      <td>4,426.81</td>\n",
              "      <td>3,798.13</td>\n",
              "      <td>02-Jan-2008</td>\n",
              "    </tr>\n",
              "    <tr>\n",
              "      <th>19</th>\n",
              "      <td>526.65</td>\n",
              "      <td>1,497.85</td>\n",
              "      <td>2,024.50</td>\n",
              "      <td>-244.56</td>\n",
              "      <td>5,654.54</td>\n",
              "      <td>5,409.98</td>\n",
              "      <td>03-Jan-2008</td>\n",
              "    </tr>\n",
              "    <tr>\n",
              "      <th>20</th>\n",
              "      <td>506.85</td>\n",
              "      <td>1,445.60</td>\n",
              "      <td>1,952.45</td>\n",
              "      <td>16.01</td>\n",
              "      <td>4,526.29</td>\n",
              "      <td>4,542.30</td>\n",
              "      <td>04-Jan-2008</td>\n",
              "    </tr>\n",
              "    <tr>\n",
              "      <th>21</th>\n",
              "      <td>327.64</td>\n",
              "      <td>1,479.00</td>\n",
              "      <td>1,806.64</td>\n",
              "      <td>-1,543.44</td>\n",
              "      <td>5,475.53</td>\n",
              "      <td>3,932.09</td>\n",
              "      <td>07-Jan-2008</td>\n",
              "    </tr>\n",
              "  </tbody>\n",
              "</table>\n",
              "</div>"
            ],
            "text/plain": [
              "   DII Net purchase/Sales DII gross Sales  ... FII Gross purchase         Date\n",
              "17                 306.94          977.44  ...             888.69  01-Jan-2008\n",
              "18                 427.11        1,183.38  ...           3,798.13  02-Jan-2008\n",
              "19                 526.65        1,497.85  ...           5,409.98  03-Jan-2008\n",
              "20                 506.85        1,445.60  ...           4,542.30  04-Jan-2008\n",
              "21                 327.64        1,479.00  ...           3,932.09  07-Jan-2008\n",
              "\n",
              "[5 rows x 7 columns]"
            ]
          },
          "metadata": {
            "tags": []
          },
          "execution_count": 3
        }
      ]
    },
    {
      "cell_type": "code",
      "metadata": {
        "id": "KKZ21zrN9BQu"
      },
      "source": [
        "df2.to_csv('Data/StockData.csv',index=False)"
      ],
      "execution_count": 4,
      "outputs": []
    },
    {
      "cell_type": "code",
      "metadata": {
        "id": "N1IDHtOkFPHq"
      },
      "source": [
        ""
      ],
      "execution_count": null,
      "outputs": []
    }
  ]
}