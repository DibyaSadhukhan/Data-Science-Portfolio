{
  "nbformat": 4,
  "nbformat_minor": 0,
  "metadata": {
    "kernelspec": {
      "display_name": "Python 3",
      "language": "python",
      "name": "python3"
    },
    "language_info": {
      "codemirror_mode": {
        "name": "ipython",
        "version": 3
      },
      "file_extension": ".py",
      "mimetype": "text/x-python",
      "name": "python",
      "nbconvert_exporter": "python",
      "pygments_lexer": "ipython3",
      "version": "3.8.1"
    },
    "colab": {
      "name": "Error_copy.ipynb",
      "provenance": []
    }
  },
  "cells": [
    {
      "cell_type": "code",
      "metadata": {
        "id": "rk4WhfwmPUn4"
      },
      "source": [
        "#importing required packages\n",
        "import pandas as pd\n",
        "import matplotlib.pyplot as plt\n",
        "from Parabolic_regression import Parabolic\n",
        "from sklearn.linear_model import LinearRegression\n",
        "from Exponential_regression import Exponential"
      ],
      "execution_count": 1,
      "outputs": []
    },
    {
      "cell_type": "code",
      "metadata": {
        "colab": {
          "base_uri": "https://localhost:8080/",
          "height": 203
        },
        "id": "g6ZpfsgiPUn8",
        "outputId": "48f2e035-83d1-413d-c212-1ec42923c288"
      },
      "source": [
        "#importing data\n",
        "path='rice-production.csv'\n",
        "df = pd.read_csv(path)\n",
        "df.columns = ['Region', 'Code','Year','Production']\n",
        "df.head()"
      ],
      "execution_count": 2,
      "outputs": [
        {
          "output_type": "execute_result",
          "data": {
            "text/html": [
              "<div>\n",
              "<style scoped>\n",
              "    .dataframe tbody tr th:only-of-type {\n",
              "        vertical-align: middle;\n",
              "    }\n",
              "\n",
              "    .dataframe tbody tr th {\n",
              "        vertical-align: top;\n",
              "    }\n",
              "\n",
              "    .dataframe thead th {\n",
              "        text-align: right;\n",
              "    }\n",
              "</style>\n",
              "<table border=\"1\" class=\"dataframe\">\n",
              "  <thead>\n",
              "    <tr style=\"text-align: right;\">\n",
              "      <th></th>\n",
              "      <th>Region</th>\n",
              "      <th>Code</th>\n",
              "      <th>Year</th>\n",
              "      <th>Production</th>\n",
              "    </tr>\n",
              "  </thead>\n",
              "  <tbody>\n",
              "    <tr>\n",
              "      <th>0</th>\n",
              "      <td>Afghanistan</td>\n",
              "      <td>AFG</td>\n",
              "      <td>1961</td>\n",
              "      <td>319000</td>\n",
              "    </tr>\n",
              "    <tr>\n",
              "      <th>1</th>\n",
              "      <td>Afghanistan</td>\n",
              "      <td>AFG</td>\n",
              "      <td>1962</td>\n",
              "      <td>319000</td>\n",
              "    </tr>\n",
              "    <tr>\n",
              "      <th>2</th>\n",
              "      <td>Afghanistan</td>\n",
              "      <td>AFG</td>\n",
              "      <td>1963</td>\n",
              "      <td>319000</td>\n",
              "    </tr>\n",
              "    <tr>\n",
              "      <th>3</th>\n",
              "      <td>Afghanistan</td>\n",
              "      <td>AFG</td>\n",
              "      <td>1964</td>\n",
              "      <td>380000</td>\n",
              "    </tr>\n",
              "    <tr>\n",
              "      <th>4</th>\n",
              "      <td>Afghanistan</td>\n",
              "      <td>AFG</td>\n",
              "      <td>1965</td>\n",
              "      <td>380000</td>\n",
              "    </tr>\n",
              "  </tbody>\n",
              "</table>\n",
              "</div>"
            ],
            "text/plain": [
              "        Region Code  Year  Production\n",
              "0  Afghanistan  AFG  1961      319000\n",
              "1  Afghanistan  AFG  1962      319000\n",
              "2  Afghanistan  AFG  1963      319000\n",
              "3  Afghanistan  AFG  1964      380000\n",
              "4  Afghanistan  AFG  1965      380000"
            ]
          },
          "metadata": {},
          "execution_count": 2
        }
      ]
    },
    {
      "cell_type": "markdown",
      "metadata": {
        "id": "_75x02PZPUn9"
      },
      "source": [
        "# India\n"
      ]
    },
    {
      "cell_type": "code",
      "metadata": {
        "id": "mJIAxkCwPUn-"
      },
      "source": [
        "codes=['IND','PAK','NPL','BGD','LKA','AFG','BTN']"
      ],
      "execution_count": 3,
      "outputs": []
    },
    {
      "cell_type": "code",
      "metadata": {
        "id": "FvQjnxKwPUn_"
      },
      "source": [
        "from sklearn.metrics import r2_score\n",
        "from sklearn.metrics import mean_squared_error    \n",
        "import math\n",
        "import csv\n",
        "for code in codes:\n",
        "    sample=df[df['Code']==code].copy()\n",
        "    #column_names = [\"Country\", \"Linear Regression r2\",, \"Parabolic Regression\",\"Exponential Regression\"]\n",
        "    pd.set_option('display.float_format', '{:.4f}'.format)\n",
        "    result = pd.DataFrame()\n",
        "    #splitting 83% 17% because the dataset is of 58 years\n",
        "    Y = sample['Production'].values\n",
        "    X = sample['Year'].values\n",
        "    size = int(len(X) * 0.83)\n",
        "    ytrain, ytest = Y[0:size], Y[size:len(Y)]\n",
        "    xtrain, xtest = X[0:size], X[size:len(X)]\n",
        "    string = \"\"\n",
        "    #Linear Regression\n",
        "    model = LinearRegression().fit(xtrain.reshape(-1,1),ytrain)\n",
        "    ypred=(model.predict(xtest.reshape(-1,1)))\n",
        "    r2 = r2_score(ytest,ypred)\n",
        "    rmse = math.sqrt(mean_squared_error(ytest,ypred))\n",
        "    string= string+code+\",\"+str(r2)+\",\"+str(rmse)\n",
        "    del model\n",
        "    del ypred\n",
        "    #parabolic Regression\n",
        "    model=Parabolic(xtrain,ytrain)\n",
        "    ypred=model.predict(xtest)\n",
        "    #print(ypred)\n",
        "    r2 = r2_score(ytest,ypred)\n",
        "    rmse = math.sqrt(mean_squared_error(ytest, ypred))\n",
        "    string= string+\",\"+str(r2)+\",\"+str(rmse)\n",
        "    del model\n",
        "    del ypred\n",
        "    #Exponential Regression\n",
        "    model=Exponential(xtrain,ytrain)\n",
        "    ypred=model.predict(xtest)\n",
        "    #print(ypred)\n",
        "    r2 = r2_score(ytest,ypred)\n",
        "    rmse = math.sqrt(mean_squared_error(ytest,ypred))\n",
        "    string= string+\",\"+str(r2)+\",\"+str(rmse)\n",
        "    del model\n",
        "    del ypred\n",
        "    datalist=[]\n",
        "    datalist.append(string.split(','))\n",
        "    with open(\"errortest.csv\", \"a\",errors='ignore') as csv_file:\n",
        "        writer = csv.writer(csv_file, delimiter=',')\n",
        "        for line in datalist:\n",
        "            writer.writerow(line)"
      ],
      "execution_count": 4,
      "outputs": []
    },
    {
      "cell_type": "code",
      "metadata": {
        "id": "WqD9JE9uPUoA"
      },
      "source": [
        "from sklearn.metrics import r2_score\n",
        "from sklearn.metrics import mean_squared_error    \n",
        "import math\n",
        "import csv\n",
        "for code in codes:\n",
        "    sample=df[df['Code']==code].copy()\n",
        "    #column_names = [\"Country\", \"Linear Regression r2\",, \"Parabolic Regression\",\"Exponential Regression\"]\n",
        "    pd.set_option('display.float_format', '{:.4f}'.format)\n",
        "    result = pd.DataFrame()\n",
        "    #splitting 83% 17% because the dataset is of 58 years\n",
        "    Y = sample['Production'].values\n",
        "    X = sample['Year'].values\n",
        "    size = int(len(X) * 0.83)\n",
        "    ytrain, ytest = Y[0:size], Y[size:len(Y)]\n",
        "    xtrain, xtest = X[0:size], X[size:len(X)]\n",
        "    string = \"\"\n",
        "    pred_data=\"\"\n",
        "    #Linear Regression\n",
        "    model = LinearRegression().fit(xtrain.reshape(-1,1),ytrain)\n",
        "    ypred=(model.predict(xtest.reshape(-1,1)))\n",
        "    ytrainpred=(model.predict(xtrain.reshape(-1,1)))\n",
        "    r2 = r2_score(ytrain,ytrainpred)\n",
        "    rmse = math.sqrt(mean_squared_error(ytrain,ytrainpred))\n",
        "    string= string+code+\",\"+str(r2)+\",\"+str(rmse)\n",
        "    pred_data=pred_data+code+\",\"+\";\".join(map(str, ypred))+','+\":\".join(map(str, ytainpred))\n",
        "    del model\n",
        "    del ypred\n",
        "    del ytrainpred\n",
        "    #parabolic Regression\n",
        "    model=Parabolic(xtrain,ytrain)\n",
        "    ypred=model.predict(xtest)\n",
        "    ytrainpred=model.predict(xtrain)\n",
        "    #print(ypred)\n",
        "    r2 = r2_score(ytrain,ytrainpred)\n",
        "    rmse = math.sqrt(mean_squared_error(ytrain, ytrainpred))\n",
        "    string= string+\",\"+str(r2)+\",\"+str(rmse)\n",
        "    pred_data=pred_data+code+\",\"+\";\".join(map(str, ypred))+','+\":\".join(map(str, ytainpred))\n",
        "    del model\n",
        "    del ypred\n",
        "    del ytrainpred\n",
        "    #Exponential Regression\n",
        "    model=Exponential(xtrain,ytrain)\n",
        "    ypred=model.predict(xtest)\n",
        "    ytrainpred=model.predict(xtrain)\n",
        "    #print(ypred)\n",
        "    r2 = r2_score(ytrain,ytrainpred)\n",
        "    rmse = math.sqrt(mean_squared_error(ytrain,ytrainpred))\n",
        "    string= string+\",\"+str(r2)+\",\"+str(rmse)\n",
        "    pred_data=pred_data+code+\",\"+\";\".join(map(str, ypred))+','+\":\".join(map(str, ytainpred))\n",
        "    del model\n",
        "    del ypred\n",
        "    del ytrainpred\n",
        "    datalist=[]\n",
        "    datalist.append(pred_data.split(','))\n",
        "    with open(\"preddata.csv\", \"a\",errors='ignore') as csv_file:\n",
        "        writer = csv.writer(csv_file, delimiter=',')\n",
        "        for line in datalist:\n",
        "            writer.writerow(line)"
      ],
      "execution_count": 11,
      "outputs": []
    },
    {
      "cell_type": "code",
      "metadata": {
        "id": "o4XKMgcaPUoA"
      },
      "source": [
        ""
      ],
      "execution_count": null,
      "outputs": []
    }
  ]
}